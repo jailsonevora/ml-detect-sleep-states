{
 "cells": [
  {
   "cell_type": "code",
   "execution_count": 1,
   "id": "90537adf",
   "metadata": {
    "_cell_guid": "12b19307-4321-4108-aafa-03a0cec91fdc",
    "_uuid": "523be573-4df4-4154-8657-7e07cc4f7984",
    "collapsed": false,
    "execution": {
     "iopub.execute_input": "2023-10-22T01:50:16.445146Z",
     "iopub.status.busy": "2023-10-22T01:50:16.443852Z",
     "iopub.status.idle": "2023-10-22T01:50:16.476346Z",
     "shell.execute_reply": "2023-10-22T01:50:16.475346Z"
    },
    "jupyter": {
     "outputs_hidden": false
    },
    "papermill": {
     "duration": 0.101687,
     "end_time": "2023-10-22T01:50:16.479091",
     "exception": false,
     "start_time": "2023-10-22T01:50:16.377404",
     "status": "completed"
    },
    "tags": []
   },
   "outputs": [
    {
     "name": "stdout",
     "output_type": "stream",
     "text": [
      "/kaggle/input/child-mind-institute-detect-sleep-states/train_series.parquet\n",
      "/kaggle/input/child-mind-institute-detect-sleep-states/sample_submission.csv\n",
      "/kaggle/input/child-mind-institute-detect-sleep-states/train_events.csv\n",
      "/kaggle/input/child-mind-institute-detect-sleep-states/test_series.parquet\n",
      "/kaggle/input/zzzs-lightweight-training-dataset-target/Zzzs_train.parquet\n",
      "/kaggle/input/zzzs-lightweight-training-dataset-target/Zzzs_train_multi.parquet\n"
     ]
    }
   ],
   "source": [
    "# This Python 3 environment comes with many helpful analytics libraries installed\n",
    "# It is defined by the kaggle/python Docker image: https://github.com/kaggle/docker-python\n",
    "# For example, here's several helpful packages to load\n",
    "\n",
    "import numpy as np # linear algebra\n",
    "import pandas as pd # data processing, CSV file I/O (e.g. pd.read_csv)\n",
    "\n",
    "# Input data files are available in the read-only \"../input/\" directory\n",
    "# For example, running this (by clicking run or pressing Shift+Enter) will list all files under the input directory\n",
    "\n",
    "import os\n",
    "for dirname, _, filenames in os.walk('/kaggle/input'):\n",
    "    for filename in filenames:\n",
    "        print(os.path.join(dirname, filename))\n",
    "\n",
    "# You can write up to 20GB to the current directory (/kaggle/working/) that gets preserved as output when you create a version using \"Save & Run All\" \n",
    "# You can also write temporary files to /kaggle/temp/, but they won't be saved outside of the current session"
   ]
  },
  {
   "cell_type": "markdown",
   "id": "755146fd",
   "metadata": {
    "papermill": {
     "duration": 0.058085,
     "end_time": "2023-10-22T01:50:16.595508",
     "exception": false,
     "start_time": "2023-10-22T01:50:16.537423",
     "status": "completed"
    },
    "tags": []
   },
   "source": [
    "* [EDA](#chapter1)\n",
    "    * [Imports](#subsection1)\n",
    "* [Feature Engineering](#chapter2)\n",
    "    * [Section 3.1](#section_3_1)"
   ]
  },
  {
   "cell_type": "markdown",
   "id": "1ffbdc30",
   "metadata": {
    "_cell_guid": "4246a80a-f5da-4f3f-a75d-bc7bab5d2f6b",
    "_uuid": "e23d86f2-815c-4c38-bdfa-6849bb01956d",
    "papermill": {
     "duration": 0.058342,
     "end_time": "2023-10-22T01:50:16.711542",
     "exception": false,
     "start_time": "2023-10-22T01:50:16.653200",
     "status": "completed"
    },
    "tags": []
   },
   "source": [
    "# EDA <a class=\"anchor\"  id=\"chapter1\"></a>"
   ]
  },
  {
   "cell_type": "markdown",
   "id": "d6d157ab",
   "metadata": {
    "_cell_guid": "e5bd386d-7cd0-4499-a47e-027e282cc7dd",
    "_uuid": "11bff5c6-d7d2-4a4d-b897-f632ba963477",
    "papermill": {
     "duration": 0.057167,
     "end_time": "2023-10-22T01:50:16.827179",
     "exception": false,
     "start_time": "2023-10-22T01:50:16.770012",
     "status": "completed"
    },
    "tags": []
   },
   "source": [
    "## Imports <a class=\"anchor\"  id=\"subsection1\"></a>"
   ]
  },
  {
   "cell_type": "code",
   "execution_count": 2,
   "id": "21d1fa51",
   "metadata": {
    "_cell_guid": "756c764e-933d-47ef-a310-475ea2b0ab8d",
    "_uuid": "91de1041-0ddd-45e4-9dc3-0bf0c99c423f",
    "execution": {
     "iopub.execute_input": "2023-10-22T01:50:16.946473Z",
     "iopub.status.busy": "2023-10-22T01:50:16.945967Z",
     "iopub.status.idle": "2023-10-22T01:50:31.455169Z",
     "shell.execute_reply": "2023-10-22T01:50:31.454179Z"
    },
    "papermill": {
     "duration": 14.571284,
     "end_time": "2023-10-22T01:50:31.458015",
     "exception": false,
     "start_time": "2023-10-22T01:50:16.886731",
     "status": "completed"
    },
    "tags": []
   },
   "outputs": [
    {
     "name": "stderr",
     "output_type": "stream",
     "text": [
      "/opt/conda/lib/python3.10/site-packages/scipy/__init__.py:146: UserWarning: A NumPy version >=1.16.5 and <1.23.0 is required for this version of SciPy (detected version 1.23.5\n",
      "  warnings.warn(f\"A NumPy version >={np_minversion} and <{np_maxversion}\"\n",
      "/opt/conda/lib/python3.10/site-packages/tensorflow_io/python/ops/__init__.py:98: UserWarning: unable to load libtensorflow_io_plugins.so: unable to open file: libtensorflow_io_plugins.so, from paths: ['/opt/conda/lib/python3.10/site-packages/tensorflow_io/python/ops/libtensorflow_io_plugins.so']\n",
      "caused by: ['/opt/conda/lib/python3.10/site-packages/tensorflow_io/python/ops/libtensorflow_io_plugins.so: undefined symbol: _ZN3tsl6StatusC1EN10tensorflow5error4CodeESt17basic_string_viewIcSt11char_traitsIcEENS_14SourceLocationE']\n",
      "  warnings.warn(f\"unable to load libtensorflow_io_plugins.so: {e}\")\n",
      "/opt/conda/lib/python3.10/site-packages/tensorflow_io/python/ops/__init__.py:104: UserWarning: file system plugins are not loaded: unable to open file: libtensorflow_io.so, from paths: ['/opt/conda/lib/python3.10/site-packages/tensorflow_io/python/ops/libtensorflow_io.so']\n",
      "caused by: ['/opt/conda/lib/python3.10/site-packages/tensorflow_io/python/ops/libtensorflow_io.so: undefined symbol: _ZTVN10tensorflow13GcsFileSystemE']\n",
      "  warnings.warn(f\"file system plugins are not loaded: {e}\")\n"
     ]
    }
   ],
   "source": [
    "import seaborn as sns\n",
    "import warnings\n",
    "import matplotlib.pyplot as plt\n",
    "import plotly.express as px\n",
    "\n",
    "from pathlib import Path\n",
    "from sklearn.model_selection import train_test_split\n",
    "from sklearn.preprocessing import StandardScaler, OneHotEncoder\n",
    "from sklearn.preprocessing import OrdinalEncoder\n",
    "from sklearn.impute import SimpleImputer\n",
    "from sklearn.pipeline import make_pipeline\n",
    "from sklearn.compose import make_column_transformer\n",
    "from tensorflow import keras\n",
    "from tensorflow.keras import layers\n",
    "from sklearn.preprocessing import RobustScaler\n",
    "from IPython.display import display\n",
    "from pandas.api.types import CategoricalDtype\n",
    "from category_encoders import MEstimateEncoder\n",
    "from sklearn.cluster import KMeans\n",
    "from sklearn.decomposition import PCA\n",
    "from sklearn.feature_selection import mutual_info_regression\n",
    "from sklearn.model_selection import KFold, cross_val_score\n",
    "from sklearn.ensemble import RandomForestRegressor\n",
    "from scipy import stats\n",
    "from sklearn.model_selection import cross_val_score\n",
    "from sklearn.linear_model import SGDOneClassSVM\n",
    "from sklearn.ensemble import IsolationForest\n",
    "from sklearn.neighbors import LocalOutlierFactor\n",
    "from sklearn.compose import ColumnTransformer\n",
    "from sklearn.pipeline import Pipeline\n",
    "\n",
    "from matplotlib.ticker import MaxNLocator\n",
    "from functools import partial\n",
    "\n",
    "from sklearn.inspection import permutation_importance\n",
    "from sklearn.tree import DecisionTreeRegressor, plot_tree\n",
    "from sklearn.metrics import mean_absolute_error, mean_squared_error\n",
    "\n",
    "from sklearn.preprocessing import PowerTransformer\n",
    "from sklearn.preprocessing import QuantileTransformer\n",
    "from sklearn import preprocessing\n",
    "from sklearn.preprocessing import MaxAbsScaler\n",
    "from sklearn.preprocessing import MinMaxScaler\n",
    "from lightgbm import LGBMRegressor\n",
    "from lightgbm import LGBMClassifier\n",
    "from catboost import CatBoostRegressor\n",
    "from catboost import CatBoostClassifier\n",
    "from sklearn.model_selection import RandomizedSearchCV\n",
    "from xgboost import XGBRegressor\n",
    "from xgboost import XGBClassifier\n",
    "from itertools import groupby\n",
    "import gc\n",
    "from time import time\n",
    "\n",
    "import dask\n",
    "import dask.array as da\n",
    "import dask.dataframe as dd\n",
    "import polars as pl"
   ]
  },
  {
   "cell_type": "markdown",
   "id": "0fe0609b",
   "metadata": {
    "_cell_guid": "33436eec-6f9b-4ab0-a22a-1ac4af49e8bc",
    "_uuid": "50171726-3e51-43f2-9851-b6a1d3cbf3d6",
    "papermill": {
     "duration": 0.063235,
     "end_time": "2023-10-22T01:50:31.581721",
     "exception": false,
     "start_time": "2023-10-22T01:50:31.518486",
     "status": "completed"
    },
    "tags": []
   },
   "source": [
    "## Config"
   ]
  },
  {
   "cell_type": "code",
   "execution_count": 3,
   "id": "3aa9e71e",
   "metadata": {
    "_cell_guid": "f361a707-ce5c-4b81-bf72-14756a801455",
    "_uuid": "fe8e9ba5-3562-42c8-a516-e2151d848b92",
    "execution": {
     "iopub.execute_input": "2023-10-22T01:50:31.711889Z",
     "iopub.status.busy": "2023-10-22T01:50:31.711239Z",
     "iopub.status.idle": "2023-10-22T01:50:31.721483Z",
     "shell.execute_reply": "2023-10-22T01:50:31.720609Z"
    },
    "papermill": {
     "duration": 0.079105,
     "end_time": "2023-10-22T01:50:31.724585",
     "exception": false,
     "start_time": "2023-10-22T01:50:31.645480",
     "status": "completed"
    },
    "tags": []
   },
   "outputs": [
    {
     "name": "stderr",
     "output_type": "stream",
     "text": [
      "/tmp/ipykernel_20/1232833359.py:5: MatplotlibDeprecationWarning: The seaborn styles shipped by Matplotlib are deprecated since 3.6, as they no longer correspond to the styles shipped by seaborn. However, they will remain available as 'seaborn-v0_8-<style>'. Alternatively, directly use the seaborn API instead.\n",
      "  plt.style.use(\"seaborn-whitegrid\")\n"
     ]
    }
   ],
   "source": [
    "TARGET = 'awake'\n",
    "RESULT_BASELINE = []\n",
    "\n",
    "# Set Matplotlib defaults\n",
    "plt.style.use(\"seaborn-whitegrid\")\n",
    "plt.rc(\"figure\", autolayout=True)\n",
    "plt.rc(\n",
    "    \"axes\",\n",
    "    labelweight=\"bold\",\n",
    "    labelsize=\"large\",\n",
    "    titleweight=\"bold\",\n",
    "    titlesize=14,\n",
    "    titlepad=10,\n",
    ")\n",
    "\n",
    "def plot_maxdeph_score(rd_search, randomizedSearchCV_model):\n",
    "    max_depth = [item['model__max_depth'] for item in rd_search.named_steps[randomizedSearchCV_model].cv_results_['params']]\n",
    "    scores = list(rd_search.named_steps[randomizedSearchCV_model].cv_results_['mean_test_score'])\n",
    "    d = pd.DataFrame([max_depth, scores]).T\n",
    "    d.columns = ['Max Depth','Score']\n",
    "    d.groupby(['Max Depth']).mean()\n",
    "    return d\n",
    "\n",
    "# Mute warnings\n",
    "warnings.filterwarnings('ignore')"
   ]
  },
  {
   "cell_type": "markdown",
   "id": "8dca3123",
   "metadata": {
    "_cell_guid": "21ead8b6-2fbe-4334-8272-da44c5364fd4",
    "_uuid": "4fe6b15b-9a15-49ab-bab4-a4e6d0122120",
    "papermill": {
     "duration": 0.062338,
     "end_time": "2023-10-22T01:50:31.853276",
     "exception": false,
     "start_time": "2023-10-22T01:50:31.790938",
     "status": "completed"
    },
    "tags": []
   },
   "source": [
    "## Load data"
   ]
  },
  {
   "cell_type": "code",
   "execution_count": 4,
   "id": "ef09ece5",
   "metadata": {
    "_cell_guid": "665ef446-ba5d-4029-a5e3-1dc75876f20e",
    "_uuid": "1c1959d8-4e97-4c35-bad5-7914f8701295",
    "execution": {
     "iopub.execute_input": "2023-10-22T01:50:32.002419Z",
     "iopub.status.busy": "2023-10-22T01:50:32.001451Z",
     "iopub.status.idle": "2023-10-22T01:50:50.086813Z",
     "shell.execute_reply": "2023-10-22T01:50:50.085317Z"
    },
    "papermill": {
     "duration": 18.173323,
     "end_time": "2023-10-22T01:50:50.089899",
     "exception": false,
     "start_time": "2023-10-22T01:50:31.916576",
     "status": "completed"
    },
    "tags": []
   },
   "outputs": [],
   "source": [
    "# binary class data\n",
    "# train = pd.read_parquet(\"/kaggle/input/zzzs-lightweight-training-dataset-target/Zzzs_train.parquet\")\n",
    "# multiclass data\n",
    "\n",
    "# train = pd.read_parquet(\"/kaggle/input/zzzs-lightweight-training-dataset-target/Zzzs_train_multi.parquet\")\n",
    "# test  = pd.read_parquet(\"/kaggle/input/child-mind-institute-detect-sleep-states/test_series.parquet\")\n",
    "\n",
    "train = (pl.scan_parquet(\"/kaggle/input/zzzs-lightweight-training-dataset-target/Zzzs_train_multi.parquet\")\n",
    "          .with_columns(\n",
    "              (pl.col(\"timestamp\")\n",
    "                 .str.strptime(pl.Datetime, \"%Y-%m-%dT%H:%M:%S%Z\")\n",
    "                 .dt.hour()\n",
    "                 .alias(\"hour\")\n",
    "              )\n",
    "          )\n",
    "          .drop(\"timestamp\")\n",
    "          .collect()\n",
    "          .to_pandas()\n",
    ")\n",
    "\n",
    "# train = dd.read_parquet(\"/kaggle/input/zzzs-lightweight-training-dataset-target/Zzzs_train_multi.parquet\")\n",
    "# test  = dd.read_parquet(\"/kaggle/input/child-mind-institute-detect-sleep-states/test_series.parquet\")"
   ]
  },
  {
   "cell_type": "markdown",
   "id": "49f81a86",
   "metadata": {
    "_cell_guid": "2233a912-97e9-4506-9888-745b6a12ae3d",
    "_uuid": "2d02f48d-c859-4905-bded-5ab636d0558e",
    "papermill": {
     "duration": 0.05756,
     "end_time": "2023-10-22T01:50:50.207311",
     "exception": false,
     "start_time": "2023-10-22T01:50:50.149751",
     "status": "completed"
    },
    "tags": []
   },
   "source": [
    "## Data Statistics"
   ]
  },
  {
   "cell_type": "code",
   "execution_count": 5,
   "id": "49e20c14",
   "metadata": {
    "_cell_guid": "24367821-b373-4071-a44c-e7685545a05c",
    "_uuid": "77a3847a-842b-46d3-b763-e69f523bd020",
    "collapsed": false,
    "execution": {
     "iopub.execute_input": "2023-10-22T01:50:50.324971Z",
     "iopub.status.busy": "2023-10-22T01:50:50.324520Z",
     "iopub.status.idle": "2023-10-22T01:50:50.346521Z",
     "shell.execute_reply": "2023-10-22T01:50:50.345623Z"
    },
    "jupyter": {
     "outputs_hidden": false
    },
    "papermill": {
     "duration": 0.08353,
     "end_time": "2023-10-22T01:50:50.348651",
     "exception": false,
     "start_time": "2023-10-22T01:50:50.265121",
     "status": "completed"
    },
    "tags": []
   },
   "outputs": [
    {
     "data": {
      "text/html": [
       "<div>\n",
       "<style scoped>\n",
       "    .dataframe tbody tr th:only-of-type {\n",
       "        vertical-align: middle;\n",
       "    }\n",
       "\n",
       "    .dataframe tbody tr th {\n",
       "        vertical-align: top;\n",
       "    }\n",
       "\n",
       "    .dataframe thead th {\n",
       "        text-align: right;\n",
       "    }\n",
       "</style>\n",
       "<table border=\"1\" class=\"dataframe\">\n",
       "  <thead>\n",
       "    <tr style=\"text-align: right;\">\n",
       "      <th></th>\n",
       "      <th>series_id</th>\n",
       "      <th>step</th>\n",
       "      <th>anglez</th>\n",
       "      <th>enmo</th>\n",
       "      <th>awake</th>\n",
       "      <th>hour</th>\n",
       "    </tr>\n",
       "  </thead>\n",
       "  <tbody>\n",
       "    <tr>\n",
       "      <th>0</th>\n",
       "      <td>08db4255286f</td>\n",
       "      <td>0</td>\n",
       "      <td>-30.845301</td>\n",
       "      <td>0.0447</td>\n",
       "      <td>1</td>\n",
       "      <td>10</td>\n",
       "    </tr>\n",
       "    <tr>\n",
       "      <th>1</th>\n",
       "      <td>08db4255286f</td>\n",
       "      <td>1</td>\n",
       "      <td>-34.181801</td>\n",
       "      <td>0.0443</td>\n",
       "      <td>1</td>\n",
       "      <td>10</td>\n",
       "    </tr>\n",
       "    <tr>\n",
       "      <th>2</th>\n",
       "      <td>08db4255286f</td>\n",
       "      <td>2</td>\n",
       "      <td>-33.877102</td>\n",
       "      <td>0.0483</td>\n",
       "      <td>1</td>\n",
       "      <td>10</td>\n",
       "    </tr>\n",
       "    <tr>\n",
       "      <th>3</th>\n",
       "      <td>08db4255286f</td>\n",
       "      <td>3</td>\n",
       "      <td>-34.282101</td>\n",
       "      <td>0.0680</td>\n",
       "      <td>1</td>\n",
       "      <td>10</td>\n",
       "    </tr>\n",
       "    <tr>\n",
       "      <th>4</th>\n",
       "      <td>08db4255286f</td>\n",
       "      <td>4</td>\n",
       "      <td>-34.385799</td>\n",
       "      <td>0.0768</td>\n",
       "      <td>1</td>\n",
       "      <td>10</td>\n",
       "    </tr>\n",
       "  </tbody>\n",
       "</table>\n",
       "</div>"
      ],
      "text/plain": [
       "      series_id  step     anglez    enmo  awake  hour\n",
       "0  08db4255286f     0 -30.845301  0.0447      1    10\n",
       "1  08db4255286f     1 -34.181801  0.0443      1    10\n",
       "2  08db4255286f     2 -33.877102  0.0483      1    10\n",
       "3  08db4255286f     3 -34.282101  0.0680      1    10\n",
       "4  08db4255286f     4 -34.385799  0.0768      1    10"
      ]
     },
     "execution_count": 5,
     "metadata": {},
     "output_type": "execute_result"
    }
   ],
   "source": [
    "train.head()"
   ]
  },
  {
   "cell_type": "code",
   "execution_count": 6,
   "id": "ada35b48",
   "metadata": {
    "_cell_guid": "8c9400cf-b645-4b6a-b402-be8e12de964f",
    "_uuid": "ed01a9b3-5364-42cc-8ae0-d81be0faa9d5",
    "collapsed": false,
    "execution": {
     "iopub.execute_input": "2023-10-22T01:50:50.467020Z",
     "iopub.status.busy": "2023-10-22T01:50:50.466161Z",
     "iopub.status.idle": "2023-10-22T01:50:52.930944Z",
     "shell.execute_reply": "2023-10-22T01:50:52.929381Z"
    },
    "jupyter": {
     "outputs_hidden": false
    },
    "papermill": {
     "duration": 2.527274,
     "end_time": "2023-10-22T01:50:52.933779",
     "exception": false,
     "start_time": "2023-10-22T01:50:50.406505",
     "status": "completed"
    },
    "tags": []
   },
   "outputs": [
    {
     "data": {
      "text/html": [
       "<div>\n",
       "<style scoped>\n",
       "    .dataframe tbody tr th:only-of-type {\n",
       "        vertical-align: middle;\n",
       "    }\n",
       "\n",
       "    .dataframe tbody tr th {\n",
       "        vertical-align: top;\n",
       "    }\n",
       "\n",
       "    .dataframe thead th {\n",
       "        text-align: right;\n",
       "    }\n",
       "</style>\n",
       "<table border=\"1\" class=\"dataframe\">\n",
       "  <thead>\n",
       "    <tr style=\"text-align: right;\">\n",
       "      <th></th>\n",
       "      <th>step</th>\n",
       "      <th>anglez</th>\n",
       "      <th>enmo</th>\n",
       "      <th>awake</th>\n",
       "      <th>hour</th>\n",
       "    </tr>\n",
       "  </thead>\n",
       "  <tbody>\n",
       "    <tr>\n",
       "      <th>count</th>\n",
       "      <td>1.628982e+07</td>\n",
       "      <td>1.628982e+07</td>\n",
       "      <td>1.628982e+07</td>\n",
       "      <td>1.628982e+07</td>\n",
       "      <td>1.628982e+07</td>\n",
       "    </tr>\n",
       "    <tr>\n",
       "      <th>mean</th>\n",
       "      <td>2.023739e+05</td>\n",
       "      <td>-7.815899e+00</td>\n",
       "      <td>4.140666e-02</td>\n",
       "      <td>9.152462e-01</td>\n",
       "      <td>1.151986e+01</td>\n",
       "    </tr>\n",
       "    <tr>\n",
       "      <th>std</th>\n",
       "      <td>1.252966e+05</td>\n",
       "      <td>3.790032e+01</td>\n",
       "      <td>1.051808e-01</td>\n",
       "      <td>6.790839e-01</td>\n",
       "      <td>6.935843e+00</td>\n",
       "    </tr>\n",
       "    <tr>\n",
       "      <th>min</th>\n",
       "      <td>0.000000e+00</td>\n",
       "      <td>-9.000000e+01</td>\n",
       "      <td>0.000000e+00</td>\n",
       "      <td>0.000000e+00</td>\n",
       "      <td>0.000000e+00</td>\n",
       "    </tr>\n",
       "    <tr>\n",
       "      <th>25%</th>\n",
       "      <td>9.608000e+04</td>\n",
       "      <td>-3.539180e+01</td>\n",
       "      <td>1.300000e-03</td>\n",
       "      <td>0.000000e+00</td>\n",
       "      <td>5.000000e+00</td>\n",
       "    </tr>\n",
       "    <tr>\n",
       "      <th>50%</th>\n",
       "      <td>1.954140e+05</td>\n",
       "      <td>-7.391900e+00</td>\n",
       "      <td>1.640000e-02</td>\n",
       "      <td>1.000000e+00</td>\n",
       "      <td>1.200000e+01</td>\n",
       "    </tr>\n",
       "    <tr>\n",
       "      <th>75%</th>\n",
       "      <td>3.011760e+05</td>\n",
       "      <td>1.595410e+01</td>\n",
       "      <td>3.970000e-02</td>\n",
       "      <td>1.000000e+00</td>\n",
       "      <td>1.800000e+01</td>\n",
       "    </tr>\n",
       "    <tr>\n",
       "      <th>max</th>\n",
       "      <td>6.346790e+05</td>\n",
       "      <td>9.000000e+01</td>\n",
       "      <td>7.016100e+00</td>\n",
       "      <td>2.000000e+00</td>\n",
       "      <td>2.300000e+01</td>\n",
       "    </tr>\n",
       "  </tbody>\n",
       "</table>\n",
       "</div>"
      ],
      "text/plain": [
       "               step        anglez          enmo         awake          hour\n",
       "count  1.628982e+07  1.628982e+07  1.628982e+07  1.628982e+07  1.628982e+07\n",
       "mean   2.023739e+05 -7.815899e+00  4.140666e-02  9.152462e-01  1.151986e+01\n",
       "std    1.252966e+05  3.790032e+01  1.051808e-01  6.790839e-01  6.935843e+00\n",
       "min    0.000000e+00 -9.000000e+01  0.000000e+00  0.000000e+00  0.000000e+00\n",
       "25%    9.608000e+04 -3.539180e+01  1.300000e-03  0.000000e+00  5.000000e+00\n",
       "50%    1.954140e+05 -7.391900e+00  1.640000e-02  1.000000e+00  1.200000e+01\n",
       "75%    3.011760e+05  1.595410e+01  3.970000e-02  1.000000e+00  1.800000e+01\n",
       "max    6.346790e+05  9.000000e+01  7.016100e+00  2.000000e+00  2.300000e+01"
      ]
     },
     "execution_count": 6,
     "metadata": {},
     "output_type": "execute_result"
    }
   ],
   "source": [
    "train.describe()"
   ]
  },
  {
   "cell_type": "code",
   "execution_count": 7,
   "id": "d492884c",
   "metadata": {
    "_cell_guid": "5859d21c-9fac-4805-bb1c-da58925de024",
    "_uuid": "ff1583da-8c35-4525-ab6a-08e1d04d716a",
    "collapsed": false,
    "execution": {
     "iopub.execute_input": "2023-10-22T01:50:53.055473Z",
     "iopub.status.busy": "2023-10-22T01:50:53.055090Z",
     "iopub.status.idle": "2023-10-22T01:50:53.062653Z",
     "shell.execute_reply": "2023-10-22T01:50:53.061671Z"
    },
    "jupyter": {
     "outputs_hidden": false
    },
    "papermill": {
     "duration": 0.071719,
     "end_time": "2023-10-22T01:50:53.064826",
     "exception": false,
     "start_time": "2023-10-22T01:50:52.993107",
     "status": "completed"
    },
    "tags": []
   },
   "outputs": [
    {
     "data": {
      "text/plain": [
       "[(16289820, 6)]"
      ]
     },
     "execution_count": 7,
     "metadata": {},
     "output_type": "execute_result"
    }
   ],
   "source": [
    "[train.shape]"
   ]
  },
  {
   "cell_type": "code",
   "execution_count": 8,
   "id": "33c96be7",
   "metadata": {
    "_cell_guid": "8e0ef578-d1d7-4859-97ee-67a70b495450",
    "_uuid": "d8686870-855a-4845-8192-1b479f301f74",
    "execution": {
     "iopub.execute_input": "2023-10-22T01:50:53.185184Z",
     "iopub.status.busy": "2023-10-22T01:50:53.184685Z",
     "iopub.status.idle": "2023-10-22T01:50:53.202835Z",
     "shell.execute_reply": "2023-10-22T01:50:53.200979Z"
    },
    "papermill": {
     "duration": 0.081452,
     "end_time": "2023-10-22T01:50:53.205317",
     "exception": false,
     "start_time": "2023-10-22T01:50:53.123865",
     "status": "completed"
    },
    "tags": []
   },
   "outputs": [
    {
     "name": "stdout",
     "output_type": "stream",
     "text": [
      "<class 'pandas.core.frame.DataFrame'>\n",
      "RangeIndex: 16289820 entries, 0 to 16289819\n",
      "Data columns (total 6 columns):\n",
      " #   Column     Dtype  \n",
      "---  ------     -----  \n",
      " 0   series_id  object \n",
      " 1   step       uint32 \n",
      " 2   anglez     float32\n",
      " 3   enmo       float32\n",
      " 4   awake      int64  \n",
      " 5   hour       uint32 \n",
      "dtypes: float32(2), int64(1), object(1), uint32(2)\n",
      "memory usage: 497.1+ MB\n"
     ]
    }
   ],
   "source": [
    "train.info()"
   ]
  },
  {
   "cell_type": "code",
   "execution_count": 9,
   "id": "e53fa26b",
   "metadata": {
    "_cell_guid": "0af213b3-32b7-442e-8223-4d945737032c",
    "_uuid": "daec5af8-3932-4371-bd84-81b74ea14adc",
    "collapsed": false,
    "execution": {
     "iopub.execute_input": "2023-10-22T01:50:53.325150Z",
     "iopub.status.busy": "2023-10-22T01:50:53.324743Z",
     "iopub.status.idle": "2023-10-22T01:50:53.716229Z",
     "shell.execute_reply": "2023-10-22T01:50:53.714592Z"
    },
    "jupyter": {
     "outputs_hidden": false
    },
    "papermill": {
     "duration": 0.454772,
     "end_time": "2023-10-22T01:50:53.719107",
     "exception": false,
     "start_time": "2023-10-22T01:50:53.264335",
     "status": "completed"
    },
    "tags": []
   },
   "outputs": [],
   "source": [
    "num_col = train.select_dtypes(exclude=['object'])#.drop([TARGET], axis=1).copy()\n",
    "cat_col = train.select_dtypes(include=['object'])\n",
    "ord_col = []\n",
    "all_col = [f for f in train.columns if f != TARGET]"
   ]
  },
  {
   "cell_type": "code",
   "execution_count": 10,
   "id": "4611610f",
   "metadata": {
    "_cell_guid": "a538bd9d-2559-4128-b299-471ee772fea3",
    "_uuid": "82a866a0-9718-42ca-8af6-1d423b376b69",
    "collapsed": false,
    "execution": {
     "iopub.execute_input": "2023-10-22T01:50:53.839697Z",
     "iopub.status.busy": "2023-10-22T01:50:53.839274Z",
     "iopub.status.idle": "2023-10-22T01:50:53.846126Z",
     "shell.execute_reply": "2023-10-22T01:50:53.844652Z"
    },
    "jupyter": {
     "outputs_hidden": false
    },
    "papermill": {
     "duration": 0.070932,
     "end_time": "2023-10-22T01:50:53.849709",
     "exception": false,
     "start_time": "2023-10-22T01:50:53.778777",
     "status": "completed"
    },
    "tags": []
   },
   "outputs": [
    {
     "name": "stdout",
     "output_type": "stream",
     "text": [
      "Index(['step', 'anglez', 'enmo', 'awake', 'hour'], dtype='object')\n",
      "Index(['series_id'], dtype='object')\n"
     ]
    }
   ],
   "source": [
    "print(num_col.columns)\n",
    "print(cat_col.columns)"
   ]
  },
  {
   "cell_type": "markdown",
   "id": "e1616f7b",
   "metadata": {
    "_cell_guid": "208a2e9a-7a7e-4954-9b71-8fbb8906a526",
    "_uuid": "8b23b790-8777-445c-8bcf-13979da15d07",
    "papermill": {
     "duration": 0.063468,
     "end_time": "2023-10-22T01:50:53.980066",
     "exception": false,
     "start_time": "2023-10-22T01:50:53.916598",
     "status": "completed"
    },
    "tags": []
   },
   "source": [
    "## Understand data"
   ]
  },
  {
   "cell_type": "markdown",
   "id": "ac27044a",
   "metadata": {
    "_cell_guid": "c20954fa-db6f-4bb4-9516-bc80281e3d28",
    "_uuid": "a476afad-d1fc-4f0d-9efc-b9d8c597a670",
    "papermill": {
     "duration": 0.067659,
     "end_time": "2023-10-22T01:50:54.116835",
     "exception": false,
     "start_time": "2023-10-22T01:50:54.049176",
     "status": "completed"
    },
    "tags": []
   },
   "source": [
    "## Univariate analysis"
   ]
  },
  {
   "cell_type": "markdown",
   "id": "846d9c97",
   "metadata": {
    "_cell_guid": "42ab8da7-6285-4265-86d1-d1373f61d2eb",
    "_uuid": "462d67c8-f420-42f5-a4fa-732975a27c3e",
    "papermill": {
     "duration": 0.06632,
     "end_time": "2023-10-22T01:50:54.248917",
     "exception": false,
     "start_time": "2023-10-22T01:50:54.182597",
     "status": "completed"
    },
    "tags": []
   },
   "source": [
    "### Numeric features"
   ]
  },
  {
   "cell_type": "markdown",
   "id": "2bbdc1b9",
   "metadata": {
    "_cell_guid": "12460bc9-a6a0-4422-8fd8-65de91f54c24",
    "_uuid": "762322bf-d10d-43df-98fa-9ac9d6686f9e",
    "papermill": {
     "duration": 0.065102,
     "end_time": "2023-10-22T01:50:54.383054",
     "exception": false,
     "start_time": "2023-10-22T01:50:54.317952",
     "status": "completed"
    },
    "tags": []
   },
   "source": [
    "For numerical features, we are always concerned about the distribution of these features, including the statistical characteristics of these columns e.g mean, median, mode. Hence we will usually use Distribution plot to visualize their data distribution. Boxplots are also commonly used to unearth the statistical characteristics of each feature. More often than not, we use it to look for any outliers that we might need to filter out later on during the preprocessing step."
   ]
  },
  {
   "cell_type": "code",
   "execution_count": 11,
   "id": "80b2b70a",
   "metadata": {
    "_cell_guid": "df761b10-6fab-462f-9962-83965a07c39e",
    "_uuid": "19019f9b-816f-413a-813e-d73d3f002eba",
    "collapsed": false,
    "execution": {
     "iopub.execute_input": "2023-10-22T01:50:54.516400Z",
     "iopub.status.busy": "2023-10-22T01:50:54.515949Z",
     "iopub.status.idle": "2023-10-22T01:50:54.522153Z",
     "shell.execute_reply": "2023-10-22T01:50:54.520638Z"
    },
    "jupyter": {
     "outputs_hidden": false
    },
    "papermill": {
     "duration": 0.075971,
     "end_time": "2023-10-22T01:50:54.525045",
     "exception": false,
     "start_time": "2023-10-22T01:50:54.449074",
     "status": "completed"
    },
    "tags": []
   },
   "outputs": [],
   "source": [
    "# disc_num_var = ['id']\n",
    "\n",
    "# cont_num_var = []\n",
    "# for i in num_col.columns:\n",
    "#     if i not in disc_num_var:\n",
    "#         cont_num_var.append(i)\n",
    "\n",
    "# fig = plt.figure(figsize=(16,35))\n",
    "# for index,col in enumerate(cont_num_var):\n",
    "#     plt.subplot(10,4,index+1)\n",
    "#     sns.distplot(num_col.loc[:,col].dropna(), kde=False)\n",
    "# fig.tight_layout(pad=2.0)"
   ]
  },
  {
   "cell_type": "markdown",
   "id": "56b5e5fc",
   "metadata": {
    "_cell_guid": "eed84582-0f34-4e0e-9f66-80876a1b1e8e",
    "_uuid": "c60f7756-5a31-4116-aa20-02e6c3a7879e",
    "papermill": {
     "duration": 0.063464,
     "end_time": "2023-10-22T01:50:54.656282",
     "exception": false,
     "start_time": "2023-10-22T01:50:54.592818",
     "status": "completed"
    },
    "tags": []
   },
   "source": [
    "This plot help us idenytify some variables with mostly 1 value as seen from the plots. Features with mostly 0s are highly *skewed*. Having alot of 0s in the distribution doesnt really add information for predicting problems. Hence, we can remove them during our preprocessing step."
   ]
  },
  {
   "cell_type": "markdown",
   "id": "c7cd4039",
   "metadata": {
    "_cell_guid": "b2fa3267-7b27-43ee-a243-0e856a2f579a",
    "_uuid": "309476ac-dbac-495a-9493-5de2f5b3c995",
    "papermill": {
     "duration": 0.059917,
     "end_time": "2023-10-22T01:50:54.780458",
     "exception": false,
     "start_time": "2023-10-22T01:50:54.720541",
     "status": "completed"
    },
    "tags": []
   },
   "source": [
    "### Boxplot to identify outliers"
   ]
  },
  {
   "cell_type": "code",
   "execution_count": 12,
   "id": "45f0fde0",
   "metadata": {
    "_cell_guid": "395c189b-bad9-4a77-8082-b3fd087d19c2",
    "_uuid": "b5637847-30b3-4a4d-be29-a4f9704e9f2b",
    "collapsed": false,
    "execution": {
     "iopub.execute_input": "2023-10-22T01:50:54.902646Z",
     "iopub.status.busy": "2023-10-22T01:50:54.902204Z",
     "iopub.status.idle": "2023-10-22T01:50:54.907004Z",
     "shell.execute_reply": "2023-10-22T01:50:54.905826Z"
    },
    "jupyter": {
     "outputs_hidden": false
    },
    "papermill": {
     "duration": 0.069308,
     "end_time": "2023-10-22T01:50:54.909303",
     "exception": false,
     "start_time": "2023-10-22T01:50:54.839995",
     "status": "completed"
    },
    "tags": []
   },
   "outputs": [],
   "source": [
    "# fig = plt.figure(figsize=(16,35))\n",
    "# for index,col in enumerate(cont_num_var):\n",
    "#     plt.subplot(10,4,index+1)\n",
    "#     sns.boxplot(y=col, data=num_col.dropna())\n",
    "# fig.tight_layout(pad=2.0)"
   ]
  },
  {
   "cell_type": "code",
   "execution_count": 13,
   "id": "b89c3d88",
   "metadata": {
    "_cell_guid": "9367e549-a0b0-4324-9cef-bf3f91b18eb9",
    "_uuid": "c4cf3578-4fd0-418a-998f-f3d763edb547",
    "collapsed": false,
    "execution": {
     "iopub.execute_input": "2023-10-22T01:50:55.030328Z",
     "iopub.status.busy": "2023-10-22T01:50:55.029942Z",
     "iopub.status.idle": "2023-10-22T01:50:55.035076Z",
     "shell.execute_reply": "2023-10-22T01:50:55.033715Z"
    },
    "jupyter": {
     "outputs_hidden": false
    },
    "papermill": {
     "duration": 0.069237,
     "end_time": "2023-10-22T01:50:55.037405",
     "exception": false,
     "start_time": "2023-10-22T01:50:54.968168",
     "status": "completed"
    },
    "tags": []
   },
   "outputs": [],
   "source": [
    "# fig = plt.figure(figsize=(20,15))\n",
    "# for index,col in enumerate(disc_num_var):\n",
    "#     plt.subplot(10,3,index+1)\n",
    "#     sns.countplot(x=col, data=num_col.dropna())\n",
    "# fig.tight_layout(pad=1.0)"
   ]
  },
  {
   "cell_type": "markdown",
   "id": "d3036be7",
   "metadata": {
    "_cell_guid": "13ea9146-ffba-4c33-9f18-18f104b515d3",
    "_uuid": "d0e432e5-f1be-48ef-b94c-5e02210cf7cd",
    "papermill": {
     "duration": 0.059397,
     "end_time": "2023-10-22T01:50:55.157699",
     "exception": false,
     "start_time": "2023-10-22T01:50:55.098302",
     "status": "completed"
    },
    "tags": []
   },
   "source": [
    "### Categorical features"
   ]
  },
  {
   "cell_type": "markdown",
   "id": "f6b5506b",
   "metadata": {
    "_cell_guid": "4b0f3c15-2260-4009-8036-181f343dff9b",
    "_uuid": "198d6836-a4fa-4435-b4b1-b0cb90976aee",
    "papermill": {
     "duration": 0.058664,
     "end_time": "2023-10-22T01:50:55.275609",
     "exception": false,
     "start_time": "2023-10-22T01:50:55.216945",
     "status": "completed"
    },
    "tags": []
   },
   "source": [
    "In the case of categorical features, we will often use countplots to visualize the count of each distinct value within each features. We could find some categorical features that consist of mainly just one value, which does not add any useful information. Thus, we should also remove them later on."
   ]
  },
  {
   "cell_type": "code",
   "execution_count": 14,
   "id": "10ba2732",
   "metadata": {
    "_cell_guid": "57192368-a5b4-4faa-870f-97c921c97aa8",
    "_uuid": "6c25def2-27e0-49e1-a2ec-c9a39d89c1cf",
    "collapsed": false,
    "execution": {
     "iopub.execute_input": "2023-10-22T01:50:55.456716Z",
     "iopub.status.busy": "2023-10-22T01:50:55.456267Z",
     "iopub.status.idle": "2023-10-22T01:50:55.461351Z",
     "shell.execute_reply": "2023-10-22T01:50:55.460327Z"
    },
    "jupyter": {
     "outputs_hidden": false
    },
    "papermill": {
     "duration": 0.129188,
     "end_time": "2023-10-22T01:50:55.463617",
     "exception": false,
     "start_time": "2023-10-22T01:50:55.334429",
     "status": "completed"
    },
    "tags": []
   },
   "outputs": [],
   "source": [
    "# fig = plt.figure(figsize=(18,20))\n",
    "# for index in range(len(cat_col.columns)):\n",
    "#     plt.subplot(9,5,index+1)\n",
    "#     sns.countplot(x=cat_col.iloc[:,index], data=cat_col.dropna())\n",
    "#     plt.xticks(rotation=90)\n",
    "# fig.tight_layout(pad=2.0)"
   ]
  },
  {
   "cell_type": "markdown",
   "id": "20eede72",
   "metadata": {
    "_cell_guid": "9a7c9edb-57f2-403d-a091-1905b9c9637f",
    "_uuid": "8287c21d-a009-4e80-bb49-51dad5829d46",
    "papermill": {
     "duration": 0.058939,
     "end_time": "2023-10-22T01:50:55.582231",
     "exception": false,
     "start_time": "2023-10-22T01:50:55.523292",
     "status": "completed"
    },
    "tags": []
   },
   "source": [
    "Univariate Analysis helps us to understand all the features better, on an individual scale. To further deepen our insights and uncover potential pattern in the data, we will also need to find out more about the relationship between all these features with one another, which brings us to our next step in our analysis - Bivariate Analysis"
   ]
  },
  {
   "cell_type": "markdown",
   "id": "8792388a",
   "metadata": {
    "_cell_guid": "e86c80cd-c335-4387-892c-5fe3b7ccefed",
    "_uuid": "c7b1c603-16e1-4878-87c6-9dd8717499e0",
    "papermill": {
     "duration": 0.058813,
     "end_time": "2023-10-22T01:50:55.700161",
     "exception": false,
     "start_time": "2023-10-22T01:50:55.641348",
     "status": "completed"
    },
    "tags": []
   },
   "source": [
    "## Bi-Variate Analysis"
   ]
  },
  {
   "cell_type": "markdown",
   "id": "54ab673e",
   "metadata": {
    "_cell_guid": "4a3a2f69-a09a-4207-be7c-c78f8aa47647",
    "_uuid": "34879c77-5d0e-4d39-8721-3de9a8432e58",
    "papermill": {
     "duration": 0.059219,
     "end_time": "2023-10-22T01:50:55.819368",
     "exception": false,
     "start_time": "2023-10-22T01:50:55.760149",
     "status": "completed"
    },
    "tags": []
   },
   "source": [
    "Bi-variate analysis looks at 2 different features to identify any possible relationship or distinctive patterns between the 2 features. One of the commonly used technique is through the Correlation Matrix. Correlation matrix is an effective tool to uncover linear relationship (Correlation) between any 2 continuous features. Correlation not only allow us to determine which features are important to TARGET, but also as a mean to investigate any multicollinearity between our independent predictors.\n",
    "Multicollinearity happens when 2 or more independent variables are highly correlated with one another. In such situation, it causes precision loss in our regression coefficients, affecting our ability to identify the most important features that are most useful to our model"
   ]
  },
  {
   "cell_type": "markdown",
   "id": "86d1d982",
   "metadata": {
    "_cell_guid": "2ea50fc4-3912-4ad5-bcb8-8318263e2e52",
    "_uuid": "1dc3632b-9d5c-442f-a40c-44a3648d8d46",
    "papermill": {
     "duration": 0.059257,
     "end_time": "2023-10-22T01:50:55.938195",
     "exception": false,
     "start_time": "2023-10-22T01:50:55.878938",
     "status": "completed"
    },
    "tags": []
   },
   "source": [
    "### Correlation matrix"
   ]
  },
  {
   "cell_type": "code",
   "execution_count": 15,
   "id": "55be211d",
   "metadata": {
    "_cell_guid": "db848611-d716-4b21-b120-e83097af1542",
    "_uuid": "dcd14afa-c501-4716-918e-c5a7089d6108",
    "collapsed": false,
    "execution": {
     "iopub.execute_input": "2023-10-22T01:50:56.062818Z",
     "iopub.status.busy": "2023-10-22T01:50:56.061322Z",
     "iopub.status.idle": "2023-10-22T01:50:56.066880Z",
     "shell.execute_reply": "2023-10-22T01:50:56.065869Z"
    },
    "jupyter": {
     "outputs_hidden": false
    },
    "papermill": {
     "duration": 0.07135,
     "end_time": "2023-10-22T01:50:56.069076",
     "exception": false,
     "start_time": "2023-10-22T01:50:55.997726",
     "status": "completed"
    },
    "tags": []
   },
   "outputs": [],
   "source": [
    "# plt.figure(figsize=(14,12))\n",
    "# correlation = num_col.corr()\n",
    "# sns.heatmap(correlation, mask = correlation <0.8, linewidth=0.5, cmap='Blues')"
   ]
  },
  {
   "cell_type": "markdown",
   "id": "e448f9c8",
   "metadata": {
    "_cell_guid": "c8bdbb52-a98b-4ce7-bd77-8fd13762a1b8",
    "_uuid": "9e0e0731-7f31-48ef-b6a4-8a8d093f43ab",
    "papermill": {
     "duration": 0.059783,
     "end_time": "2023-10-22T01:50:56.189301",
     "exception": false,
     "start_time": "2023-10-22T01:50:56.129518",
     "status": "completed"
    },
    "tags": []
   },
   "source": [
    "From the correlation matrix we didnt identify any variables which are highly correlated with each other. Otherwise it would guide us in our preprocessing steps later on as we aim to remove highly correlated features to avoid performance loss in our model"
   ]
  },
  {
   "cell_type": "markdown",
   "id": "afd8d707",
   "metadata": {
    "_cell_guid": "ca26caa8-13bc-434a-b038-dab81841ceb9",
    "_uuid": "fe40cd1b-7705-4488-9cd2-6b903140a1c9",
    "papermill": {
     "duration": 0.059327,
     "end_time": "2023-10-22T01:50:56.307872",
     "exception": false,
     "start_time": "2023-10-22T01:50:56.248545",
     "status": "completed"
    },
    "tags": []
   },
   "source": [
    "#### Identifying relationship between Numerical Predictor and Target"
   ]
  },
  {
   "cell_type": "markdown",
   "id": "8cf39049",
   "metadata": {
    "_cell_guid": "c9dbe7c9-a3fe-4ed7-9b96-053d125ee1c4",
    "_uuid": "395cb597-55be-4921-a3fd-6bfeaf15da62",
    "papermill": {
     "duration": 0.059222,
     "end_time": "2023-10-22T01:50:56.426150",
     "exception": false,
     "start_time": "2023-10-22T01:50:56.366928",
     "status": "completed"
    },
    "tags": []
   },
   "source": [
    "Below, we sorted the strength of linear relationship between TARGET and other features. Hence, these features will be important factor."
   ]
  },
  {
   "cell_type": "code",
   "execution_count": 16,
   "id": "ec16008e",
   "metadata": {
    "_cell_guid": "88bfd5b1-5be7-4d98-8081-430fec756054",
    "_uuid": "053038f2-a065-4336-9310-3eb0ec8ac7dd",
    "collapsed": false,
    "execution": {
     "iopub.execute_input": "2023-10-22T01:50:56.546909Z",
     "iopub.status.busy": "2023-10-22T01:50:56.546415Z",
     "iopub.status.idle": "2023-10-22T01:50:56.550983Z",
     "shell.execute_reply": "2023-10-22T01:50:56.549997Z"
    },
    "jupyter": {
     "outputs_hidden": false
    },
    "papermill": {
     "duration": 0.067892,
     "end_time": "2023-10-22T01:50:56.553062",
     "exception": false,
     "start_time": "2023-10-22T01:50:56.485170",
     "status": "completed"
    },
    "tags": []
   },
   "outputs": [],
   "source": [
    "# num_col_TARGET = train.select_dtypes(exclude=['object'])\n",
    "# correlation = num_col_TARGET.corr()\n",
    "# correlation[[TARGET]].sort_values([TARGET], ascending=False)"
   ]
  },
  {
   "cell_type": "markdown",
   "id": "0a258440",
   "metadata": {
    "_cell_guid": "bac5ee43-c6ec-4283-888c-adc78aaa9216",
    "_uuid": "0f9de57e-5e2c-4b2e-b02e-1a2cc562c71a",
    "papermill": {
     "duration": 0.05873,
     "end_time": "2023-10-22T01:50:56.670932",
     "exception": false,
     "start_time": "2023-10-22T01:50:56.612202",
     "status": "completed"
    },
    "tags": []
   },
   "source": [
    "#### Scatterplot"
   ]
  },
  {
   "cell_type": "markdown",
   "id": "3175c036",
   "metadata": {
    "_cell_guid": "62ee95c5-d329-4183-aa31-edb6ac26702c",
    "_uuid": "48645710-4a11-4608-afc8-3ab5a994f1d8",
    "papermill": {
     "duration": 0.060919,
     "end_time": "2023-10-22T01:50:56.791650",
     "exception": false,
     "start_time": "2023-10-22T01:50:56.730731",
     "status": "completed"
    },
    "tags": []
   },
   "source": [
    "Using scatterplot can also help us to identify potential linear relationship between Numerical features. Although scatterplot does not provide quantitative evidence on the strength of linear relationship between our features, it is useful in helping us to visualize any sort of relationship that correlation matrix could not calculate. E.g Quadratic, Exponential relationships."
   ]
  },
  {
   "cell_type": "code",
   "execution_count": 17,
   "id": "b26e7d96",
   "metadata": {
    "_cell_guid": "488c605c-72b2-4b81-b468-7e1c0c38bac1",
    "_uuid": "d5c03c7f-3996-4cfc-82bc-cc5bdd801d31",
    "collapsed": false,
    "execution": {
     "iopub.execute_input": "2023-10-22T01:50:56.914876Z",
     "iopub.status.busy": "2023-10-22T01:50:56.913914Z",
     "iopub.status.idle": "2023-10-22T01:50:56.919266Z",
     "shell.execute_reply": "2023-10-22T01:50:56.918217Z"
    },
    "jupyter": {
     "outputs_hidden": false
    },
    "papermill": {
     "duration": 0.069515,
     "end_time": "2023-10-22T01:50:56.921675",
     "exception": false,
     "start_time": "2023-10-22T01:50:56.852160",
     "status": "completed"
    },
    "tags": []
   },
   "outputs": [],
   "source": [
    "# fig = plt.figure(figsize=(16,35))\n",
    "# for index in range(len(train.columns)):\n",
    "#     plt.subplot(10,4,index+1)\n",
    "#     sns.scatterplot(x=train.iloc[:,index], y=TARGET, data=train.dropna())\n",
    "# fig.tight_layout(pad=2.0)"
   ]
  },
  {
   "cell_type": "markdown",
   "id": "2cbfc272",
   "metadata": {
    "_cell_guid": "2943d41b-115b-4372-abe8-5bf0670a8a2e",
    "_uuid": "9c1fd29f-7207-4451-adfc-02f99658ddd3",
    "papermill": {
     "duration": 0.061086,
     "end_time": "2023-10-22T01:50:57.041942",
     "exception": false,
     "start_time": "2023-10-22T01:50:56.980856",
     "status": "completed"
    },
    "tags": []
   },
   "source": [
    "### Mutual information"
   ]
  },
  {
   "cell_type": "markdown",
   "id": "2ee19170",
   "metadata": {
    "_cell_guid": "65aabb28-8984-44b1-b27e-f83f439f2858",
    "_uuid": "45f3af43-3e52-4270-b0d4-a5b8d7c21519",
    "papermill": {
     "duration": 0.060015,
     "end_time": "2023-10-22T01:50:57.163130",
     "exception": false,
     "start_time": "2023-10-22T01:50:57.103115",
     "status": "completed"
    },
    "tags": []
   },
   "source": [
    "Mutual information describes relationships in terms of uncertainty. The mutual information between two quantities is a measure of the extent to which knowledge of one quantity reduces uncertainty about the other. If you knew the value of a feature, how much more confident would you be about the target?\n",
    "\n",
    "Mutual information is a lot like correlation in that it measures a relationship between two quantities. The advantage of mutual information is that it can detect any kind of relationship, while correlation only detects linear relationships. Mutual information can capture any kind of association (not just linear, like correlation.)\n",
    "\n",
    "The least possible mutual information between quantities is 0.0. When MI is zero, the quantities are independent: neither can tell you anything about the other. Conversely, in theory there's no upper bound to what MI can be. In practice though values above 2.0 or so are uncommon. (Mutual information is a logarithmic quantity, so it increases very slowly.)"
   ]
  },
  {
   "cell_type": "markdown",
   "id": "a472044b",
   "metadata": {
    "_cell_guid": "3fa5be11-a036-4810-b2cb-23dd60d10130",
    "_uuid": "c452a4aa-9a84-4528-abd0-6f53c92d5440",
    "papermill": {
     "duration": 0.064964,
     "end_time": "2023-10-22T01:50:57.293283",
     "exception": false,
     "start_time": "2023-10-22T01:50:57.228319",
     "status": "completed"
    },
    "tags": []
   },
   "source": [
    "Here are some things to remember when applying mutual information:\n",
    "\n",
    "* MI can help you to understand the relative potential of a feature as a predictor of the target, considered by itself.\n",
    "* It's possible for a feature to be very informative when interacting with other features, but not so informative all alone. MI can't detect interactions between features. It is a univariate metric.\n",
    "* The actual usefulness of a feature depends on the model you use it with. A feature is only useful to the extent that its relationship with the target is one your model can learn. Just because a feature has a high MI score doesn't mean your model will be able to do anything with that information. You may need to transform the feature first to expose the association."
   ]
  },
  {
   "cell_type": "code",
   "execution_count": 18,
   "id": "366fd541",
   "metadata": {
    "_cell_guid": "0f2b00a9-f60e-4d11-bbe7-e85a398b0afb",
    "_uuid": "9097395b-9d89-4a1d-82d3-06826c407344",
    "collapsed": false,
    "execution": {
     "iopub.execute_input": "2023-10-22T01:50:57.428362Z",
     "iopub.status.busy": "2023-10-22T01:50:57.427347Z",
     "iopub.status.idle": "2023-10-22T01:50:57.437425Z",
     "shell.execute_reply": "2023-10-22T01:50:57.436544Z"
    },
    "jupyter": {
     "outputs_hidden": false
    },
    "papermill": {
     "duration": 0.080994,
     "end_time": "2023-10-22T01:50:57.440086",
     "exception": false,
     "start_time": "2023-10-22T01:50:57.359092",
     "status": "completed"
    },
    "tags": []
   },
   "outputs": [],
   "source": [
    "def make_mi_scores(X, y):\n",
    "    X = X.copy()\n",
    "    for colname in X.select_dtypes([\"object\", \"category\"]):\n",
    "        X[colname], _ = X[colname].factorize()\n",
    "    # All discrete features should now have integer dtypes\n",
    "    discrete_features = [pd.api.types.is_float_dtype(t) for t in X.dtypes]\n",
    "    mi_scores = mutual_info_regression(X, y, discrete_features=discrete_features, random_state=0)\n",
    "    mi_scores = pd.Series(mi_scores, name=\"MI Scores\", index=X.columns)\n",
    "    mi_scores = mi_scores.sort_values(ascending=False)\n",
    "    return mi_scores\n",
    "\n",
    "def plot_mi_scores(scores):\n",
    "    scores = scores.sort_values(ascending=True)\n",
    "    width = np.arange(len(scores))\n",
    "    ticks = list(scores.index)\n",
    "    plt.barh(width, scores)\n",
    "    plt.yticks(width, ticks)\n",
    "    plt.title(\"Mutual Information Scores\")"
   ]
  },
  {
   "cell_type": "code",
   "execution_count": 19,
   "id": "34682efc",
   "metadata": {
    "_cell_guid": "ff6be023-b3be-473b-bb19-ea54d3251a1f",
    "_uuid": "f3b25abc-62d8-465d-947e-baba9b409754",
    "collapsed": false,
    "execution": {
     "iopub.execute_input": "2023-10-22T01:50:57.571498Z",
     "iopub.status.busy": "2023-10-22T01:50:57.570876Z",
     "iopub.status.idle": "2023-10-22T01:50:57.577284Z",
     "shell.execute_reply": "2023-10-22T01:50:57.576387Z"
    },
    "jupyter": {
     "outputs_hidden": false
    },
    "papermill": {
     "duration": 0.07561,
     "end_time": "2023-10-22T01:50:57.580373",
     "exception": false,
     "start_time": "2023-10-22T01:50:57.504763",
     "status": "completed"
    },
    "tags": []
   },
   "outputs": [
    {
     "data": {
      "text/plain": [
       "(16289820, 6)"
      ]
     },
     "execution_count": 19,
     "metadata": {},
     "output_type": "execute_result"
    }
   ],
   "source": [
    "train.shape"
   ]
  },
  {
   "cell_type": "code",
   "execution_count": 20,
   "id": "dfc1eac5",
   "metadata": {
    "_cell_guid": "70174446-f886-40aa-ac8b-8b774854fadf",
    "_uuid": "8c6440ec-ebba-4ad5-8e5d-c323971f659b",
    "collapsed": false,
    "execution": {
     "iopub.execute_input": "2023-10-22T01:50:57.714690Z",
     "iopub.status.busy": "2023-10-22T01:50:57.714213Z",
     "iopub.status.idle": "2023-10-22T01:50:57.719386Z",
     "shell.execute_reply": "2023-10-22T01:50:57.718166Z"
    },
    "jupyter": {
     "outputs_hidden": false
    },
    "papermill": {
     "duration": 0.074002,
     "end_time": "2023-10-22T01:50:57.722704",
     "exception": false,
     "start_time": "2023-10-22T01:50:57.648702",
     "status": "completed"
    },
    "tags": []
   },
   "outputs": [],
   "source": [
    "# X_raw = train.fillna(method='ffill')\n",
    "# features = ['', '', '']\n",
    "# sns.relplot(\n",
    "#     x=\"value\", y=TARGET, col=\"variable\", data=X_raw.melt(id_vars=TARGET, value_vars=features), facet_kws=dict(sharex=False),\n",
    "# );"
   ]
  },
  {
   "cell_type": "markdown",
   "id": "bc008f4e",
   "metadata": {
    "_cell_guid": "ba9aa69f-55c1-4974-88ea-7e65e5cc30af",
    "_uuid": "510a871c-81b2-47cd-a8d9-550fa5c3a5eb",
    "papermill": {
     "duration": 0.061117,
     "end_time": "2023-10-22T01:50:57.849165",
     "exception": false,
     "start_time": "2023-10-22T01:50:57.788048",
     "status": "completed"
    },
    "tags": []
   },
   "source": [
    "Based on the plots, which feature do you think would have the highest mutual information with *TARGET*?\n",
    "The highest mutual information with *TARGET* tends to constrain it to a smaller range of possible values.\n",
    "\n",
    "The dataset may have a lot of features to work with all at once! Fortunately, you can identify the features with the most potential.\n",
    "We can compute mutual information scores for the dataset features."
   ]
  },
  {
   "cell_type": "code",
   "execution_count": 21,
   "id": "3766581f",
   "metadata": {
    "_cell_guid": "4188f1c9-728d-469d-bd47-57663b8d19a7",
    "_uuid": "8a61b4c4-e635-4405-905d-116118edcde2",
    "collapsed": false,
    "execution": {
     "iopub.execute_input": "2023-10-22T01:50:57.973189Z",
     "iopub.status.busy": "2023-10-22T01:50:57.972662Z",
     "iopub.status.idle": "2023-10-22T01:50:57.978493Z",
     "shell.execute_reply": "2023-10-22T01:50:57.976886Z"
    },
    "jupyter": {
     "outputs_hidden": false
    },
    "papermill": {
     "duration": 0.071862,
     "end_time": "2023-10-22T01:50:57.981058",
     "exception": false,
     "start_time": "2023-10-22T01:50:57.909196",
     "status": "completed"
    },
    "tags": []
   },
   "outputs": [],
   "source": [
    "# X_mi = X_raw.copy()\n",
    "# y_mi = X_mi.pop(TARGET)"
   ]
  },
  {
   "cell_type": "code",
   "execution_count": 22,
   "id": "7397f435",
   "metadata": {
    "_cell_guid": "491e2387-2fda-4211-8b08-c6d396a39c71",
    "_uuid": "f8a6e6ce-0c8b-40ba-bfa9-8480e3be395a",
    "collapsed": false,
    "execution": {
     "iopub.execute_input": "2023-10-22T01:50:58.109784Z",
     "iopub.status.busy": "2023-10-22T01:50:58.108852Z",
     "iopub.status.idle": "2023-10-22T01:50:58.113898Z",
     "shell.execute_reply": "2023-10-22T01:50:58.112870Z"
    },
    "jupyter": {
     "outputs_hidden": false
    },
    "papermill": {
     "duration": 0.070312,
     "end_time": "2023-10-22T01:50:58.116270",
     "exception": false,
     "start_time": "2023-10-22T01:50:58.045958",
     "status": "completed"
    },
    "tags": []
   },
   "outputs": [],
   "source": [
    "# [X_mi.shape, y_mi.shape]"
   ]
  },
  {
   "cell_type": "code",
   "execution_count": 23,
   "id": "1b30adaa",
   "metadata": {
    "_cell_guid": "5192aae0-543a-40b2-b661-d7c9f362eb6d",
    "_uuid": "8249ebbe-31f7-42e8-8159-2fcaaa507bd5",
    "collapsed": false,
    "execution": {
     "iopub.execute_input": "2023-10-22T01:50:58.241694Z",
     "iopub.status.busy": "2023-10-22T01:50:58.240876Z",
     "iopub.status.idle": "2023-10-22T01:50:58.246328Z",
     "shell.execute_reply": "2023-10-22T01:50:58.244792Z"
    },
    "jupyter": {
     "outputs_hidden": false
    },
    "papermill": {
     "duration": 0.07134,
     "end_time": "2023-10-22T01:50:58.249030",
     "exception": false,
     "start_time": "2023-10-22T01:50:58.177690",
     "status": "completed"
    },
    "tags": []
   },
   "outputs": [],
   "source": [
    "# mi_scores = make_mi_scores(X_mi, y_mi)"
   ]
  },
  {
   "cell_type": "code",
   "execution_count": 24,
   "id": "737582d6",
   "metadata": {
    "_cell_guid": "99de4490-ee27-4530-bf5f-303218b0cc90",
    "_uuid": "ce643e15-4b9e-492f-9831-2708e89adb5e",
    "collapsed": false,
    "execution": {
     "iopub.execute_input": "2023-10-22T01:50:58.378401Z",
     "iopub.status.busy": "2023-10-22T01:50:58.377898Z",
     "iopub.status.idle": "2023-10-22T01:50:58.383951Z",
     "shell.execute_reply": "2023-10-22T01:50:58.382487Z"
    },
    "jupyter": {
     "outputs_hidden": false
    },
    "papermill": {
     "duration": 0.075464,
     "end_time": "2023-10-22T01:50:58.386452",
     "exception": false,
     "start_time": "2023-10-22T01:50:58.310988",
     "status": "completed"
    },
    "tags": []
   },
   "outputs": [],
   "source": [
    "# print(mi_scores.head(20))\n",
    "# #print(mi_scores.tail(20))  # uncomment to see bottom 20\n",
    "\n",
    "# plt.figure(dpi=100, figsize=(8, 5))\n",
    "# plot_mi_scores(mi_scores.head(20))\n",
    "# #plot_mi_scores(mi_scores.tail(20))  # uncomment to see bottom 20"
   ]
  },
  {
   "cell_type": "markdown",
   "id": "97b3d62b",
   "metadata": {
    "_cell_guid": "d96e5b31-51d2-45f4-91da-0ecdbb173797",
    "_uuid": "cb189914-cf03-4908-8bb0-1245f37e180a",
    "papermill": {
     "duration": 0.0593,
     "end_time": "2023-10-22T01:50:58.508064",
     "exception": false,
     "start_time": "2023-10-22T01:50:58.448764",
     "status": "completed"
    },
    "tags": []
   },
   "source": [
    "Do the scores seem reasonable? Do the high scoring features represent things you'd think most people would value in a home? Do you notice any themes in what they describe?\n",
    "\n",
    "It's good that our mutual information metric scored features highly. On the other hand, the lowest ranked features seem to mostly represent things that are rare or exceptional in some way, and so wouldn't be relevant."
   ]
  },
  {
   "cell_type": "code",
   "execution_count": 25,
   "id": "cf649141",
   "metadata": {
    "_cell_guid": "37d3a69f-9dc2-4416-82e0-21db69360083",
    "_uuid": "26a45524-d734-49c5-8eda-a378e0070f03",
    "collapsed": false,
    "execution": {
     "iopub.execute_input": "2023-10-22T01:50:58.632281Z",
     "iopub.status.busy": "2023-10-22T01:50:58.630943Z",
     "iopub.status.idle": "2023-10-22T01:50:58.636440Z",
     "shell.execute_reply": "2023-10-22T01:50:58.635499Z"
    },
    "jupyter": {
     "outputs_hidden": false
    },
    "papermill": {
     "duration": 0.071011,
     "end_time": "2023-10-22T01:50:58.638929",
     "exception": false,
     "start_time": "2023-10-22T01:50:58.567918",
     "status": "completed"
    },
    "tags": []
   },
   "outputs": [],
   "source": [
    "# sns.catplot(x=\" \", y=TARGET, data=train, kind=\"boxen\");"
   ]
  },
  {
   "cell_type": "code",
   "execution_count": 26,
   "id": "6489ba10",
   "metadata": {
    "_cell_guid": "fe0185c5-9578-4c24-97ac-6da88b637f42",
    "_uuid": "5e2526e2-5e98-479c-a6ec-450c7f31c2cc",
    "collapsed": false,
    "execution": {
     "iopub.execute_input": "2023-10-22T01:50:58.762379Z",
     "iopub.status.busy": "2023-10-22T01:50:58.761144Z",
     "iopub.status.idle": "2023-10-22T01:50:58.767430Z",
     "shell.execute_reply": "2023-10-22T01:50:58.766111Z"
    },
    "jupyter": {
     "outputs_hidden": false
    },
    "papermill": {
     "duration": 0.070251,
     "end_time": "2023-10-22T01:50:58.769910",
     "exception": false,
     "start_time": "2023-10-22T01:50:58.699659",
     "status": "completed"
    },
    "tags": []
   },
   "outputs": [],
   "source": [
    "# feature = \" \"\n",
    "\n",
    "# sns.lmplot(\n",
    "#     x=feature, y=TARGET, hue=\"O2_1\", col=\"O2_1\",\n",
    "#     data=train, scatter_kws={\"edgecolor\": 'w'}, col_wrap=3, height=4,\n",
    "# );"
   ]
  },
  {
   "cell_type": "markdown",
   "id": "b4e75df2",
   "metadata": {
    "papermill": {
     "duration": 0.06003,
     "end_time": "2023-10-22T01:50:58.890961",
     "exception": false,
     "start_time": "2023-10-22T01:50:58.830931",
     "status": "completed"
    },
    "tags": []
   },
   "source": [
    "### Check the distribution of target variable"
   ]
  },
  {
   "cell_type": "code",
   "execution_count": 27,
   "id": "5c21d45a",
   "metadata": {
    "execution": {
     "iopub.execute_input": "2023-10-22T01:50:59.015782Z",
     "iopub.status.busy": "2023-10-22T01:50:59.014375Z",
     "iopub.status.idle": "2023-10-22T01:50:59.183479Z",
     "shell.execute_reply": "2023-10-22T01:50:59.182032Z"
    },
    "papermill": {
     "duration": 0.235714,
     "end_time": "2023-10-22T01:50:59.186131",
     "exception": false,
     "start_time": "2023-10-22T01:50:58.950417",
     "status": "completed"
    },
    "tags": []
   },
   "outputs": [
    {
     "data": {
      "text/plain": [
       "1    8660676\n",
       "0    4504884\n",
       "2    3124260\n",
       "Name: awake, dtype: int64"
      ]
     },
     "execution_count": 27,
     "metadata": {},
     "output_type": "execute_result"
    }
   ],
   "source": [
    "# check the distribution of the target variable\n",
    "train[TARGET].value_counts()"
   ]
  },
  {
   "cell_type": "code",
   "execution_count": 28,
   "id": "7093ccbf",
   "metadata": {
    "execution": {
     "iopub.execute_input": "2023-10-22T01:50:59.309425Z",
     "iopub.status.busy": "2023-10-22T01:50:59.308508Z",
     "iopub.status.idle": "2023-10-22T01:50:59.314369Z",
     "shell.execute_reply": "2023-10-22T01:50:59.313077Z"
    },
    "papermill": {
     "duration": 0.070554,
     "end_time": "2023-10-22T01:50:59.316657",
     "exception": false,
     "start_time": "2023-10-22T01:50:59.246103",
     "status": "completed"
    },
    "tags": []
   },
   "outputs": [],
   "source": [
    "#train"
   ]
  },
  {
   "cell_type": "code",
   "execution_count": 29,
   "id": "4820914d",
   "metadata": {
    "execution": {
     "iopub.execute_input": "2023-10-22T01:50:59.438138Z",
     "iopub.status.busy": "2023-10-22T01:50:59.437665Z",
     "iopub.status.idle": "2023-10-22T01:50:59.443050Z",
     "shell.execute_reply": "2023-10-22T01:50:59.441625Z"
    },
    "papermill": {
     "duration": 0.069272,
     "end_time": "2023-10-22T01:50:59.445413",
     "exception": false,
     "start_time": "2023-10-22T01:50:59.376141",
     "status": "completed"
    },
    "tags": []
   },
   "outputs": [],
   "source": [
    "#train['timestamp'] = pd.to_datetime(train['timestamp']).apply(lambda t: t.tz_localize(None))\n",
    "#train['timestamp'] = pd.to_datetime(train[\"timestamp\"],utc=True)"
   ]
  },
  {
   "cell_type": "markdown",
   "id": "22fb83a2",
   "metadata": {
    "_cell_guid": "eed7e06c-6cde-480c-85b0-48065de8661f",
    "_uuid": "7b6386b0-7f53-43cb-9c20-9fb38fb0cba6",
    "papermill": {
     "duration": 0.059558,
     "end_time": "2023-10-22T01:50:59.564959",
     "exception": false,
     "start_time": "2023-10-22T01:50:59.505401",
     "status": "completed"
    },
    "tags": []
   },
   "source": [
    "## Data Processing"
   ]
  },
  {
   "cell_type": "markdown",
   "id": "eaf6c30c",
   "metadata": {
    "_cell_guid": "5cd6bc9b-1445-4d64-9fcd-8275e290c332",
    "_uuid": "6bdd099e-be92-4df7-9be5-52d2164b32b9",
    "papermill": {
     "duration": 0.059252,
     "end_time": "2023-10-22T01:50:59.683517",
     "exception": false,
     "start_time": "2023-10-22T01:50:59.624265",
     "status": "completed"
    },
    "tags": []
   },
   "source": [
    "## Fine-Tune model"
   ]
  },
  {
   "cell_type": "code",
   "execution_count": 30,
   "id": "8d85270d",
   "metadata": {
    "execution": {
     "iopub.execute_input": "2023-10-22T01:50:59.808708Z",
     "iopub.status.busy": "2023-10-22T01:50:59.807365Z",
     "iopub.status.idle": "2023-10-22T01:50:59.813278Z",
     "shell.execute_reply": "2023-10-22T01:50:59.811963Z"
    },
    "papermill": {
     "duration": 0.071541,
     "end_time": "2023-10-22T01:50:59.815806",
     "exception": false,
     "start_time": "2023-10-22T01:50:59.744265",
     "status": "completed"
    },
    "tags": []
   },
   "outputs": [],
   "source": [
    "# X = train\n",
    "# y = train[TARGET]"
   ]
  },
  {
   "cell_type": "code",
   "execution_count": 31,
   "id": "b1a302e7",
   "metadata": {
    "_cell_guid": "4f850632-3973-4c50-be10-2b42e3c8471d",
    "_uuid": "d1c2cd82-754b-4ac4-b487-81af8e5ef336",
    "collapsed": false,
    "execution": {
     "iopub.execute_input": "2023-10-22T01:50:59.939795Z",
     "iopub.status.busy": "2023-10-22T01:50:59.939236Z",
     "iopub.status.idle": "2023-10-22T01:50:59.944995Z",
     "shell.execute_reply": "2023-10-22T01:50:59.943654Z"
    },
    "jupyter": {
     "outputs_hidden": false
    },
    "papermill": {
     "duration": 0.070141,
     "end_time": "2023-10-22T01:50:59.947609",
     "exception": false,
     "start_time": "2023-10-22T01:50:59.877468",
     "status": "completed"
    },
    "tags": []
   },
   "outputs": [],
   "source": [
    "# X.shape"
   ]
  },
  {
   "cell_type": "code",
   "execution_count": 32,
   "id": "c7db8acb",
   "metadata": {
    "execution": {
     "iopub.execute_input": "2023-10-22T01:51:00.072830Z",
     "iopub.status.busy": "2023-10-22T01:51:00.072327Z",
     "iopub.status.idle": "2023-10-22T01:51:00.079801Z",
     "shell.execute_reply": "2023-10-22T01:51:00.077699Z"
    },
    "papermill": {
     "duration": 0.073717,
     "end_time": "2023-10-22T01:51:00.082925",
     "exception": false,
     "start_time": "2023-10-22T01:51:00.009208",
     "status": "completed"
    },
    "tags": []
   },
   "outputs": [],
   "source": [
    "# # just for baseline\n",
    "# features_num = X.select_dtypes(exclude=['object']).copy().columns\n",
    "# features_cat = X.select_dtypes(include=['object']).copy().columns\n",
    "\n",
    "# transformer_num = make_pipeline(\n",
    "#     SimpleImputer(strategy=\"constant\"), # there are a few missing values\n",
    "#     #StandardScaler(),\n",
    "#     RobustScaler()\n",
    "# )\n",
    "# transformer_cat = make_pipeline(\n",
    "#     SimpleImputer(strategy=\"constant\", fill_value=\"NA\"),\n",
    "#     OneHotEncoder(handle_unknown='ignore'),\n",
    "# )\n",
    "\n",
    "# preprocessor = make_column_transformer(\n",
    "#     (transformer_num, features_num),\n",
    "#     (transformer_cat, features_cat),\n",
    "# )"
   ]
  },
  {
   "cell_type": "code",
   "execution_count": 33,
   "id": "a372012a",
   "metadata": {
    "_cell_guid": "43953788-a421-4cc0-892e-eef92d8f17a0",
    "_uuid": "efb4f0f1-84b2-485b-9639-3cc6cd20f317",
    "collapsed": false,
    "execution": {
     "iopub.execute_input": "2023-10-22T01:51:00.206531Z",
     "iopub.status.busy": "2023-10-22T01:51:00.205313Z",
     "iopub.status.idle": "2023-10-22T01:51:00.212852Z",
     "shell.execute_reply": "2023-10-22T01:51:00.211315Z"
    },
    "jupyter": {
     "outputs_hidden": false
    },
    "papermill": {
     "duration": 0.072521,
     "end_time": "2023-10-22T01:51:00.215261",
     "exception": false,
     "start_time": "2023-10-22T01:51:00.142740",
     "status": "completed"
    },
    "tags": []
   },
   "outputs": [],
   "source": [
    "#X_train,X_test,y_train,y_test = train_test_split(X,y,test_size=0.2)"
   ]
  },
  {
   "cell_type": "markdown",
   "id": "6fb87344",
   "metadata": {
    "papermill": {
     "duration": 0.059402,
     "end_time": "2023-10-22T01:51:00.336215",
     "exception": false,
     "start_time": "2023-10-22T01:51:00.276813",
     "status": "completed"
    },
    "tags": []
   },
   "source": [
    "### XGBoost"
   ]
  },
  {
   "cell_type": "code",
   "execution_count": 34,
   "id": "ce882d20",
   "metadata": {
    "execution": {
     "iopub.execute_input": "2023-10-22T01:51:00.457231Z",
     "iopub.status.busy": "2023-10-22T01:51:00.456740Z",
     "iopub.status.idle": "2023-10-22T01:51:00.468465Z",
     "shell.execute_reply": "2023-10-22T01:51:00.466684Z"
    },
    "papermill": {
     "duration": 0.075781,
     "end_time": "2023-10-22T01:51:00.471254",
     "exception": false,
     "start_time": "2023-10-22T01:51:00.395473",
     "status": "completed"
    },
    "tags": []
   },
   "outputs": [],
   "source": [
    "def XGBModel(X_train, y_train, preprocessor):    \n",
    "    \n",
    "#     param_lst_xgb = {\n",
    "#         'learning_rate' : [0.01, 0.03, 0.1, 0.15, 0.3, 0.5],\n",
    "#         'n_estimators' : [2, 10, 100],#500, 1000, 2000, 3000, 4000, 7000, 10000, 15000],\n",
    "#         'max_depth' : [3, 6, 9],\n",
    "#         'min_child_weight' : [1, 5, 10, 20],\n",
    "#         'reg_alpha' : [0.001, 0.01, 0.1],\n",
    "#         'reg_lambda' : [0.001, 0.01, 0.1]\n",
    "#     }\n",
    "    \n",
    "#     xgb_dflt = XGBClassifier()\n",
    "\n",
    "#     xgb_reg = RandomizedSearchCV(\n",
    "#                                     estimator = xgb_dflt, \n",
    "#                                     param_distributions = param_lst_xgb,\n",
    "#                                     n_iter = 2, \n",
    "#                                     scoring = 'accuracy',\n",
    "#                                     n_jobs = 100,\n",
    "#                                     cv = 2\n",
    "#                                 )\n",
    "\n",
    "    # Bundle preprocessing and modeling code in a pipeline\n",
    "#     xgb_pipeline = Pipeline(steps=[\n",
    "#                                     ('preprocessor', preprocessor),\n",
    "#                                     ('model_xgb_RandomizedSearchCV', xgb_reg)\n",
    "#                                  ])\n",
    "\n",
    "#     xgb_search = xgb_pipeline.fit(X_train, y_train)\n",
    "\n",
    "    # XGB with tune hyperparameters\n",
    "#     xgb = XGBClassifier(**xgb_search.named_steps['model_xgb_RandomizedSearchCV'].best_params_)\n",
    "\n",
    "    xgb = XGBClassifier(base_score=0.5, booster='gbtree', colsample_bylevel=1,\n",
    "       colsample_bynode=1, colsample_bytree=1, gamma=0, learning_rate=0.01,\n",
    "       max_delta_step=0, max_depth=9, min_child_weight=1, missing=1,\n",
    "       n_estimators=100, n_jobs=100, nthread=None,\n",
    "       objective='multi:softprob', random_state=0, reg_alpha=0.01,\n",
    "       reg_lambda=0.01, scale_pos_weight=1, seed=None, silent=None,\n",
    "       subsample=1, verbosity=1)\n",
    "    \n",
    "    # Bundle preprocessing and modeling code in a pipeline\n",
    "    xgb_pipeline_best_params = Pipeline(steps=[\n",
    "#                                     ('preprocessor', preprocessor),\n",
    "                                    ('model', xgb)\n",
    "                                 ])\n",
    "\n",
    "    xgb_pipeline_best_params.fit(X_train, y_train)\n",
    "\n",
    "#     print(\"best_params_ \", xgb_search.named_steps['model_xgb_RandomizedSearchCV'].best_params_)\n",
    "#     print(\"best_score_ \", xgb_search.named_steps['model_xgb_RandomizedSearchCV'].best_score_)\n",
    "#     print(\"best_estimator_ \", xgb_search.named_steps['model_xgb_RandomizedSearchCV'].best_estimator_)\n",
    "#     print(\"cv_results_ \", xgb_search.named_steps['model_xgb_RandomizedSearchCV'].cv_results_)\n",
    "#     print(\"mean_test_score \", xgb_search.named_steps['model_xgb_RandomizedSearchCV'].cv_results_['mean_test_score'])\n",
    "\n",
    "    return xgb_pipeline_best_params\n",
    "\n",
    "#xgb_pipeline = XGBModel(X_train, y_train, preprocessor)"
   ]
  },
  {
   "cell_type": "markdown",
   "id": "aad4bd21",
   "metadata": {
    "papermill": {
     "duration": 0.059843,
     "end_time": "2023-10-22T01:51:00.591245",
     "exception": false,
     "start_time": "2023-10-22T01:51:00.531402",
     "status": "completed"
    },
    "tags": []
   },
   "source": [
    "### LightGBM"
   ]
  },
  {
   "cell_type": "code",
   "execution_count": 35,
   "id": "e523e665",
   "metadata": {
    "execution": {
     "iopub.execute_input": "2023-10-22T01:51:00.713372Z",
     "iopub.status.busy": "2023-10-22T01:51:00.712912Z",
     "iopub.status.idle": "2023-10-22T01:51:00.724739Z",
     "shell.execute_reply": "2023-10-22T01:51:00.723800Z"
    },
    "papermill": {
     "duration": 0.076159,
     "end_time": "2023-10-22T01:51:00.727225",
     "exception": false,
     "start_time": "2023-10-22T01:51:00.651066",
     "status": "completed"
    },
    "tags": []
   },
   "outputs": [],
   "source": [
    "def LGBMModel(X_train, y_train, preprocessor):\n",
    "    \n",
    "    lgbm_dflt = LGBMClassifier()\n",
    "\n",
    "    param_lst_lgbm = {\n",
    "        'max_depth' : [2, 5, 8, 10],\n",
    "        'learning_rate' : [0.001, 0.01, 0.03, 0.1, 0.2],\n",
    "        'n_estimators' : [10],#, 300, 500, 1000, 1500, 4000, 7000, 10000, 15000],\n",
    "        'lambda_l1' : [0.0001, 0.001, 0.01],\n",
    "        'lambda_l2' : [0, 0.0001, 0.001, 0.01],\n",
    "        'feature_fraction' : [0.4, 0.6, 0.8],\n",
    "        'min_child_samples' : [5, 10, 20, 25]\n",
    "    }\n",
    "\n",
    "    lightgbm = RandomizedSearchCV(estimator = lgbm_dflt, \n",
    "                                  param_distributions = param_lst_lgbm,\n",
    "                                  n_iter = 3, \n",
    "                                  scoring = 'accuracy',\n",
    "                                  n_jobs = 20,\n",
    "                                  cv = 5)\n",
    "\n",
    "    lgbm_pipeline = Pipeline(steps=[\n",
    "                                    ('preprocessor', preprocessor),\n",
    "                                    ('model_lightgbm_RandomizedSearchCV', lightgbm)\n",
    "                                 ])\n",
    "\n",
    "    lightgbm_search = lgbm_pipeline.fit(X_train, y_train)\n",
    "\n",
    "    #LightBGM with tuned hyperparameters\n",
    "    lgbm = LGBMClassifier(**lightgbm_search.named_steps['model_lightgbm_RandomizedSearchCV'].best_params_, verbose_eval=False)\n",
    "\n",
    "    lgbm_pipeline_best_params = Pipeline(steps=[\n",
    "                                    ('preprocessor', preprocessor),\n",
    "                                    ('model', lgbm)\n",
    "                                 ])\n",
    "\n",
    "    lgbm_pipeline_best_params.fit(X_train, y_train)\n",
    "    print(lightgbm_search.named_steps['model_lightgbm_RandomizedSearchCV'].best_score_)\n",
    "    return lgbm_pipeline_best_params\n",
    "\n",
    "#lgbm_pipeline = LGBMModel(X_train, y_train, preprocessor)"
   ]
  },
  {
   "cell_type": "markdown",
   "id": "336c6d12",
   "metadata": {
    "papermill": {
     "duration": 0.059741,
     "end_time": "2023-10-22T01:51:00.847392",
     "exception": false,
     "start_time": "2023-10-22T01:51:00.787651",
     "status": "completed"
    },
    "tags": []
   },
   "source": [
    "### CatBoost"
   ]
  },
  {
   "cell_type": "code",
   "execution_count": 36,
   "id": "59ae3ab5",
   "metadata": {
    "execution": {
     "iopub.execute_input": "2023-10-22T01:51:00.970069Z",
     "iopub.status.busy": "2023-10-22T01:51:00.968823Z",
     "iopub.status.idle": "2023-10-22T01:51:00.980458Z",
     "shell.execute_reply": "2023-10-22T01:51:00.979201Z"
    },
    "papermill": {
     "duration": 0.076168,
     "end_time": "2023-10-22T01:51:00.983371",
     "exception": false,
     "start_time": "2023-10-22T01:51:00.907203",
     "status": "completed"
    },
    "tags": []
   },
   "outputs": [],
   "source": [
    "def CatBoostModel(X_train, y_train, preprocessor):\n",
    "    \n",
    "    cb_dflt = CatBoostClassifier(logging_level='Silent')\n",
    "\n",
    "    param_lst_cb = {\n",
    "        'n_estimators' : [10],#0, 300, 500, 1000, 1300, 1600, 4000, 7000, 10000, 15000],\n",
    "        'learning_rate' : [0.0001, 0.001, 0.01, 0.03, 0.1],\n",
    "        'l2_leaf_reg' : [0.001, 0.01, 0.1],\n",
    "        'random_strength' : [0.25, 0.5 ,1],\n",
    "        'max_depth' : [3, 6, 9],\n",
    "        'min_child_samples' : [2, 5, 10, 15, 20],\n",
    "        'rsm' : [0.5, 0.7, 0.9]\n",
    "    }\n",
    "\n",
    "    catboost = RandomizedSearchCV(estimator = cb_dflt, \n",
    "                                  param_distributions = param_lst_cb,\n",
    "                                  n_iter = 3, \n",
    "                                  scoring = 'accuracy', \n",
    "                                  n_jobs = 20,\n",
    "                                  cv = 5)\n",
    "\n",
    "    cb_pipeline = Pipeline(steps=[\n",
    "                                    ('preprocessor', preprocessor),\n",
    "                                    ('model_catboost_RandomizedSearchCV', catboost)\n",
    "                                 ])\n",
    "\n",
    "    catboost_search = cb_pipeline.fit(X_train, y_train)\n",
    "\n",
    "    # CatBoost with tuned hyperparams\n",
    "    cb = CatBoostClassifier(**catboost_search.named_steps['model_catboost_RandomizedSearchCV'].best_params_, logging_level='Silent')\n",
    "\n",
    "    # # Bundle preprocessing and modeling code in a pipeline\n",
    "    cb_pipeline_best_params = Pipeline(steps=[\n",
    "                                    ('preprocessor', preprocessor),\n",
    "                                    ('model', cb)\n",
    "                                 ])\n",
    "\n",
    "    cb_pipeline_best_params.fit(X_train, y_train)\n",
    "\n",
    "    print(catboost_search.named_steps['model_catboost_RandomizedSearchCV'].best_score_)\n",
    "    return cb_pipeline_best_params\n",
    "\n",
    "#cb_pipeline = CatBoostModel(X_train, y_train, preprocessor)"
   ]
  },
  {
   "cell_type": "markdown",
   "id": "ab77e007",
   "metadata": {
    "papermill": {
     "duration": 0.068907,
     "end_time": "2023-10-22T01:51:01.119342",
     "exception": false,
     "start_time": "2023-10-22T01:51:01.050435",
     "status": "completed"
    },
    "tags": []
   },
   "source": [
    "### Validate best pipe with valid data"
   ]
  },
  {
   "cell_type": "code",
   "execution_count": 37,
   "id": "ae5fc75a",
   "metadata": {
    "execution": {
     "iopub.execute_input": "2023-10-22T01:51:01.249424Z",
     "iopub.status.busy": "2023-10-22T01:51:01.248802Z",
     "iopub.status.idle": "2023-10-22T01:51:01.259712Z",
     "shell.execute_reply": "2023-10-22T01:51:01.258243Z"
    },
    "papermill": {
     "duration": 0.07983,
     "end_time": "2023-10-22T01:51:01.262481",
     "exception": false,
     "start_time": "2023-10-22T01:51:01.182651",
     "status": "completed"
    },
    "tags": []
   },
   "outputs": [],
   "source": [
    "def validate_best_pipe(X_valid, y_valid, xgb_pipeline, lgbm_pipeline, cb_pipeline):    \n",
    "    \n",
    "    #xgb_pipeline\n",
    "    if xgb_pipeline is not None:\n",
    "        preds = xgb_pipeline.predict(X_valid)\n",
    "\n",
    "    #     score_xgb_mae = mean_absolute_error(y_valid, preds)\n",
    "    #     rmse_xgb = np.sqrt(mean_squared_error(y_valid, preds))\n",
    "        score_xgb = xgb_pipeline.score(X_valid, y_valid)\n",
    "        #cv_xgb = mean_cross_val(xgb_pipeline, x, y)\n",
    "    \n",
    "        print('---xgb---')\n",
    "    #     print('MAE:', score_xgb_mae)\n",
    "        print('Score:', score_xgb)\n",
    "    #     print('RMSE:', rmse_xgb)\n",
    "        #print('CV:', cv_xgb)\n",
    "    \n",
    "    #lgbm_pipeline\n",
    "    if lgbm_pipeline is not None:\n",
    "        preds = lgbm_pipeline.predict(X_valid)\n",
    "\n",
    "    #     score_lgbm_mae = mean_absolute_error(y_valid, preds)\n",
    "    #     rmse_lgbm = np.sqrt(mean_squared_error(y_valid, preds))\n",
    "        score_lgbm = lgbm_pipeline.score(X_valid, y_valid)\n",
    "        #cv_lgbm = mean_cross_val(lgbm_pipeline, x, y)\n",
    "\n",
    "        print('---lgbm---')\n",
    "    #     print('MAE:', score_lgbm_mae)\n",
    "        print('Score:', score_lgbm)\n",
    "    #     print('RMSE:', rmse_xgb)\n",
    "        #print('CV:', cv_lgbm)\n",
    "    \n",
    "    #cb_pipeline\n",
    "    if cb_pipeline is not None:\n",
    "        preds = cb_pipeline.predict(X_valid)\n",
    "\n",
    "        score_cb_mae = mean_absolute_error(y_valid, preds)\n",
    "        rmse_cb = np.sqrt(mean_squared_error(y_valid, preds))\n",
    "        score_cb = cb_pipeline.score(X_valid, y_valid)\n",
    "        #cv_cb = mean_cross_val(cb_pipeline, x, y)\n",
    "\n",
    "        print('---cb_pipeline---')\n",
    "    #     print('MAE:', score_cb_mae)\n",
    "        print('Score:', score_cb)\n",
    "    #     print('RMSE:', rmse_cb)\n",
    "        #print('CV:', cv_cb)"
   ]
  },
  {
   "cell_type": "markdown",
   "id": "5b92f399",
   "metadata": {
    "papermill": {
     "duration": 0.063538,
     "end_time": "2023-10-22T01:51:01.393210",
     "exception": false,
     "start_time": "2023-10-22T01:51:01.329672",
     "status": "completed"
    },
    "tags": []
   },
   "source": [
    "## BaseLine "
   ]
  },
  {
   "cell_type": "code",
   "execution_count": 38,
   "id": "71a2edf1",
   "metadata": {
    "execution": {
     "iopub.execute_input": "2023-10-22T01:51:01.529191Z",
     "iopub.status.busy": "2023-10-22T01:51:01.528795Z",
     "iopub.status.idle": "2023-10-22T01:51:01.533923Z",
     "shell.execute_reply": "2023-10-22T01:51:01.532535Z"
    },
    "papermill": {
     "duration": 0.077331,
     "end_time": "2023-10-22T01:51:01.537318",
     "exception": false,
     "start_time": "2023-10-22T01:51:01.459987",
     "status": "completed"
    },
    "tags": []
   },
   "outputs": [],
   "source": [
    "# X_train,X_valid,y_train,y_valid = train_test_split(X,y,test_size=0.2)\n",
    "\n",
    "# def score_competition(X_valid, y_valid, xgb_pipeline, lgbm_pipeline, cb_pipeline):\n",
    "#     validate_best_pipe(X_valid, y_valid, xgb_pipeline, lgbm_pipeline, cb_pipeline)\n",
    "\n",
    "# score_competition(X_valid, y_valid, xgb_pipeline, lgbm_pipeline, cb_pipeline)"
   ]
  },
  {
   "cell_type": "code",
   "execution_count": 39,
   "id": "0fb3fe82",
   "metadata": {
    "execution": {
     "iopub.execute_input": "2023-10-22T01:51:01.669447Z",
     "iopub.status.busy": "2023-10-22T01:51:01.669025Z",
     "iopub.status.idle": "2023-10-22T01:51:01.674228Z",
     "shell.execute_reply": "2023-10-22T01:51:01.673014Z"
    },
    "papermill": {
     "duration": 0.073775,
     "end_time": "2023-10-22T01:51:01.676720",
     "exception": false,
     "start_time": "2023-10-22T01:51:01.602945",
     "status": "completed"
    },
    "tags": []
   },
   "outputs": [],
   "source": [
    "# X.shape"
   ]
  },
  {
   "cell_type": "markdown",
   "id": "a0ac85d0",
   "metadata": {
    "_cell_guid": "7424f886-3ccf-4de5-a7de-ed7c2f338498",
    "_uuid": "972f1745-19c5-4964-a4bd-98b1bf0b533a",
    "papermill": {
     "duration": 0.069746,
     "end_time": "2023-10-22T01:51:01.811829",
     "exception": false,
     "start_time": "2023-10-22T01:51:01.742083",
     "status": "completed"
    },
    "tags": []
   },
   "source": [
    "## Redundant features"
   ]
  },
  {
   "cell_type": "markdown",
   "id": "ed312999",
   "metadata": {
    "_cell_guid": "32e508b3-4722-4ebd-b0c0-0ee206b409cc",
    "_uuid": "d11c4809-2727-4108-a8ef-3aa89a1ffdc4",
    "papermill": {
     "duration": 0.064568,
     "end_time": "2023-10-22T01:51:01.941015",
     "exception": false,
     "start_time": "2023-10-22T01:51:01.876447",
     "status": "completed"
    },
    "tags": []
   },
   "source": [
    "Now that we have more or less finished analysing our data and gaining insights through the various analysis and visualization, we will have to leverage on these insights to guide our preprocessing decision, so as to provide a clean and error-free data for our model to train on later on."
   ]
  },
  {
   "cell_type": "markdown",
   "id": "553c391f",
   "metadata": {
    "_cell_guid": "e0d3537b-7463-4167-a393-f00973d76a1e",
    "_uuid": "6b8c6a8b-0b6b-4958-9e33-d1482637dda4",
    "papermill": {
     "duration": 0.059549,
     "end_time": "2023-10-22T01:51:02.082089",
     "exception": false,
     "start_time": "2023-10-22T01:51:02.022540",
     "status": "completed"
    },
    "tags": []
   },
   "source": [
    "### Multicollinearity - highly correlated features"
   ]
  },
  {
   "cell_type": "markdown",
   "id": "9bdcb293",
   "metadata": {
    "_cell_guid": "3114e6d0-3071-437a-ad77-bdd94fc74943",
    "_uuid": "0e54af01-9955-4660-9e53-5fe618ed0784",
    "papermill": {
     "duration": 0.059971,
     "end_time": "2023-10-22T01:51:02.201960",
     "exception": false,
     "start_time": "2023-10-22T01:51:02.141989",
     "status": "completed"
    },
    "tags": []
   },
   "source": [
    "From the above correlation matrix, we can pinpointed certain features that are highly correlated that we will remove to avoid the problem of multicollinearity."
   ]
  },
  {
   "cell_type": "code",
   "execution_count": 40,
   "id": "bd812444",
   "metadata": {
    "_cell_guid": "74985145-eebd-4b97-9e62-9ab31aaa4cd0",
    "_uuid": "cb923d2b-b45d-47d4-aef6-c72932245d34",
    "collapsed": false,
    "execution": {
     "iopub.execute_input": "2023-10-22T01:51:02.323982Z",
     "iopub.status.busy": "2023-10-22T01:51:02.323471Z",
     "iopub.status.idle": "2023-10-22T01:51:02.328543Z",
     "shell.execute_reply": "2023-10-22T01:51:02.327103Z"
    },
    "jupyter": {
     "outputs_hidden": false
    },
    "papermill": {
     "duration": 0.069135,
     "end_time": "2023-10-22T01:51:02.330937",
     "exception": false,
     "start_time": "2023-10-22T01:51:02.261802",
     "status": "completed"
    },
    "tags": []
   },
   "outputs": [],
   "source": [
    "# X.drop(['Features 1','Features 2','Features 3','Features 4'], axis=1, inplace=True)"
   ]
  },
  {
   "cell_type": "markdown",
   "id": "f16dca56",
   "metadata": {
    "_cell_guid": "e0b43f1a-136f-42b1-9194-42838d3f2389",
    "_uuid": "703e2fa9-04e6-40fa-bbe0-9d678e9c54bf",
    "papermill": {
     "duration": 0.059037,
     "end_time": "2023-10-22T01:51:02.449313",
     "exception": false,
     "start_time": "2023-10-22T01:51:02.390276",
     "status": "completed"
    },
    "tags": []
   },
   "source": [
    "### Features with alot of missing values"
   ]
  },
  {
   "cell_type": "markdown",
   "id": "482aee67",
   "metadata": {
    "_cell_guid": "51a5ce3a-21ee-41b5-92b0-595d215c3501",
    "_uuid": "b1822e44-23a1-4eea-bbef-ce2e82925f26",
    "papermill": {
     "duration": 0.059419,
     "end_time": "2023-10-22T01:51:02.568168",
     "exception": false,
     "start_time": "2023-10-22T01:51:02.508749",
     "status": "completed"
    },
    "tags": []
   },
   "source": [
    "Apart from these highly correlated features, we also can remove features that is not very useful in prediction due to many missing values that can provide any useful information."
   ]
  },
  {
   "cell_type": "code",
   "execution_count": 41,
   "id": "2ea4d65a",
   "metadata": {
    "_cell_guid": "6067f93f-3a83-424e-a51d-60227cae610f",
    "_uuid": "b4512f72-4165-4726-98e1-ca2146e3e200",
    "collapsed": false,
    "execution": {
     "iopub.execute_input": "2023-10-22T01:51:02.689230Z",
     "iopub.status.busy": "2023-10-22T01:51:02.688786Z",
     "iopub.status.idle": "2023-10-22T01:51:02.694323Z",
     "shell.execute_reply": "2023-10-22T01:51:02.692810Z"
    },
    "jupyter": {
     "outputs_hidden": false
    },
    "papermill": {
     "duration": 0.069173,
     "end_time": "2023-10-22T01:51:02.696805",
     "exception": false,
     "start_time": "2023-10-22T01:51:02.627632",
     "status": "completed"
    },
    "tags": []
   },
   "outputs": [],
   "source": [
    "# plt.figure(figsize=(25,8))\n",
    "# plt.title('Number of missing rows')\n",
    "# missing_count = pd.DataFrame(X.isnull().sum(), columns=['sum']).sort_values(by=['sum'],ascending=False).head(20).reset_index()\n",
    "# missing_count.columns = ['features','sum']\n",
    "# sns.barplot(x='features',y='sum', data = missing_count)"
   ]
  },
  {
   "cell_type": "code",
   "execution_count": 42,
   "id": "cb7d1f73",
   "metadata": {
    "_cell_guid": "97642a1c-5f10-41ef-b759-a4679422821d",
    "_uuid": "21998514-b4d9-4c8a-9291-e87acb418e4c",
    "collapsed": false,
    "execution": {
     "iopub.execute_input": "2023-10-22T01:51:02.818363Z",
     "iopub.status.busy": "2023-10-22T01:51:02.817468Z",
     "iopub.status.idle": "2023-10-22T01:51:02.823301Z",
     "shell.execute_reply": "2023-10-22T01:51:02.822031Z"
    },
    "jupyter": {
     "outputs_hidden": false
    },
    "papermill": {
     "duration": 0.069401,
     "end_time": "2023-10-22T01:51:02.825765",
     "exception": false,
     "start_time": "2023-10-22T01:51:02.756364",
     "status": "completed"
    },
    "tags": []
   },
   "outputs": [],
   "source": [
    "# X.drop(['','',''], axis=1, inplace=True)"
   ]
  },
  {
   "cell_type": "code",
   "execution_count": 43,
   "id": "6c474c53",
   "metadata": {
    "_cell_guid": "e817a0c3-8458-4c6e-8615-c3cbeca222e3",
    "_uuid": "d6e74e00-e59a-4491-8f0a-e4e64c650c85",
    "collapsed": false,
    "execution": {
     "iopub.execute_input": "2023-10-22T01:51:02.949344Z",
     "iopub.status.busy": "2023-10-22T01:51:02.948333Z",
     "iopub.status.idle": "2023-10-22T01:51:02.954032Z",
     "shell.execute_reply": "2023-10-22T01:51:02.952755Z"
    },
    "jupyter": {
     "outputs_hidden": false
    },
    "papermill": {
     "duration": 0.070597,
     "end_time": "2023-10-22T01:51:02.956445",
     "exception": false,
     "start_time": "2023-10-22T01:51:02.885848",
     "status": "completed"
    },
    "tags": []
   },
   "outputs": [],
   "source": [
    "# [X.shape, y.shape]"
   ]
  },
  {
   "cell_type": "markdown",
   "id": "ee3b03f4",
   "metadata": {
    "_cell_guid": "bc93f774-2772-4b9e-a8bd-980df035c9de",
    "_uuid": "f4aeed2d-9d57-4c67-816f-c6af73824656",
    "papermill": {
     "duration": 0.059374,
     "end_time": "2023-10-22T01:51:03.077771",
     "exception": false,
     "start_time": "2023-10-22T01:51:03.018397",
     "status": "completed"
    },
    "tags": []
   },
   "source": [
    "### Useless features"
   ]
  },
  {
   "cell_type": "markdown",
   "id": "2634f136",
   "metadata": {
    "_cell_guid": "055d0b0f-0901-4b18-8daf-76850e686704",
    "_uuid": "c39338cc-89b0-4dcb-9565-6d9ede9004ab",
    "papermill": {
     "duration": 0.059252,
     "end_time": "2023-10-22T01:51:03.196536",
     "exception": false,
     "start_time": "2023-10-22T01:51:03.137284",
     "status": "completed"
    },
    "tags": []
   },
   "source": [
    "We can also remove features that does not have any linear relationship with target identified on the Correlation analysis."
   ]
  },
  {
   "cell_type": "code",
   "execution_count": 44,
   "id": "f506fac4",
   "metadata": {
    "_cell_guid": "30308da1-dd2e-4f7e-8a22-84504b4b3059",
    "_uuid": "599cc0ac-1894-48e8-b3f4-9c3e7fa95646",
    "collapsed": false,
    "execution": {
     "iopub.execute_input": "2023-10-22T01:51:03.317923Z",
     "iopub.status.busy": "2023-10-22T01:51:03.317421Z",
     "iopub.status.idle": "2023-10-22T01:51:03.322481Z",
     "shell.execute_reply": "2023-10-22T01:51:03.321144Z"
    },
    "jupyter": {
     "outputs_hidden": false
    },
    "papermill": {
     "duration": 0.068085,
     "end_time": "2023-10-22T01:51:03.324725",
     "exception": false,
     "start_time": "2023-10-22T01:51:03.256640",
     "status": "completed"
    },
    "tags": []
   },
   "outputs": [],
   "source": [
    "# fig,axes = plt.subplots(1,2, figsize=(15,5))\n",
    "# sns.regplot(x=num_col_TARGET['NH4_5'], y=TARGET, data=num_col_TARGET, ax = axes[0], line_kws={'color':'black'})\n",
    "# sns.regplot(x=num_col_TARGET['NO2_1'], y=TARGET, data=num_col_TARGET, ax = axes[1], line_kws={'color':'black'})\n",
    "# fig.tight_layout(pad=2.0)"
   ]
  },
  {
   "cell_type": "code",
   "execution_count": 45,
   "id": "5dd54d8f",
   "metadata": {
    "_cell_guid": "19bb60d9-c1ce-446a-8a78-fdc32ce89c3a",
    "_uuid": "dc211013-4ce2-42ad-8647-35f7aa0e7284",
    "collapsed": false,
    "execution": {
     "iopub.execute_input": "2023-10-22T01:51:03.445205Z",
     "iopub.status.busy": "2023-10-22T01:51:03.444818Z",
     "iopub.status.idle": "2023-10-22T01:51:03.449979Z",
     "shell.execute_reply": "2023-10-22T01:51:03.448659Z"
    },
    "jupyter": {
     "outputs_hidden": false
    },
    "papermill": {
     "duration": 0.068315,
     "end_time": "2023-10-22T01:51:03.452281",
     "exception": false,
     "start_time": "2023-10-22T01:51:03.383966",
     "status": "completed"
    },
    "tags": []
   },
   "outputs": [],
   "source": [
    "# correlation[[TARGET]].sort_values([TARGET], ascending=False).tail(10)"
   ]
  },
  {
   "cell_type": "code",
   "execution_count": 46,
   "id": "82d23ecf",
   "metadata": {
    "_cell_guid": "7a9d8e40-8c35-4378-a46e-f60cbd7488a0",
    "_uuid": "3aa2f2dc-9255-4c44-9e88-22003d289556",
    "collapsed": false,
    "execution": {
     "iopub.execute_input": "2023-10-22T01:51:03.574299Z",
     "iopub.status.busy": "2023-10-22T01:51:03.573284Z",
     "iopub.status.idle": "2023-10-22T01:51:03.578274Z",
     "shell.execute_reply": "2023-10-22T01:51:03.576899Z"
    },
    "jupyter": {
     "outputs_hidden": false
    },
    "papermill": {
     "duration": 0.069111,
     "end_time": "2023-10-22T01:51:03.580642",
     "exception": false,
     "start_time": "2023-10-22T01:51:03.511531",
     "status": "completed"
    },
    "tags": []
   },
   "outputs": [],
   "source": [
    "# X.drop(['',''], axis=1, inplace=True)"
   ]
  },
  {
   "cell_type": "code",
   "execution_count": 47,
   "id": "0405e153",
   "metadata": {
    "_cell_guid": "3f474a37-95d3-44c9-85a2-bf3159173ce7",
    "_uuid": "525ff29e-a48d-476e-99d4-37983f8d8e29",
    "collapsed": false,
    "execution": {
     "iopub.execute_input": "2023-10-22T01:51:03.702959Z",
     "iopub.status.busy": "2023-10-22T01:51:03.702193Z",
     "iopub.status.idle": "2023-10-22T01:51:03.707242Z",
     "shell.execute_reply": "2023-10-22T01:51:03.706176Z"
    },
    "jupyter": {
     "outputs_hidden": false
    },
    "papermill": {
     "duration": 0.069199,
     "end_time": "2023-10-22T01:51:03.709700",
     "exception": false,
     "start_time": "2023-10-22T01:51:03.640501",
     "status": "completed"
    },
    "tags": []
   },
   "outputs": [],
   "source": [
    "# X.shape"
   ]
  },
  {
   "cell_type": "markdown",
   "id": "c03b6d10",
   "metadata": {
    "_cell_guid": "38093105-ea67-4b3c-9696-6f2d8dc9bdfc",
    "_uuid": "d97dc2cb-357d-4dc1-a2ac-7a868391d765",
    "papermill": {
     "duration": 0.059377,
     "end_time": "2023-10-22T01:51:03.829311",
     "exception": false,
     "start_time": "2023-10-22T01:51:03.769934",
     "status": "completed"
    },
    "tags": []
   },
   "source": [
    "### Removing features that have mostly just 1 value"
   ]
  },
  {
   "cell_type": "markdown",
   "id": "dccfc222",
   "metadata": {
    "_cell_guid": "927f71a5-818e-4695-8a9e-4f92bfa2f907",
    "_uuid": "03ae218d-34df-4e92-8c0f-afa02be2fee1",
    "papermill": {
     "duration": 0.060493,
     "end_time": "2023-10-22T01:51:03.950754",
     "exception": false,
     "start_time": "2023-10-22T01:51:03.890261",
     "status": "completed"
    },
    "tags": []
   },
   "source": [
    "Earlier during our Univariate analysis, if we found that some features mostly consist of just a single value or 0s, which is not useful to us, we set a user defined threshold at 96% where if a column has more than 96% of the same value, we will render the features to be useless and remove it, since there isnt much information we can extract from"
   ]
  },
  {
   "cell_type": "code",
   "execution_count": 48,
   "id": "a73ad1fe",
   "metadata": {
    "_cell_guid": "a901fd3d-724e-488c-94c9-f074042a4e67",
    "_uuid": "ff1e8846-ff4f-469d-8fa3-84ca3c75224a",
    "collapsed": false,
    "execution": {
     "iopub.execute_input": "2023-10-22T01:51:04.074010Z",
     "iopub.status.busy": "2023-10-22T01:51:04.073245Z",
     "iopub.status.idle": "2023-10-22T01:51:04.078981Z",
     "shell.execute_reply": "2023-10-22T01:51:04.077631Z"
    },
    "jupyter": {
     "outputs_hidden": false
    },
    "papermill": {
     "duration": 0.070423,
     "end_time": "2023-10-22T01:51:04.081600",
     "exception": false,
     "start_time": "2023-10-22T01:51:04.011177",
     "status": "completed"
    },
    "tags": []
   },
   "outputs": [],
   "source": [
    "# cat_col = X.select_dtypes(include=['object']).columns\n",
    "# overfit_cat = []\n",
    "# for i in cat_col:\n",
    "#     counts = X[i].value_counts()\n",
    "#     zeros = counts.iloc[0]\n",
    "#     if zeros / len(X) * 100 > 96:\n",
    "#         overfit_cat.append(i)\n",
    "\n",
    "# overfit_cat = list(overfit_cat)\n",
    "# print(overfit_cat)"
   ]
  },
  {
   "cell_type": "code",
   "execution_count": 49,
   "id": "18cd523a",
   "metadata": {
    "_cell_guid": "9291f4d7-0198-4fc3-a33b-6ec42cf9f689",
    "_uuid": "5def79d6-dc03-44fa-89b1-110382611500",
    "collapsed": false,
    "execution": {
     "iopub.execute_input": "2023-10-22T01:51:04.204107Z",
     "iopub.status.busy": "2023-10-22T01:51:04.203657Z",
     "iopub.status.idle": "2023-10-22T01:51:04.209401Z",
     "shell.execute_reply": "2023-10-22T01:51:04.207689Z"
    },
    "jupyter": {
     "outputs_hidden": false
    },
    "papermill": {
     "duration": 0.06965,
     "end_time": "2023-10-22T01:51:04.211914",
     "exception": false,
     "start_time": "2023-10-22T01:51:04.142264",
     "status": "completed"
    },
    "tags": []
   },
   "outputs": [],
   "source": [
    "# X = X.drop(overfit_cat, axis=1)"
   ]
  },
  {
   "cell_type": "code",
   "execution_count": 50,
   "id": "266d0430",
   "metadata": {
    "_cell_guid": "939c5f45-a2d6-4986-acb2-10b613be773f",
    "_uuid": "89c8b499-5ffa-4892-81bc-6997eaa7251a",
    "collapsed": false,
    "execution": {
     "iopub.execute_input": "2023-10-22T01:51:04.334073Z",
     "iopub.status.busy": "2023-10-22T01:51:04.333614Z",
     "iopub.status.idle": "2023-10-22T01:51:04.339130Z",
     "shell.execute_reply": "2023-10-22T01:51:04.337922Z"
    },
    "jupyter": {
     "outputs_hidden": false
    },
    "papermill": {
     "duration": 0.06963,
     "end_time": "2023-10-22T01:51:04.341611",
     "exception": false,
     "start_time": "2023-10-22T01:51:04.271981",
     "status": "completed"
    },
    "tags": []
   },
   "outputs": [],
   "source": [
    "# num_col = X.select_dtypes(exclude=['object']).copy()\n",
    "# overfit_num = []\n",
    "# for i in num_col:\n",
    "#     counts = X[i].value_counts()\n",
    "#     zeros = counts.iloc[0]\n",
    "#     if zeros / len(X) * 100 > 96:\n",
    "#         overfit_num.append(i)\n",
    "\n",
    "# overfit_num = list(overfit_num)\n",
    "# print(overfit_num)"
   ]
  },
  {
   "cell_type": "code",
   "execution_count": 51,
   "id": "218697ee",
   "metadata": {
    "_cell_guid": "758de55d-eed2-4081-8a00-e9c5488886ce",
    "_uuid": "fb0a38e3-0fb0-4351-bd34-ff435efcb95f",
    "collapsed": false,
    "execution": {
     "iopub.execute_input": "2023-10-22T01:51:04.464380Z",
     "iopub.status.busy": "2023-10-22T01:51:04.463698Z",
     "iopub.status.idle": "2023-10-22T01:51:04.469220Z",
     "shell.execute_reply": "2023-10-22T01:51:04.467904Z"
    },
    "jupyter": {
     "outputs_hidden": false
    },
    "papermill": {
     "duration": 0.069822,
     "end_time": "2023-10-22T01:51:04.471641",
     "exception": false,
     "start_time": "2023-10-22T01:51:04.401819",
     "status": "completed"
    },
    "tags": []
   },
   "outputs": [],
   "source": [
    "# X = X.drop(overfit_num, axis=1)"
   ]
  },
  {
   "cell_type": "code",
   "execution_count": 52,
   "id": "4a172c8e",
   "metadata": {
    "_cell_guid": "0eb5a55c-9e04-4814-8805-c25a8aa27322",
    "_uuid": "afba3d12-59f1-41a6-91c0-b6a5374a5318",
    "collapsed": false,
    "execution": {
     "iopub.execute_input": "2023-10-22T01:51:04.594127Z",
     "iopub.status.busy": "2023-10-22T01:51:04.593658Z",
     "iopub.status.idle": "2023-10-22T01:51:04.598919Z",
     "shell.execute_reply": "2023-10-22T01:51:04.597550Z"
    },
    "jupyter": {
     "outputs_hidden": false
    },
    "papermill": {
     "duration": 0.069862,
     "end_time": "2023-10-22T01:51:04.601341",
     "exception": false,
     "start_time": "2023-10-22T01:51:04.531479",
     "status": "completed"
    },
    "tags": []
   },
   "outputs": [],
   "source": [
    "# print(\"Categorical Features with >96% of the same value: \",overfit_cat)\n",
    "# print(\"Numerical Features with >96% of the same value: \",overfit_num)"
   ]
  },
  {
   "cell_type": "markdown",
   "id": "2bb7e622",
   "metadata": {
    "_cell_guid": "96dd4df0-f614-4003-a72b-e75123838b19",
    "_uuid": "d480d41f-d58c-4873-a6f7-e36ddd0dbee9",
    "papermill": {
     "duration": 0.059601,
     "end_time": "2023-10-22T01:51:04.721325",
     "exception": false,
     "start_time": "2023-10-22T01:51:04.661724",
     "status": "completed"
    },
    "tags": []
   },
   "source": [
    "### Dealing with duplicated values"
   ]
  },
  {
   "cell_type": "code",
   "execution_count": 53,
   "id": "9adcb293",
   "metadata": {
    "_cell_guid": "1e60129e-c10e-4361-9c63-3ac0b970ef7c",
    "_uuid": "627f60e7-c8af-41a4-9f12-1f1e95fb491d",
    "collapsed": false,
    "execution": {
     "iopub.execute_input": "2023-10-22T01:51:04.844540Z",
     "iopub.status.busy": "2023-10-22T01:51:04.844046Z",
     "iopub.status.idle": "2023-10-22T01:51:04.849708Z",
     "shell.execute_reply": "2023-10-22T01:51:04.848003Z"
    },
    "jupyter": {
     "outputs_hidden": false
    },
    "papermill": {
     "duration": 0.070227,
     "end_time": "2023-10-22T01:51:04.851966",
     "exception": false,
     "start_time": "2023-10-22T01:51:04.781739",
     "status": "completed"
    },
    "tags": []
   },
   "outputs": [],
   "source": [
    "# print('Number of duplicated values in dataset: ', X.duplicated().sum())"
   ]
  },
  {
   "cell_type": "code",
   "execution_count": 54,
   "id": "de0d0754",
   "metadata": {
    "_cell_guid": "c2a7c2af-3cb8-4c42-998d-d259d20adf2d",
    "_uuid": "aba0e05a-e2e4-451b-86e0-9389363a1c31",
    "collapsed": false,
    "execution": {
     "iopub.execute_input": "2023-10-22T01:51:04.973453Z",
     "iopub.status.busy": "2023-10-22T01:51:04.972970Z",
     "iopub.status.idle": "2023-10-22T01:51:04.978366Z",
     "shell.execute_reply": "2023-10-22T01:51:04.977165Z"
    },
    "jupyter": {
     "outputs_hidden": false
    },
    "papermill": {
     "duration": 0.069371,
     "end_time": "2023-10-22T01:51:04.981034",
     "exception": false,
     "start_time": "2023-10-22T01:51:04.911663",
     "status": "completed"
    },
    "tags": []
   },
   "outputs": [],
   "source": [
    "#X.drop_duplicates(inplace=True)"
   ]
  },
  {
   "cell_type": "markdown",
   "id": "cdcf9099",
   "metadata": {
    "_cell_guid": "744e76d0-abca-457b-a266-ef200b5c2089",
    "_uuid": "5d990aae-96b5-41f0-8b53-46939843097e",
    "papermill": {
     "duration": 0.064162,
     "end_time": "2023-10-22T01:51:05.109530",
     "exception": false,
     "start_time": "2023-10-22T01:51:05.045368",
     "status": "completed"
    },
    "tags": []
   },
   "source": [
    "## Dealing with outliers"
   ]
  },
  {
   "cell_type": "markdown",
   "id": "69aa321c",
   "metadata": {
    "_cell_guid": "0909cbe5-19f4-4209-a4c8-ef19e67b5728",
    "_uuid": "7b8edcda-470a-4f1f-ac98-08749ba16395",
    "papermill": {
     "duration": 0.067033,
     "end_time": "2023-10-22T01:51:05.241110",
     "exception": false,
     "start_time": "2023-10-22T01:51:05.174077",
     "status": "completed"
    },
    "tags": []
   },
   "source": [
    "Removing outliers will prevent our models performance from being affected by extreme values. From our boxplot earlier, we can pinpointed features with extreme outliers and remove the them based on certain threshold value."
   ]
  },
  {
   "cell_type": "code",
   "execution_count": 55,
   "id": "cb1775ec",
   "metadata": {
    "_cell_guid": "b4cfba86-2958-4d5f-8e57-3fa1a6fdb1fa",
    "_uuid": "43f15f25-75be-4db5-8589-2b51e131c15e",
    "collapsed": false,
    "execution": {
     "iopub.execute_input": "2023-10-22T01:51:05.374199Z",
     "iopub.status.busy": "2023-10-22T01:51:05.372748Z",
     "iopub.status.idle": "2023-10-22T01:51:05.380060Z",
     "shell.execute_reply": "2023-10-22T01:51:05.379085Z"
    },
    "jupyter": {
     "outputs_hidden": false
    },
    "papermill": {
     "duration": 0.074492,
     "end_time": "2023-10-22T01:51:05.382587",
     "exception": false,
     "start_time": "2023-10-22T01:51:05.308095",
     "status": "completed"
    },
    "tags": []
   },
   "outputs": [],
   "source": [
    "# def preprocess_outliers(data):\n",
    "#     svm = SGDOneClassSVM(nu=0.55)\n",
    "#     yhat = svm.fit_predict(data.drop('id', axis=1))\n",
    "#     mask = yhat != -1\n",
    "#     data_SVM = data.loc[mask, :].reset_index(drop=True)\n",
    "   \n",
    "\n",
    "#     iso = IsolationForest(random_state=0)\n",
    "#     yhat = iso.fit_predict(data_SVM.drop('id', axis=1))\n",
    "#     mask = yhat != -1\n",
    "#     data_ISO = data_SVM.loc[mask, :].reset_index(drop=True)\n",
    "\n",
    "\n",
    "#     lof = LocalOutlierFactor(n_neighbors=3, contamination=0.1)\n",
    "#     yhat = lof.fit_predict(data_ISO.drop(['id', 'target'], axis=1))\n",
    "#     mask = yhat != -1\n",
    "#     data_final = data_ISO.loc[mask, :].reset_index(drop=True)\n",
    "  \n",
    "#     dp = np.random.choice(data_final[data_final[TARGET]==7].index.to_numpy(), 120, replace=False)\n",
    "#     return data_final.drop(dp)\n",
    "\n",
    "# X = preprocess_outliers(X)"
   ]
  },
  {
   "cell_type": "code",
   "execution_count": 56,
   "id": "4cfcb9ca",
   "metadata": {
    "execution": {
     "iopub.execute_input": "2023-10-22T01:51:05.514703Z",
     "iopub.status.busy": "2023-10-22T01:51:05.514243Z",
     "iopub.status.idle": "2023-10-22T01:51:05.519260Z",
     "shell.execute_reply": "2023-10-22T01:51:05.518074Z"
    },
    "papermill": {
     "duration": 0.07261,
     "end_time": "2023-10-22T01:51:05.521878",
     "exception": false,
     "start_time": "2023-10-22T01:51:05.449268",
     "status": "completed"
    },
    "tags": []
   },
   "outputs": [],
   "source": [
    "# X.shape"
   ]
  },
  {
   "cell_type": "code",
   "execution_count": 57,
   "id": "d390f9af",
   "metadata": {
    "_cell_guid": "e05b2f36-2365-44cf-ad77-3498abb84f03",
    "_uuid": "f8fa18cf-e0b1-477d-afb7-5c10b23e7d4c",
    "collapsed": false,
    "execution": {
     "iopub.execute_input": "2023-10-22T01:51:05.653672Z",
     "iopub.status.busy": "2023-10-22T01:51:05.653206Z",
     "iopub.status.idle": "2023-10-22T01:51:05.658406Z",
     "shell.execute_reply": "2023-10-22T01:51:05.657240Z"
    },
    "jupyter": {
     "outputs_hidden": false
    },
    "papermill": {
     "duration": 0.075665,
     "end_time": "2023-10-22T01:51:05.661663",
     "exception": false,
     "start_time": "2023-10-22T01:51:05.585998",
     "status": "completed"
    },
    "tags": []
   },
   "outputs": [],
   "source": [
    "# out_col = ['','','','','']\n",
    "# fig = plt.figure(figsize=(20,5))\n",
    "# for index,col in enumerate(out_col):\n",
    "#     plt.subplot(1,5,index+1)\n",
    "#     sns.boxplot(y=col, data=X)\n",
    "# fig.tight_layout(pad=1.5)"
   ]
  },
  {
   "cell_type": "markdown",
   "id": "355ca564",
   "metadata": {
    "_cell_guid": "f3b10a3f-8827-4967-b8a8-54f612dcccb9",
    "_uuid": "a804a60e-601d-4532-ad2a-132aa31e290b",
    "papermill": {
     "duration": 0.064789,
     "end_time": "2023-10-22T01:51:05.793280",
     "exception": false,
     "start_time": "2023-10-22T01:51:05.728491",
     "status": "completed"
    },
    "tags": []
   },
   "source": [
    "## Filling Missing Values"
   ]
  },
  {
   "cell_type": "markdown",
   "id": "a22e09c3",
   "metadata": {
    "_cell_guid": "ffe81114-6365-47ac-b9f3-00adf9d630de",
    "_uuid": "b17b9750-c97d-4053-82a7-c3c3bee2d2e3",
    "papermill": {
     "duration": 0.06594,
     "end_time": "2023-10-22T01:51:05.927001",
     "exception": false,
     "start_time": "2023-10-22T01:51:05.861061",
     "status": "completed"
    },
    "tags": []
   },
   "source": [
    "Machine learning model is unable to deal with missing values, thus we need to deal with them based on our understanding of the features. These missing values are denoted NAN as we have seen earlier during our data exploration."
   ]
  },
  {
   "cell_type": "code",
   "execution_count": 58,
   "id": "1b311c5f",
   "metadata": {
    "_cell_guid": "2c836361-f375-41a4-aba3-4cf125085841",
    "_uuid": "9fd055c5-19b0-4155-89e7-b2e985a6bbb6",
    "collapsed": false,
    "execution": {
     "iopub.execute_input": "2023-10-22T01:51:06.056633Z",
     "iopub.status.busy": "2023-10-22T01:51:06.056113Z",
     "iopub.status.idle": "2023-10-22T01:51:06.060667Z",
     "shell.execute_reply": "2023-10-22T01:51:06.059751Z"
    },
    "jupyter": {
     "outputs_hidden": false
    },
    "papermill": {
     "duration": 0.070712,
     "end_time": "2023-10-22T01:51:06.062786",
     "exception": false,
     "start_time": "2023-10-22T01:51:05.992074",
     "status": "completed"
    },
    "tags": []
   },
   "outputs": [],
   "source": [
    "# pd.DataFrame(X.isnull().sum(), columns=['sum']).sort_values(by=['sum'],ascending=False)"
   ]
  },
  {
   "cell_type": "markdown",
   "id": "9771c01e",
   "metadata": {
    "_cell_guid": "2f9dfeab-b511-42e6-9ea5-828452849e9a",
    "_uuid": "14910e62-daa7-4814-b508-66b9a9732dc2",
    "papermill": {
     "duration": 0.059112,
     "end_time": "2023-10-22T01:51:06.181892",
     "exception": false,
     "start_time": "2023-10-22T01:51:06.122780",
     "status": "completed"
    },
    "tags": []
   },
   "source": [
    "### Ordinal features"
   ]
  },
  {
   "cell_type": "markdown",
   "id": "d42d216f",
   "metadata": {
    "_cell_guid": "a219bc21-dcd5-44f9-84d6-9c791af81830",
    "_uuid": "9d2daf7c-20f0-47d6-8694-d7714b640020",
    "papermill": {
     "duration": 0.059954,
     "end_time": "2023-10-22T01:51:06.301630",
     "exception": false,
     "start_time": "2023-10-22T01:51:06.241676",
     "status": "completed"
    },
    "tags": []
   },
   "source": [
    "We will replace the ordinal missing values with NA, which will be mapped later on when we encode them into an ordered arrangement"
   ]
  },
  {
   "cell_type": "code",
   "execution_count": 59,
   "id": "3fde347d",
   "metadata": {
    "_cell_guid": "98945a1f-203f-401c-8022-181cd30192a4",
    "_uuid": "eb3f296e-45cd-4652-a4e7-d8699c263e1a",
    "collapsed": false,
    "execution": {
     "iopub.execute_input": "2023-10-22T01:51:06.422909Z",
     "iopub.status.busy": "2023-10-22T01:51:06.422426Z",
     "iopub.status.idle": "2023-10-22T01:51:06.428195Z",
     "shell.execute_reply": "2023-10-22T01:51:06.426892Z"
    },
    "jupyter": {
     "outputs_hidden": false
    },
    "papermill": {
     "duration": 0.069694,
     "end_time": "2023-10-22T01:51:06.430861",
     "exception": false,
     "start_time": "2023-10-22T01:51:06.361167",
     "status": "completed"
    },
    "tags": []
   },
   "outputs": [],
   "source": [
    "# X[ord_col] = X[ord_col].fillna(\"NA\")"
   ]
  },
  {
   "cell_type": "markdown",
   "id": "a9ee3846",
   "metadata": {
    "_cell_guid": "76bb2147-82a9-45df-a4f7-00c034f84fde",
    "_uuid": "b77aeb8c-394a-4a3c-9473-560609da61aa",
    "papermill": {
     "duration": 0.060553,
     "end_time": "2023-10-22T01:51:06.553013",
     "exception": false,
     "start_time": "2023-10-22T01:51:06.492460",
     "status": "completed"
    },
    "tags": []
   },
   "source": [
    "### Categorical features"
   ]
  },
  {
   "cell_type": "markdown",
   "id": "c5c51519",
   "metadata": {
    "_cell_guid": "d7e046f7-ead7-4419-bd79-b1f11d3af4b6",
    "_uuid": "f48d8c9c-f90b-470c-9afd-5704bdf4d0c0",
    "papermill": {
     "duration": 0.059149,
     "end_time": "2023-10-22T01:51:06.672071",
     "exception": false,
     "start_time": "2023-10-22T01:51:06.612922",
     "status": "completed"
    },
    "tags": []
   },
   "source": [
    "We will replace the missing value of our categorical features with the most frequent occurrence (mode) of the individual features."
   ]
  },
  {
   "cell_type": "code",
   "execution_count": 60,
   "id": "74c36a06",
   "metadata": {
    "_cell_guid": "c902270c-6f5e-4d2a-b62f-fd55c2f9d356",
    "_uuid": "1e701762-2930-45e2-9aa4-0f5af5b2f392",
    "collapsed": false,
    "execution": {
     "iopub.execute_input": "2023-10-22T01:51:06.793164Z",
     "iopub.status.busy": "2023-10-22T01:51:06.792721Z",
     "iopub.status.idle": "2023-10-22T01:51:06.797493Z",
     "shell.execute_reply": "2023-10-22T01:51:06.796297Z"
    },
    "jupyter": {
     "outputs_hidden": false
    },
    "papermill": {
     "duration": 0.068995,
     "end_time": "2023-10-22T01:51:06.800436",
     "exception": false,
     "start_time": "2023-10-22T01:51:06.731441",
     "status": "completed"
    },
    "tags": []
   },
   "outputs": [],
   "source": [
    "# X[cat_col] = X.groupby(\"CategoricalFeature\")[cat_col].transform(lambda x: x.fillna(x.mode()[0]))"
   ]
  },
  {
   "cell_type": "markdown",
   "id": "92e8d2a3",
   "metadata": {
    "_cell_guid": "577754fb-4658-4af3-bd28-1db2072a40d3",
    "_uuid": "8a380fcf-f64d-4c93-aab9-016f9e0fca0c",
    "papermill": {
     "duration": 0.059454,
     "end_time": "2023-10-22T01:51:06.919103",
     "exception": false,
     "start_time": "2023-10-22T01:51:06.859649",
     "status": "completed"
    },
    "tags": []
   },
   "source": [
    "### Numerical features"
   ]
  },
  {
   "cell_type": "markdown",
   "id": "33b64e15",
   "metadata": {
    "_cell_guid": "81fbc0d9-1ce2-4990-9aef-4d625a4345e5",
    "_uuid": "c204c358-c2be-4ade-a6d3-926c6907553e",
    "papermill": {
     "duration": 0.061072,
     "end_time": "2023-10-22T01:51:07.039873",
     "exception": false,
     "start_time": "2023-10-22T01:51:06.978801",
     "status": "completed"
    },
    "tags": []
   },
   "source": [
    "For Numerical Features, the common approach will be to replace the missing value with the mean of the feature distribution. However, certain features have wide variance in their distribution."
   ]
  },
  {
   "cell_type": "code",
   "execution_count": 61,
   "id": "58182067",
   "metadata": {
    "_cell_guid": "487acc51-063c-4ebb-8883-dbd8282f4a69",
    "_uuid": "ed1c2e3c-d8d5-47ae-b0df-68d6ce9e1df3",
    "collapsed": false,
    "execution": {
     "iopub.execute_input": "2023-10-22T01:51:07.164586Z",
     "iopub.status.busy": "2023-10-22T01:51:07.163696Z",
     "iopub.status.idle": "2023-10-22T01:51:07.168101Z",
     "shell.execute_reply": "2023-10-22T01:51:07.167196Z"
    },
    "jupyter": {
     "outputs_hidden": false
    },
    "papermill": {
     "duration": 0.070069,
     "end_time": "2023-10-22T01:51:07.170258",
     "exception": false,
     "start_time": "2023-10-22T01:51:07.100189",
     "status": "completed"
    },
    "tags": []
   },
   "outputs": [],
   "source": [
    "# print(\"Mean of : \", X[''].mean())\n",
    "# print(\"Mean of : \", X[''].mean())"
   ]
  },
  {
   "cell_type": "code",
   "execution_count": 62,
   "id": "26eb6d34",
   "metadata": {
    "_cell_guid": "f6bf52b7-7855-42b1-a847-594ddfde3a55",
    "_uuid": "c4f9d25b-9103-4d44-8794-d848b505c344",
    "collapsed": false,
    "execution": {
     "iopub.execute_input": "2023-10-22T01:51:07.294047Z",
     "iopub.status.busy": "2023-10-22T01:51:07.293623Z",
     "iopub.status.idle": "2023-10-22T01:51:07.299432Z",
     "shell.execute_reply": "2023-10-22T01:51:07.298458Z"
    },
    "jupyter": {
     "outputs_hidden": false
    },
    "papermill": {
     "duration": 0.070283,
     "end_time": "2023-10-22T01:51:07.302085",
     "exception": false,
     "start_time": "2023-10-22T01:51:07.231802",
     "status": "completed"
    },
    "tags": []
   },
   "outputs": [],
   "source": [
    "# neigh_lot = X.groupby('')[''].mean().reset_index(name='')\n",
    "# neigh_garage = X.groupby('')[''].mean().reset_index(name='')\n",
    "\n",
    "# fig, axes = plt.subplots(1,2,figsize=(22,8))\n",
    "# axes[0].tick_params(axis='x', rotation=90)\n",
    "# sns.barplot(x='', y='', data=neigh_lot, ax=axes[0])\n",
    "# axes[1].tick_params(axis='x', rotation=90)\n",
    "# sns.barplot(x='', y='', data=neigh_garage, ax=axes[1])"
   ]
  },
  {
   "cell_type": "code",
   "execution_count": 63,
   "id": "cf4bb248",
   "metadata": {
    "_cell_guid": "fb2361da-07a2-4edb-8438-7be46cbaed27",
    "_uuid": "de198346-ac18-4ffe-8e87-07ef2a0d631b",
    "collapsed": false,
    "execution": {
     "iopub.execute_input": "2023-10-22T01:51:07.423721Z",
     "iopub.status.busy": "2023-10-22T01:51:07.423217Z",
     "iopub.status.idle": "2023-10-22T01:51:07.428683Z",
     "shell.execute_reply": "2023-10-22T01:51:07.427375Z"
    },
    "jupyter": {
     "outputs_hidden": false
    },
    "papermill": {
     "duration": 0.068802,
     "end_time": "2023-10-22T01:51:07.430836",
     "exception": false,
     "start_time": "2023-10-22T01:51:07.362034",
     "status": "completed"
    },
    "tags": []
   },
   "outputs": [],
   "source": [
    "# #for correlated relationship\n",
    "# X[''] = X.groupby('')[''].transform(lambda x: x.fillna(x.mean()))\n",
    "\n",
    "# #numerical\n",
    "# X[num_col] = X[num_col] = X[num_col].fillna(X[num_col].mean())"
   ]
  },
  {
   "cell_type": "markdown",
   "id": "5dcd6d51",
   "metadata": {
    "_cell_guid": "2db7860c-3e80-4b51-9f70-50a9ab97b8fb",
    "_uuid": "0939cfb2-b5b3-4d03-85f5-b781395a80a9",
    "papermill": {
     "duration": 0.059136,
     "end_time": "2023-10-22T01:51:07.549472",
     "exception": false,
     "start_time": "2023-10-22T01:51:07.490336",
     "status": "completed"
    },
    "tags": []
   },
   "source": [
    "### Mapping ordinal features"
   ]
  },
  {
   "cell_type": "markdown",
   "id": "8001b54c",
   "metadata": {
    "_cell_guid": "1c377836-df6b-4f6a-a67b-2d22ed2bbe4f",
    "_uuid": "53131e81-44a0-48d7-a3e1-af2b27f5eb76",
    "papermill": {
     "duration": 0.059605,
     "end_time": "2023-10-22T01:51:07.669248",
     "exception": false,
     "start_time": "2023-10-22T01:51:07.609643",
     "status": "completed"
    },
    "tags": []
   },
   "source": [
    "May there are some columns which are ordinal by nature, which represents the quality or condition of certain features. We can map the respective strings to a value. The better the quality, the higher the value."
   ]
  },
  {
   "cell_type": "code",
   "execution_count": 64,
   "id": "aece192d",
   "metadata": {
    "_cell_guid": "1bda9dd0-f442-4622-9233-486095235182",
    "_uuid": "9f967ba5-973e-4b7f-8734-5d63e342ef26",
    "collapsed": false,
    "execution": {
     "iopub.execute_input": "2023-10-22T01:51:07.791253Z",
     "iopub.status.busy": "2023-10-22T01:51:07.790595Z",
     "iopub.status.idle": "2023-10-22T01:51:07.795222Z",
     "shell.execute_reply": "2023-10-22T01:51:07.794431Z"
    },
    "jupyter": {
     "outputs_hidden": false
    },
    "papermill": {
     "duration": 0.068662,
     "end_time": "2023-10-22T01:51:07.797410",
     "exception": false,
     "start_time": "2023-10-22T01:51:07.728748",
     "status": "completed"
    },
    "tags": []
   },
   "outputs": [],
   "source": [
    "# X.head"
   ]
  },
  {
   "cell_type": "code",
   "execution_count": 65,
   "id": "c2af225a",
   "metadata": {
    "_cell_guid": "ffb2d593-21e4-400d-9bd1-e1f9f6fc92f3",
    "_uuid": "088b4778-3ab8-4f5b-908e-06f64cc208d5",
    "collapsed": false,
    "execution": {
     "iopub.execute_input": "2023-10-22T01:51:07.919602Z",
     "iopub.status.busy": "2023-10-22T01:51:07.918277Z",
     "iopub.status.idle": "2023-10-22T01:51:07.923621Z",
     "shell.execute_reply": "2023-10-22T01:51:07.922799Z"
    },
    "jupyter": {
     "outputs_hidden": false
    },
    "papermill": {
     "duration": 0.068384,
     "end_time": "2023-10-22T01:51:07.925779",
     "exception": false,
     "start_time": "2023-10-22T01:51:07.857395",
     "status": "completed"
    },
    "tags": []
   },
   "outputs": [],
   "source": [
    "# ordinal_map = {'Ex': 5,'Gd': 4, 'TA': 3, 'Fa': 2, 'Po': 1, 'NA':0}\n",
    "# fintype_map = {'GLQ': 6,'ALQ': 5,'BLQ': 4,'Rec': 3,'LwQ': 2,'Unf': 1, 'NA': 0}\n",
    "# expose_map = {'Gd': 4, 'Av': 3, 'Mn': 2, 'No': 1, 'NA': 0}\n",
    "# fence_map = {'GdPrv': 4,'MnPrv': 3,'GdWo': 2, 'MnWw': 1,'NA': 0}"
   ]
  },
  {
   "cell_type": "code",
   "execution_count": 66,
   "id": "f8a61e5f",
   "metadata": {
    "_cell_guid": "dca2e4ef-e173-4db3-b11e-75fc37b6f7ef",
    "_uuid": "70703f9f-0c6f-412a-b427-5d501d5a75b3",
    "collapsed": false,
    "execution": {
     "iopub.execute_input": "2023-10-22T01:51:08.050504Z",
     "iopub.status.busy": "2023-10-22T01:51:08.049835Z",
     "iopub.status.idle": "2023-10-22T01:51:08.055935Z",
     "shell.execute_reply": "2023-10-22T01:51:08.054498Z"
    },
    "jupyter": {
     "outputs_hidden": false
    },
    "papermill": {
     "duration": 0.072915,
     "end_time": "2023-10-22T01:51:08.058505",
     "exception": false,
     "start_time": "2023-10-22T01:51:07.985590",
     "status": "completed"
    },
    "tags": []
   },
   "outputs": [],
   "source": [
    "# for col in ord_col:\n",
    "#     X[col] = X[col].map(ordinal_map)\n",
    "    \n",
    "# fin_col = ['','']\n",
    "# for col in fin_col:\n",
    "#     X[col] = X[col].map(fintype_map)\n",
    "\n",
    "# X[''] = X[''].map(expose_map)\n",
    "# X[''] = X[''].map(fence_map)"
   ]
  },
  {
   "cell_type": "code",
   "execution_count": 67,
   "id": "1da7fd53",
   "metadata": {
    "_cell_guid": "f19163a4-0fa1-4dc7-8cb8-c59b3ed107c4",
    "_uuid": "72c2e588-7ea2-4f04-b464-9a6e3b097a11",
    "collapsed": false,
    "execution": {
     "iopub.execute_input": "2023-10-22T01:51:08.180311Z",
     "iopub.status.busy": "2023-10-22T01:51:08.179857Z",
     "iopub.status.idle": "2023-10-22T01:51:08.184995Z",
     "shell.execute_reply": "2023-10-22T01:51:08.183656Z"
    },
    "jupyter": {
     "outputs_hidden": false
    },
    "papermill": {
     "duration": 0.069079,
     "end_time": "2023-10-22T01:51:08.187244",
     "exception": false,
     "start_time": "2023-10-22T01:51:08.118165",
     "status": "completed"
    },
    "tags": []
   },
   "outputs": [],
   "source": [
    "# cols = X.select_dtypes(np.number).drop(['id', TARGET], axis=1).columns\n",
    "\n",
    "# for i in cols:\n",
    "#     X[i]=RobustScaler().fit_transform(X[i].values.reshape(-1,1))\n",
    "\n",
    "# transformer = RobustScaler().fit(X[cols])\n",
    "# X[cols] = transformer.transform(X[cols])"
   ]
  },
  {
   "cell_type": "markdown",
   "id": "9a89b8bc",
   "metadata": {
    "_cell_guid": "5162dc2b-c972-4322-aae9-07682986e342",
    "_uuid": "436a56a4-a9af-4f08-991c-5d450e1bdbe2",
    "papermill": {
     "duration": 0.05876,
     "end_time": "2023-10-22T01:51:08.306732",
     "exception": false,
     "start_time": "2023-10-22T01:51:08.247972",
     "status": "completed"
    },
    "tags": []
   },
   "source": [
    "## Remove bad labels"
   ]
  },
  {
   "cell_type": "code",
   "execution_count": 68,
   "id": "b0bedcdd",
   "metadata": {
    "_cell_guid": "2f1fb488-bc4c-4784-b6e8-1934d6e343db",
    "_uuid": "adbfd166-db19-498e-b696-a2a30d549327",
    "collapsed": false,
    "execution": {
     "iopub.execute_input": "2023-10-22T01:51:08.427670Z",
     "iopub.status.busy": "2023-10-22T01:51:08.426318Z",
     "iopub.status.idle": "2023-10-22T01:51:08.432074Z",
     "shell.execute_reply": "2023-10-22T01:51:08.430831Z"
    },
    "jupyter": {
     "outputs_hidden": false
    },
    "papermill": {
     "duration": 0.069063,
     "end_time": "2023-10-22T01:51:08.434664",
     "exception": false,
     "start_time": "2023-10-22T01:51:08.365601",
     "status": "completed"
    },
    "tags": []
   },
   "outputs": [],
   "source": [
    "# def remove_bad_lbs(X, bad_lbs):\n",
    "#     return X[~X['id'].isin(bad_lbs)]"
   ]
  },
  {
   "cell_type": "code",
   "execution_count": 69,
   "id": "c5961f22",
   "metadata": {
    "_cell_guid": "32de03ff-b593-43f6-9f10-f807a2a3e917",
    "_uuid": "295d540c-11ac-44ea-9838-7351953652dd",
    "collapsed": false,
    "execution": {
     "iopub.execute_input": "2023-10-22T01:51:08.555069Z",
     "iopub.status.busy": "2023-10-22T01:51:08.554274Z",
     "iopub.status.idle": "2023-10-22T01:51:08.559818Z",
     "shell.execute_reply": "2023-10-22T01:51:08.558248Z"
    },
    "jupyter": {
     "outputs_hidden": false
    },
    "papermill": {
     "duration": 0.06859,
     "end_time": "2023-10-22T01:51:08.562186",
     "exception": false,
     "start_time": "2023-10-22T01:51:08.493596",
     "status": "completed"
    },
    "tags": []
   },
   "outputs": [],
   "source": [
    "# X = remove_bad_lbs(X,[])"
   ]
  },
  {
   "cell_type": "code",
   "execution_count": 70,
   "id": "0e6d1e62",
   "metadata": {
    "execution": {
     "iopub.execute_input": "2023-10-22T01:51:08.686091Z",
     "iopub.status.busy": "2023-10-22T01:51:08.684863Z",
     "iopub.status.idle": "2023-10-22T01:51:08.690705Z",
     "shell.execute_reply": "2023-10-22T01:51:08.689257Z"
    },
    "papermill": {
     "duration": 0.069961,
     "end_time": "2023-10-22T01:51:08.693210",
     "exception": false,
     "start_time": "2023-10-22T01:51:08.623249",
     "status": "completed"
    },
    "tags": []
   },
   "outputs": [],
   "source": [
    "# X.shape"
   ]
  },
  {
   "cell_type": "markdown",
   "id": "529fd274",
   "metadata": {
    "papermill": {
     "duration": 0.059313,
     "end_time": "2023-10-22T01:51:08.812985",
     "exception": false,
     "start_time": "2023-10-22T01:51:08.753672",
     "status": "completed"
    },
    "tags": []
   },
   "source": [
    "## Set useless features to zero"
   ]
  },
  {
   "cell_type": "markdown",
   "id": "0c075072",
   "metadata": {
    "papermill": {
     "duration": 0.059228,
     "end_time": "2023-10-22T01:51:08.932070",
     "exception": false,
     "start_time": "2023-10-22T01:51:08.872842",
     "status": "completed"
    },
    "tags": []
   },
   "source": [
    "We can also disable features that does not have any linear relationship with target identified on the Correlation analysis."
   ]
  },
  {
   "cell_type": "code",
   "execution_count": 71,
   "id": "7880cd12",
   "metadata": {
    "execution": {
     "iopub.execute_input": "2023-10-22T01:51:09.056123Z",
     "iopub.status.busy": "2023-10-22T01:51:09.054759Z",
     "iopub.status.idle": "2023-10-22T01:51:09.061118Z",
     "shell.execute_reply": "2023-10-22T01:51:09.059639Z"
    },
    "papermill": {
     "duration": 0.072158,
     "end_time": "2023-10-22T01:51:09.063758",
     "exception": false,
     "start_time": "2023-10-22T01:51:08.991600",
     "status": "completed"
    },
    "tags": []
   },
   "outputs": [],
   "source": [
    "# selected_features = []\n",
    "# for i in X.columns:\n",
    "#     if i not in selected_features:\n",
    "#         X[i] = 0"
   ]
  },
  {
   "cell_type": "code",
   "execution_count": 72,
   "id": "782ba0c6",
   "metadata": {
    "execution": {
     "iopub.execute_input": "2023-10-22T01:51:09.187059Z",
     "iopub.status.busy": "2023-10-22T01:51:09.186545Z",
     "iopub.status.idle": "2023-10-22T01:51:09.192310Z",
     "shell.execute_reply": "2023-10-22T01:51:09.191097Z"
    },
    "papermill": {
     "duration": 0.071232,
     "end_time": "2023-10-22T01:51:09.194590",
     "exception": false,
     "start_time": "2023-10-22T01:51:09.123358",
     "status": "completed"
    },
    "tags": []
   },
   "outputs": [],
   "source": [
    "#X.shape"
   ]
  },
  {
   "cell_type": "markdown",
   "id": "bc3dee20",
   "metadata": {
    "_cell_guid": "ad551464-3c19-42bf-a610-3ec2d53a01d8",
    "_uuid": "29cc00c1-bba1-4cc4-bccc-bed034ac4704",
    "papermill": {
     "duration": 0.059107,
     "end_time": "2023-10-22T01:51:09.313918",
     "exception": false,
     "start_time": "2023-10-22T01:51:09.254811",
     "status": "completed"
    },
    "tags": []
   },
   "source": [
    "# Feature Engineering <a class=\"anchor\"  id=\"chapter2\"></a>"
   ]
  },
  {
   "cell_type": "markdown",
   "id": "f7315ae4",
   "metadata": {
    "_cell_guid": "1b65da40-4d63-4af5-a524-5f74f32b437f",
    "_uuid": "18520f9c-194a-4c1a-a640-ece76e2ec945",
    "papermill": {
     "duration": 0.059284,
     "end_time": "2023-10-22T01:51:09.494864",
     "exception": false,
     "start_time": "2023-10-22T01:51:09.435580",
     "status": "completed"
    },
    "tags": []
   },
   "source": [
    "After removing the outliers, highly correlated features and imputing missing values, we can now proceed with adding additional information for our model to train on. This is done by the means of - Feature Engineering."
   ]
  },
  {
   "cell_type": "markdown",
   "id": "91db3f69",
   "metadata": {
    "_cell_guid": "5b0542e5-3636-4667-961b-e76f3af1a366",
    "_uuid": "bb54d53b-a777-4e72-a05b-33077e4058e1",
    "papermill": {
     "duration": 0.059209,
     "end_time": "2023-10-22T01:51:09.613883",
     "exception": false,
     "start_time": "2023-10-22T01:51:09.554674",
     "status": "completed"
    },
    "tags": []
   },
   "source": [
    "## Creating Features"
   ]
  },
  {
   "cell_type": "code",
   "execution_count": 73,
   "id": "3f6db042",
   "metadata": {
    "execution": {
     "iopub.execute_input": "2023-10-22T01:51:09.737454Z",
     "iopub.status.busy": "2023-10-22T01:51:09.736817Z",
     "iopub.status.idle": "2023-10-22T01:51:09.755351Z",
     "shell.execute_reply": "2023-10-22T01:51:09.754083Z"
    },
    "papermill": {
     "duration": 0.083442,
     "end_time": "2023-10-22T01:51:09.757959",
     "exception": false,
     "start_time": "2023-10-22T01:51:09.674517",
     "status": "completed"
    },
    "tags": []
   },
   "outputs": [],
   "source": [
    "def make_features(df):\n",
    "    \n",
    "    periods = 20\n",
    "    df[\"anglez\"] = abs(df[\"anglez\"])\n",
    "    df[\"anglez_diff\"] = df.groupby('series_id')['anglez'].diff(periods=periods).fillna(method=\"bfill\").astype('float16')\n",
    "    df[\"enmo_diff\"] = df.groupby('series_id')['enmo'].diff(periods=periods).fillna(method=\"bfill\").astype('float16')\n",
    "    df[\"anglez_rolling_mean\"] = df[\"anglez\"].rolling(periods,center=True).mean().fillna(method=\"bfill\").fillna(method=\"ffill\").astype('float16')\n",
    "    df[\"enmo_rolling_mean\"] = df[\"enmo\"].rolling(periods,center=True).mean().fillna(method=\"bfill\").fillna(method=\"ffill\").astype('float16')\n",
    "    df[\"anglez_rolling_max\"] = df[\"anglez\"].rolling(periods,center=True).max().fillna(method=\"bfill\").fillna(method=\"ffill\").astype('float16')\n",
    "    df[\"enmo_rolling_max\"] = df[\"enmo\"].rolling(periods,center=True).max().fillna(method=\"bfill\").fillna(method=\"ffill\").astype('float16')\n",
    "    df[\"anglez_rolling_std\"] = df[\"anglez\"].rolling(periods,center=True).std().fillna(method=\"bfill\").fillna(method=\"ffill\").astype('float16')\n",
    "    df[\"enmo_rolling_std\"] = df[\"enmo\"].rolling(periods,center=True).std().fillna(method=\"bfill\").fillna(method=\"ffill\").astype('float16')\n",
    "    df[\"anglez_diff_rolling_mean\"] = df[\"anglez_diff\"].rolling(periods,center=True).mean().fillna(method=\"bfill\").fillna(method=\"ffill\").astype('float16')\n",
    "    df[\"enmo_diff_rolling_mean\"] = df[\"enmo_diff\"].rolling(periods,center=True).mean().fillna(method=\"bfill\").fillna(method=\"ffill\").astype('float16')\n",
    "    df[\"anglez_diff_rolling_max\"] = df[\"anglez_diff\"].rolling(periods,center=True).max().fillna(method=\"bfill\").fillna(method=\"ffill\").astype('float16')\n",
    "    df[\"enmo_diff_rolling_max\"] = df[\"enmo_diff\"].rolling(periods,center=True).max().fillna(method=\"bfill\").fillna(method=\"ffill\").astype('float16')\n",
    "    \n",
    "    return df\n",
    "\n",
    "features = [\n",
    "            #\"series_id\",\n",
    "            \"step\",\n",
    "            \"hour\",\n",
    "            \"anglez\",\n",
    "            \"anglez_rolling_mean\",\n",
    "            \"anglez_rolling_max\",\n",
    "            \"anglez_rolling_std\",\n",
    "            \"anglez_diff\",\n",
    "            \"anglez_diff_rolling_mean\",\n",
    "            \"anglez_diff_rolling_max\",\n",
    "            \"enmo\",\n",
    "            \"enmo_rolling_mean\",\n",
    "            \"enmo_rolling_max\",\n",
    "            \"enmo_rolling_std\",\n",
    "            \"enmo_diff\",\n",
    "            \"enmo_diff_rolling_mean\",\n",
    "            \"enmo_diff_rolling_max\",\n",
    "           ]"
   ]
  },
  {
   "cell_type": "code",
   "execution_count": 74,
   "id": "9e190682",
   "metadata": {
    "_cell_guid": "04bad6eb-4f45-4378-9cf7-d07384366fc8",
    "_uuid": "d886dd5c-fd1c-47c2-af2d-475771f20d3d",
    "collapsed": false,
    "execution": {
     "iopub.execute_input": "2023-10-22T01:51:09.880526Z",
     "iopub.status.busy": "2023-10-22T01:51:09.879955Z",
     "iopub.status.idle": "2023-10-22T01:51:09.886845Z",
     "shell.execute_reply": "2023-10-22T01:51:09.885575Z"
    },
    "jupyter": {
     "outputs_hidden": false
    },
    "papermill": {
     "duration": 0.071896,
     "end_time": "2023-10-22T01:51:09.889216",
     "exception": false,
     "start_time": "2023-10-22T01:51:09.817320",
     "status": "completed"
    },
    "tags": []
   },
   "outputs": [],
   "source": [
    "# def mathematical_transforms(df):\n",
    "#     X = pd.DataFrame()\n",
    "#     #...\n",
    "#     return X\n",
    "\n",
    "\n",
    "# def interactions(df):\n",
    "#     X = pd.get_dummies(df., prefix=\"\")\n",
    "#     X = X.mul(df., axis=0)\n",
    "#     return X\n",
    "\n",
    "\n",
    "# def counts(df):\n",
    "#     X = pd.DataFrame()\n",
    "#     X[\"\"] = df[[\n",
    "#         \"\",\n",
    "#         \"\",\n",
    "#     ]].gt(0.0).sum(axis=1)\n",
    "#     return X\n",
    "\n",
    "\n",
    "# def break_down(df):\n",
    "#     X = pd.DataFrame()\n",
    "#     X[\"\"] = df. .str.split(\"_\", n=1, expand=True)[0]\n",
    "#     return X\n",
    "\n",
    "\n",
    "# def group_transforms(df):\n",
    "#     X = pd.DataFrame()\n",
    "#     X[\"\"] = df.groupby(\"\")[\"\"].transform(\"median\")\n",
    "#     return X\n",
    "\n",
    "# def label_encode(df):\n",
    "#     X = df.copy()\n",
    "#     for colname in X.select_dtypes([\"category\"]):\n",
    "#         X[colname] = X[colname].cat.codes\n",
    "#     return X"
   ]
  },
  {
   "cell_type": "markdown",
   "id": "aa8f1543",
   "metadata": {
    "_cell_guid": "397d691b-40f2-46d7-aa31-a2ae5f491129",
    "_uuid": "11e719bd-8ec4-49aa-8ada-bd373dcb93db",
    "papermill": {
     "duration": 0.060792,
     "end_time": "2023-10-22T01:51:10.010179",
     "exception": false,
     "start_time": "2023-10-22T01:51:09.949387",
     "status": "completed"
    },
    "tags": []
   },
   "source": [
    "## Skewed target"
   ]
  },
  {
   "cell_type": "code",
   "execution_count": 75,
   "id": "5d1c77bc",
   "metadata": {
    "_cell_guid": "3818676b-e2b5-443a-a7ae-3ba2a07e2d77",
    "_uuid": "53efa278-32ec-4547-905f-eefd56c2c9a4",
    "collapsed": false,
    "execution": {
     "iopub.execute_input": "2023-10-22T01:51:10.133858Z",
     "iopub.status.busy": "2023-10-22T01:51:10.133247Z",
     "iopub.status.idle": "2023-10-22T01:51:10.138494Z",
     "shell.execute_reply": "2023-10-22T01:51:10.137535Z"
    },
    "jupyter": {
     "outputs_hidden": false
    },
    "papermill": {
     "duration": 0.070144,
     "end_time": "2023-10-22T01:51:10.140604",
     "exception": false,
     "start_time": "2023-10-22T01:51:10.070460",
     "status": "completed"
    },
    "tags": []
   },
   "outputs": [],
   "source": [
    "# # before transforation\n",
    "# plt.figure(figsize=(10,6))\n",
    "# plt.title(\"Before transformation of Class\")\n",
    "# dist = sns.distplot(X[TARGET],norm_hist=False)"
   ]
  },
  {
   "cell_type": "markdown",
   "id": "c2d55af9",
   "metadata": {
    "_cell_guid": "831068d3-cb1c-4ca0-9063-b6760ca42386",
    "_uuid": "d632fde2-ac28-4ce4-afa6-f2ac171643c3",
    "papermill": {
     "duration": 0.059537,
     "end_time": "2023-10-22T01:51:10.259435",
     "exception": false,
     "start_time": "2023-10-22T01:51:10.199898",
     "status": "completed"
    },
    "tags": []
   },
   "source": [
    "Distribution is skewed to the right, where the tail on the curve’s right-hand side is longer than the tail on the left-hand side, and the mean is greater than the mode. This situation is also called positive skewness.\n",
    "Having a skewed target will affect the overall performance of our machine learning model, thus, one way to alleviate will be to using log transformation on skewed target reducing the skewness of the distribution."
   ]
  },
  {
   "cell_type": "code",
   "execution_count": 76,
   "id": "610bb230",
   "metadata": {
    "_cell_guid": "38cffba7-4a4c-4651-84a7-3cb27272b54d",
    "_uuid": "dd309c4c-3ab0-4a9f-ba5e-bfe07a56494b",
    "collapsed": false,
    "execution": {
     "iopub.execute_input": "2023-10-22T01:51:10.383272Z",
     "iopub.status.busy": "2023-10-22T01:51:10.382806Z",
     "iopub.status.idle": "2023-10-22T01:51:10.387401Z",
     "shell.execute_reply": "2023-10-22T01:51:10.386445Z"
    },
    "jupyter": {
     "outputs_hidden": false
    },
    "papermill": {
     "duration": 0.068016,
     "end_time": "2023-10-22T01:51:10.389461",
     "exception": false,
     "start_time": "2023-10-22T01:51:10.321445",
     "status": "completed"
    },
    "tags": []
   },
   "outputs": [],
   "source": [
    "# X[TARGET] = np.log(X[TARGET])"
   ]
  },
  {
   "cell_type": "code",
   "execution_count": 77,
   "id": "06277e69",
   "metadata": {
    "_cell_guid": "eef163b3-16eb-4b3e-a683-2eef22896c48",
    "_uuid": "03f71cf2-f211-418f-b016-c2d54e29c7d0",
    "collapsed": false,
    "execution": {
     "iopub.execute_input": "2023-10-22T01:51:10.513272Z",
     "iopub.status.busy": "2023-10-22T01:51:10.512088Z",
     "iopub.status.idle": "2023-10-22T01:51:10.518115Z",
     "shell.execute_reply": "2023-10-22T01:51:10.516665Z"
    },
    "jupyter": {
     "outputs_hidden": false
    },
    "papermill": {
     "duration": 0.071442,
     "end_time": "2023-10-22T01:51:10.520492",
     "exception": false,
     "start_time": "2023-10-22T01:51:10.449050",
     "status": "completed"
    },
    "tags": []
   },
   "outputs": [],
   "source": [
    "# # after transforation\n",
    "# plt.figure(figsize=(10,6))\n",
    "# plt.title(\"After transformation of Class\")\n",
    "# dist = sns.distplot(np.log(X[TARGET]),norm_hist=False)"
   ]
  },
  {
   "cell_type": "markdown",
   "id": "e5af623c",
   "metadata": {
    "_cell_guid": "c8586b74-b7b5-465d-8ee0-6668b185cbf0",
    "_uuid": "c0d7e2a1-34e1-4c20-9f8f-3391fe8f296c",
    "papermill": {
     "duration": 0.059717,
     "end_time": "2023-10-22T01:51:10.641444",
     "exception": false,
     "start_time": "2023-10-22T01:51:10.581727",
     "status": "completed"
    },
    "tags": []
   },
   "source": [
    "## Clustering K-Means or Cluster-distance"
   ]
  },
  {
   "cell_type": "markdown",
   "id": "209cd09a",
   "metadata": {
    "_cell_guid": "e5899210-047a-4fd8-8a35-c949394743c6",
    "_uuid": "355868b4-fb38-4e89-9d79-ff3c124c9203",
    "papermill": {
     "duration": 0.059012,
     "end_time": "2023-10-22T01:51:10.760171",
     "exception": false,
     "start_time": "2023-10-22T01:51:10.701159",
     "status": "completed"
    },
    "tags": []
   },
   "source": [
    "Clustering simply means the assigning of data points to groups based upon how similar the points are to each other. A clustering algorithm makes \"birds of a feather flock together,\" so to speak.\n",
    "\n",
    "When used for feature engineering, we could attempt to discover groups of customers representing a market segment, for instance, or geographic areas that share similar weather patterns. Adding a feature of cluster labels can help machine learning models untangle complicated relationships of space or proximity.\n",
    "\n",
    "K-means clustering measures similarity using ordinary straight-line distance (Euclidean distance, in other words). It creates clusters by placing a number of points, called centroids, inside the feature-space. Each point in the dataset is assigned to the cluster of whichever centroid it's closest to. The \"k\" in \"k-means\" is how many centroids (that is, clusters) it creates. You define the k yourself."
   ]
  },
  {
   "cell_type": "code",
   "execution_count": 78,
   "id": "15b9f96b",
   "metadata": {
    "_cell_guid": "45648e55-a858-462e-86df-bc6ec2ff449f",
    "_uuid": "7d58dc82-64a8-4777-866f-ddd5dd48ded0",
    "collapsed": false,
    "execution": {
     "iopub.execute_input": "2023-10-22T01:51:10.882516Z",
     "iopub.status.busy": "2023-10-22T01:51:10.881933Z",
     "iopub.status.idle": "2023-10-22T01:51:10.889376Z",
     "shell.execute_reply": "2023-10-22T01:51:10.887990Z"
    },
    "jupyter": {
     "outputs_hidden": false
    },
    "papermill": {
     "duration": 0.072618,
     "end_time": "2023-10-22T01:51:10.892377",
     "exception": false,
     "start_time": "2023-10-22T01:51:10.819759",
     "status": "completed"
    },
    "tags": []
   },
   "outputs": [],
   "source": [
    "# cluster_features = [\n",
    "#     \"\",\n",
    "#     \"\"\n",
    "# ]\n",
    "\n",
    "\n",
    "# def cluster_labels(df, features, n_clusters=20):\n",
    "#     X = df.copy()\n",
    "#     X_scaled = X.loc[:, features]\n",
    "#     X_scaled = (X_scaled - X_scaled.mean(axis=0)) / X_scaled.std(axis=0)\n",
    "#     kmeans = KMeans(n_clusters=n_clusters, n_init=50, random_state=0)\n",
    "#     X_new = pd.DataFrame()\n",
    "#     X_new[\"Cluster\"] = kmeans.fit_predict(X_scaled)\n",
    "#     return X_new\n",
    "\n",
    "\n",
    "# def cluster_distance(df, features, n_clusters=20):\n",
    "#     X = df.copy()\n",
    "#     X_scaled = X.loc[:, features]\n",
    "#     X_scaled = (X_scaled - X_scaled.mean(axis=0)) / X_scaled.std(axis=0)\n",
    "#     kmeans = KMeans(n_clusters=20, n_init=50, random_state=0)\n",
    "#     X_cd = kmeans.fit_transform(X_scaled)\n",
    "#     # Label features and join to dataset\n",
    "#     X_cd = pd.DataFrame(\n",
    "#         X_cd, columns=[f\"Centroid_{i}\" for i in range(X_cd.shape[1])]\n",
    "#     )\n",
    "#     return X_cd\n",
    "\n",
    "# def plot_cluester(X):\n",
    "#     Xy = X.copy()\n",
    "#     Xy[\"Cluster\"] = Xy.Cluster.astype(\"category\")\n",
    "#     Xy[TARGET] = y\n",
    "#     sns.relplot(\n",
    "#         x=\"value\", y=TARGET, hue=\"Cluster\", col=\"variable\",\n",
    "#         height=4, aspect=1, facet_kws={'sharex': False}, col_wrap=3,\n",
    "#         data=Xy.melt(\n",
    "#             value_vars=features, id_vars=[TARGET, \"Cluster\"],\n",
    "#         ),\n",
    "#     );"
   ]
  },
  {
   "cell_type": "code",
   "execution_count": 79,
   "id": "a0d63cd3",
   "metadata": {
    "_cell_guid": "d1ab954b-af7f-4970-8ee7-39a7f10c7c1e",
    "_uuid": "2ccdb776-d4f2-4ad8-80c8-f15a12e2a1f4",
    "collapsed": false,
    "execution": {
     "iopub.execute_input": "2023-10-22T01:51:11.017337Z",
     "iopub.status.busy": "2023-10-22T01:51:11.016851Z",
     "iopub.status.idle": "2023-10-22T01:51:11.021932Z",
     "shell.execute_reply": "2023-10-22T01:51:11.020674Z"
    },
    "jupyter": {
     "outputs_hidden": false
    },
    "papermill": {
     "duration": 0.071287,
     "end_time": "2023-10-22T01:51:11.024305",
     "exception": false,
     "start_time": "2023-10-22T01:51:10.953018",
     "status": "completed"
    },
    "tags": []
   },
   "outputs": [],
   "source": [
    "# plot_cluester(X)"
   ]
  },
  {
   "cell_type": "markdown",
   "id": "cfb1099d",
   "metadata": {
    "_cell_guid": "bdc2bd44-da9f-466c-aac3-19acdc66c228",
    "_uuid": "36331ebc-5b0b-4cab-aff1-8d74d84b052e",
    "papermill": {
     "duration": 0.061008,
     "end_time": "2023-10-22T01:51:11.145164",
     "exception": false,
     "start_time": "2023-10-22T01:51:11.084156",
     "status": "completed"
    },
    "tags": []
   },
   "source": [
    "## PCA"
   ]
  },
  {
   "cell_type": "markdown",
   "id": "91891b3e",
   "metadata": {
    "_cell_guid": "806ab8e9-d7c8-4638-93ba-f104805733de",
    "_uuid": "6fb48e00-a1a8-49f5-9b73-4bd407ac2012",
    "papermill": {
     "duration": 0.06013,
     "end_time": "2023-10-22T01:51:11.264755",
     "exception": false,
     "start_time": "2023-10-22T01:51:11.204625",
     "status": "completed"
    },
    "tags": []
   },
   "source": [
    "There are two ways you could use PCA for feature engineering.\n",
    "\n",
    "The first way is to use it as a descriptive technique. Since the components tell you about the variation, you could compute the MI scores for the components and see what kind of variation is most predictive of your target. That could give you ideas for kinds of features to create -- a product of 'Height' and 'Diameter' if 'Size' is important, say, or a ratio of 'Height' and 'Diameter' if Shape is important. You could even try clustering on one or more of the high-scoring components.\n",
    "\n",
    "The second way is to use the components themselves as features. Because the components expose the variational structure of the data directly, they can often be more informative than the original features."
   ]
  },
  {
   "cell_type": "markdown",
   "id": "91fd1d99",
   "metadata": {
    "_cell_guid": "4acdae92-68d3-49da-9093-fc4413ae3a36",
    "_uuid": "b012b33e-0ac7-4ae2-9642-100665e5dc60",
    "papermill": {
     "duration": 0.059222,
     "end_time": "2023-10-22T01:51:11.383538",
     "exception": false,
     "start_time": "2023-10-22T01:51:11.324316",
     "status": "completed"
    },
    "tags": []
   },
   "source": [
    "PCA Best Practices\n",
    "* There are a few things to keep in mind when applying PCA:\n",
    "* PCA only works with numeric features, like continuous quantities or counts.\n",
    "* PCA is sensitive to scale. It's good practice to standardize your data before applying PCA, unless you know you have good reason not to.\n",
    "* Consider removing or constraining outliers, since they can have an undue influence on the results."
   ]
  },
  {
   "cell_type": "markdown",
   "id": "e6beaef5",
   "metadata": {
    "_cell_guid": "b179c3ff-4609-47b0-ac63-95e2a25e5d46",
    "_uuid": "7dfa7a20-2958-4cef-9051-8b38d95d12b1",
    "papermill": {
     "duration": 0.05907,
     "end_time": "2023-10-22T01:51:11.502850",
     "exception": false,
     "start_time": "2023-10-22T01:51:11.443780",
     "status": "completed"
    },
    "tags": []
   },
   "source": [
    "Let's choose a few features that are highly correlated with our target."
   ]
  },
  {
   "cell_type": "code",
   "execution_count": 80,
   "id": "246a142a",
   "metadata": {
    "_cell_guid": "a4296ca3-4d66-49b5-b781-f584b2b517fe",
    "_uuid": "9b3c384e-a94a-44a0-b4e7-09abfd1e5c44",
    "collapsed": false,
    "execution": {
     "iopub.execute_input": "2023-10-22T01:51:11.625840Z",
     "iopub.status.busy": "2023-10-22T01:51:11.625332Z",
     "iopub.status.idle": "2023-10-22T01:51:11.633419Z",
     "shell.execute_reply": "2023-10-22T01:51:11.631309Z"
    },
    "jupyter": {
     "outputs_hidden": false
    },
    "papermill": {
     "duration": 0.072391,
     "end_time": "2023-10-22T01:51:11.636116",
     "exception": false,
     "start_time": "2023-10-22T01:51:11.563725",
     "status": "completed"
    },
    "tags": []
   },
   "outputs": [],
   "source": [
    "# def apply_pca(X, standardize=True):\n",
    "#     # Standardize\n",
    "#     if standardize:\n",
    "#         X = (X - X.mean(axis=0)) / X.std(axis=0)\n",
    "#     # Create principal components\n",
    "#     pca = PCA()\n",
    "#     X_pca = pca.fit_transform(X)\n",
    "#     # Convert to dataframe\n",
    "#     component_names = [f\"PC{i+1}\" for i in range(X_pca.shape[1])]\n",
    "#     X_pca = pd.DataFrame(X_pca, columns=component_names)\n",
    "#     # Create loadings\n",
    "#     loadings = pd.DataFrame(\n",
    "#         pca.components_.T,  # transpose the matrix of loadings\n",
    "#         columns=component_names,  # so the columns are the principal components\n",
    "#         index=X.columns,  # and the rows are the original features\n",
    "#     )\n",
    "#     return pca, X_pca, loadings\n",
    "\n",
    "\n",
    "# def plot_variance(pca, width=8, dpi=100):\n",
    "#     # Create figure\n",
    "#     fig, axs = plt.subplots(1, 2)\n",
    "#     n = pca.n_components_\n",
    "#     grid = np.arange(1, n + 1)\n",
    "#     # Explained variance\n",
    "#     evr = pca.explained_variance_ratio_\n",
    "#     axs[0].bar(grid, evr)\n",
    "#     axs[0].set(\n",
    "#         xlabel=\"Component\", title=\"% Explained Variance\", ylim=(0.0, 1.0)\n",
    "#     )\n",
    "#     # Cumulative Variance\n",
    "#     cv = np.cumsum(evr)\n",
    "#     axs[1].plot(np.r_[0, grid], np.r_[0, cv], \"o-\")\n",
    "#     axs[1].set(\n",
    "#         xlabel=\"Component\", title=\"% Cumulative Variance\", ylim=(0.0, 1.0)\n",
    "#     )\n",
    "#     # Set up figure\n",
    "#     fig.set(figwidth=8, dpi=100)\n",
    "#     return axs"
   ]
  },
  {
   "cell_type": "code",
   "execution_count": 81,
   "id": "05e9f487",
   "metadata": {
    "_cell_guid": "a07037f3-1126-40be-9b86-b422768a574a",
    "_uuid": "fb8f8aa6-a75f-4b87-8115-284055fead78",
    "collapsed": false,
    "execution": {
     "iopub.execute_input": "2023-10-22T01:51:11.758815Z",
     "iopub.status.busy": "2023-10-22T01:51:11.757772Z",
     "iopub.status.idle": "2023-10-22T01:51:11.765914Z",
     "shell.execute_reply": "2023-10-22T01:51:11.762785Z"
    },
    "jupyter": {
     "outputs_hidden": false
    },
    "papermill": {
     "duration": 0.072633,
     "end_time": "2023-10-22T01:51:11.768754",
     "exception": false,
     "start_time": "2023-10-22T01:51:11.696121",
     "status": "completed"
    },
    "tags": []
   },
   "outputs": [],
   "source": [
    "# #Let's choose a few features that are highly correlated with our target, SalePrice.\n",
    "# pca_features = [\n",
    "#     \"Amount\"\n",
    "# ]\n",
    "\n",
    "# def pca_inspired(df):\n",
    "#     X = pd.DataFrame()\n",
    "#     X[\"Amount\"] = df.Amount + df.\n",
    "#     X[\"Amount\"] = df. * df.\n",
    "#     return X\n",
    "\n",
    "\n",
    "# def pca_components(df, pca_features):\n",
    "#     X = df.loc[:, pca_features]\n",
    "#     _, X_pca, _ = apply_pca(X)\n",
    "#     return X_pca"
   ]
  },
  {
   "cell_type": "code",
   "execution_count": 82,
   "id": "e2a86b10",
   "metadata": {
    "_cell_guid": "89bca279-17c8-490d-a272-ce2ff367d691",
    "_uuid": "9fd25a01-1ea2-4143-99e1-967d6bd615b8",
    "collapsed": false,
    "execution": {
     "iopub.execute_input": "2023-10-22T01:51:11.893443Z",
     "iopub.status.busy": "2023-10-22T01:51:11.892497Z",
     "iopub.status.idle": "2023-10-22T01:51:11.898296Z",
     "shell.execute_reply": "2023-10-22T01:51:11.897290Z"
    },
    "jupyter": {
     "outputs_hidden": false
    },
    "papermill": {
     "duration": 0.069596,
     "end_time": "2023-10-22T01:51:11.900374",
     "exception": false,
     "start_time": "2023-10-22T01:51:11.830778",
     "status": "completed"
    },
    "tags": []
   },
   "outputs": [],
   "source": [
    "# def corrplot(df, method=\"pearson\", annot=True, **kwargs):\n",
    "#     sns.clustermap(\n",
    "#         df.corr(method),\n",
    "#         vmin=-1.0,\n",
    "#         vmax=1.0,\n",
    "#         cmap=\"icefire\",\n",
    "#         method=\"complete\",\n",
    "#         annot=annot,\n",
    "#         **kwargs,\n",
    "#     )\n",
    "\n",
    "# corrplot(df_train, annot=None)"
   ]
  },
  {
   "cell_type": "code",
   "execution_count": 83,
   "id": "9267f22d",
   "metadata": {
    "_cell_guid": "87bfefd6-e2a4-488f-9a1e-ff95b2217bba",
    "_uuid": "741dd06c-c40d-4622-8782-16194e57d339",
    "collapsed": false,
    "execution": {
     "iopub.execute_input": "2023-10-22T01:51:12.043511Z",
     "iopub.status.busy": "2023-10-22T01:51:12.042319Z",
     "iopub.status.idle": "2023-10-22T01:51:12.047988Z",
     "shell.execute_reply": "2023-10-22T01:51:12.046747Z"
    },
    "jupyter": {
     "outputs_hidden": false
    },
    "papermill": {
     "duration": 0.076463,
     "end_time": "2023-10-22T01:51:12.050581",
     "exception": false,
     "start_time": "2023-10-22T01:51:11.974118",
     "status": "completed"
    },
    "tags": []
   },
   "outputs": [],
   "source": [
    "# def indicate_outliers(df):\n",
    "#     X_new = pd.DataFrame()\n",
    "#     X_new[\"Outlier\"] = (df. == \"\") & (df. == \"\")\n",
    "#     return X_new"
   ]
  },
  {
   "cell_type": "markdown",
   "id": "fa96b54d",
   "metadata": {
    "_cell_guid": "0b7c5af9-d666-4f28-826b-1af8ebe82e20",
    "_uuid": "df05d8bf-22ec-421e-844c-158bf54b4ff5",
    "papermill": {
     "duration": 0.059669,
     "end_time": "2023-10-22T01:51:12.170322",
     "exception": false,
     "start_time": "2023-10-22T01:51:12.110653",
     "status": "completed"
    },
    "tags": []
   },
   "source": [
    "## Target Encoding"
   ]
  },
  {
   "cell_type": "markdown",
   "id": "fad7f173",
   "metadata": {
    "_cell_guid": "278f878a-c4a7-446b-a7d5-b3e4b6c8db2c",
    "_uuid": "cecd0f0e-8a1b-40ab-9d40-33487858caf6",
    "papermill": {
     "duration": 0.060341,
     "end_time": "2023-10-22T01:51:12.291050",
     "exception": false,
     "start_time": "2023-10-22T01:51:12.230709",
     "status": "completed"
    },
    "tags": []
   },
   "source": [
    "Target encoding, is instead meant for categorical features. It's a method of encoding categories as numbers, like one-hot or label encoding, with the difference that it also uses the target to create the encoding. This makes it what we call a supervised feature engineering technique."
   ]
  },
  {
   "cell_type": "markdown",
   "id": "22057c9c",
   "metadata": {
    "_cell_guid": "e62a6112-2ca4-41e2-9ac7-c73cb5ecf1cd",
    "_uuid": "b301ea20-82ef-434a-9ec7-e04d852743a9",
    "papermill": {
     "duration": 0.059187,
     "end_time": "2023-10-22T01:51:12.410116",
     "exception": false,
     "start_time": "2023-10-22T01:51:12.350929",
     "status": "completed"
    },
    "tags": []
   },
   "source": [
    "A target encoding is any kind of encoding that replaces a feature's categories with some number derived from the target."
   ]
  },
  {
   "cell_type": "markdown",
   "id": "57cf24b7",
   "metadata": {
    "_cell_guid": "7ce8d957-7487-48f4-a25b-863f6da52c0e",
    "_uuid": "d34e03bd-ea4d-4338-b410-da7aacb95677",
    "papermill": {
     "duration": 0.059206,
     "end_time": "2023-10-22T01:51:12.528828",
     "exception": false,
     "start_time": "2023-10-22T01:51:12.469622",
     "status": "completed"
    },
    "tags": []
   },
   "source": [
    "There is, however, a way you can use target encoding without having to use held-out encoding data. It's basically the same trick used in cross-validation:\n",
    "\n",
    "1. Split the data into folds, each fold having two splits of the dataset.\n",
    "1. Train the encoder on one split but transform the values of the other.\n",
    "1. Repeat for all the splits.\n",
    "\n",
    "This way, training and transformation always take place on independent sets of data, just like when you use a holdout set but without any data going to waste."
   ]
  },
  {
   "cell_type": "code",
   "execution_count": 84,
   "id": "d50009c6",
   "metadata": {
    "_cell_guid": "7de6a890-761a-4ab4-89e6-c25365750a12",
    "_uuid": "c4386236-bc3e-4661-be18-5aa999801f2c",
    "collapsed": false,
    "execution": {
     "iopub.execute_input": "2023-10-22T01:51:12.650026Z",
     "iopub.status.busy": "2023-10-22T01:51:12.649623Z",
     "iopub.status.idle": "2023-10-22T01:51:12.656805Z",
     "shell.execute_reply": "2023-10-22T01:51:12.655645Z"
    },
    "jupyter": {
     "outputs_hidden": false
    },
    "papermill": {
     "duration": 0.070597,
     "end_time": "2023-10-22T01:51:12.659123",
     "exception": false,
     "start_time": "2023-10-22T01:51:12.588526",
     "status": "completed"
    },
    "tags": []
   },
   "outputs": [],
   "source": [
    "# class CrossFoldEncoder:\n",
    "#     def __init__(self, encoder, **kwargs):\n",
    "#         self.encoder_ = encoder\n",
    "#         self.kwargs_ = kwargs  # keyword arguments for the encoder\n",
    "#         self.cv_ = KFold(n_splits=5)\n",
    "\n",
    "#     # Fit an encoder on one split and transform the feature on the\n",
    "#     # other. Iterating over the splits in all folds gives a complete\n",
    "#     # transformation. We also now have one trained encoder on each\n",
    "#     # fold.\n",
    "#     def fit_transform(self, X, y, cols):\n",
    "#         self.fitted_encoders_ = []\n",
    "#         self.cols_ = cols\n",
    "#         X_encoded = []\n",
    "#         for idx_encode, idx_train in self.cv_.split(X):\n",
    "#             fitted_encoder = self.encoder_(cols=cols, **self.kwargs_)\n",
    "#             fitted_encoder.fit(\n",
    "#                 X.iloc[idx_encode, :], y.iloc[idx_encode],\n",
    "#             )\n",
    "#             X_encoded.append(fitted_encoder.transform(X.iloc[idx_train, :])[cols])\n",
    "#             self.fitted_encoders_.append(fitted_encoder)\n",
    "#         X_encoded = pd.concat(X_encoded)\n",
    "#         X_encoded.columns = [name + \"_encoded\" for name in X_encoded.columns]\n",
    "#         return X_encoded\n",
    "\n",
    "#     # To transform the test data, average the encodings learned from\n",
    "#     # each fold.\n",
    "#     def transform(self, X):\n",
    "#         from functools import reduce\n",
    "\n",
    "#         X_encoded_list = []\n",
    "#         for fitted_encoder in self.fitted_encoders_:\n",
    "#             X_encoded = fitted_encoder.transform(X)\n",
    "#             X_encoded_list.append(X_encoded[self.cols_])\n",
    "#         X_encoded = reduce(\n",
    "#             lambda x, y: x.add(y, fill_value=0), X_encoded_list\n",
    "#         ) / len(X_encoded_list)\n",
    "#         X_encoded.columns = [name + \"_encoded\" for name in X_encoded.columns]\n",
    "#         return X_encoded"
   ]
  },
  {
   "cell_type": "markdown",
   "id": "5b22f9c8",
   "metadata": {
    "_cell_guid": "65895e08-2358-414d-8e14-dd72294788b5",
    "_uuid": "c3f003fa-d77c-404b-af29-416053c66081",
    "papermill": {
     "duration": 0.060352,
     "end_time": "2023-10-22T01:51:12.779711",
     "exception": false,
     "start_time": "2023-10-22T01:51:12.719359",
     "status": "completed"
    },
    "tags": []
   },
   "source": [
    "Usage:"
   ]
  },
  {
   "cell_type": "code",
   "execution_count": 85,
   "id": "14588805",
   "metadata": {
    "_cell_guid": "30bcd6c5-c862-4ef9-86c8-3d3ed1864664",
    "_uuid": "95d206d9-245d-4f74-b3b1-5975af6721bf",
    "collapsed": false,
    "execution": {
     "iopub.execute_input": "2023-10-22T01:51:12.901629Z",
     "iopub.status.busy": "2023-10-22T01:51:12.901109Z",
     "iopub.status.idle": "2023-10-22T01:51:12.907078Z",
     "shell.execute_reply": "2023-10-22T01:51:12.905588Z"
    },
    "jupyter": {
     "outputs_hidden": false
    },
    "papermill": {
     "duration": 0.070752,
     "end_time": "2023-10-22T01:51:12.910142",
     "exception": false,
     "start_time": "2023-10-22T01:51:12.839390",
     "status": "completed"
    },
    "tags": []
   },
   "outputs": [],
   "source": [
    "# encoder = CrossFoldEncoder(MEstimateEncoder, m=1)\n",
    "# X_encoded = encoder.fit_transform(X, y, cols=[\"\", \"\"])"
   ]
  },
  {
   "cell_type": "code",
   "execution_count": 86,
   "id": "eee34496",
   "metadata": {
    "_cell_guid": "ab61caa3-1042-405c-8f5d-7eb00126b00d",
    "_uuid": "da55e84b-870a-4a60-9891-8b2114f2f651",
    "collapsed": false,
    "execution": {
     "iopub.execute_input": "2023-10-22T01:51:13.051750Z",
     "iopub.status.busy": "2023-10-22T01:51:13.051331Z",
     "iopub.status.idle": "2023-10-22T01:51:13.057524Z",
     "shell.execute_reply": "2023-10-22T01:51:13.056263Z"
    },
    "jupyter": {
     "outputs_hidden": false
    },
    "papermill": {
     "duration": 0.081995,
     "end_time": "2023-10-22T01:51:13.059977",
     "exception": false,
     "start_time": "2023-10-22T01:51:12.977982",
     "status": "completed"
    },
    "tags": []
   },
   "outputs": [],
   "source": [
    "# X_encoded.head()"
   ]
  },
  {
   "cell_type": "code",
   "execution_count": 87,
   "id": "9f84af1e",
   "metadata": {
    "_cell_guid": "273a0228-0b4a-43e9-99f0-5484f7f13a52",
    "_uuid": "1dc7d407-8bbc-4858-b5cd-a0efbefe05e0",
    "collapsed": false,
    "execution": {
     "iopub.execute_input": "2023-10-22T01:51:13.194457Z",
     "iopub.status.busy": "2023-10-22T01:51:13.194062Z",
     "iopub.status.idle": "2023-10-22T01:51:13.198716Z",
     "shell.execute_reply": "2023-10-22T01:51:13.197528Z"
    },
    "jupyter": {
     "outputs_hidden": false
    },
    "papermill": {
     "duration": 0.072881,
     "end_time": "2023-10-22T01:51:13.200987",
     "exception": false,
     "start_time": "2023-10-22T01:51:13.128106",
     "status": "completed"
    },
    "tags": []
   },
   "outputs": [],
   "source": [
    "# X_encoded_t = encoder.transform(test)"
   ]
  },
  {
   "cell_type": "code",
   "execution_count": 88,
   "id": "98178d10",
   "metadata": {
    "_cell_guid": "4086e8d1-4fd8-4ef2-a5f6-176efdb80be9",
    "_uuid": "603f73be-7136-48d3-8003-1d2f698f59ed",
    "collapsed": false,
    "execution": {
     "iopub.execute_input": "2023-10-22T01:51:13.325839Z",
     "iopub.status.busy": "2023-10-22T01:51:13.325358Z",
     "iopub.status.idle": "2023-10-22T01:51:13.330001Z",
     "shell.execute_reply": "2023-10-22T01:51:13.328888Z"
    },
    "jupyter": {
     "outputs_hidden": false
    },
    "papermill": {
     "duration": 0.069515,
     "end_time": "2023-10-22T01:51:13.332242",
     "exception": false,
     "start_time": "2023-10-22T01:51:13.262727",
     "status": "completed"
    },
    "tags": []
   },
   "outputs": [],
   "source": [
    "# X_encoded_t"
   ]
  },
  {
   "cell_type": "code",
   "execution_count": 89,
   "id": "e0187f46",
   "metadata": {
    "_cell_guid": "8ec773ff-7683-44bc-8a13-1d44aa629ae0",
    "_uuid": "87220c8e-eda2-41e3-b69a-e7d90142a88b",
    "collapsed": false,
    "execution": {
     "iopub.execute_input": "2023-10-22T01:51:13.454642Z",
     "iopub.status.busy": "2023-10-22T01:51:13.453779Z",
     "iopub.status.idle": "2023-10-22T01:51:13.458548Z",
     "shell.execute_reply": "2023-10-22T01:51:13.457610Z"
    },
    "jupyter": {
     "outputs_hidden": false
    },
    "papermill": {
     "duration": 0.068528,
     "end_time": "2023-10-22T01:51:13.460671",
     "exception": false,
     "start_time": "2023-10-22T01:51:13.392143",
     "status": "completed"
    },
    "tags": []
   },
   "outputs": [],
   "source": [
    "# X.head()"
   ]
  },
  {
   "cell_type": "code",
   "execution_count": 90,
   "id": "43a5ccae",
   "metadata": {
    "_cell_guid": "5bb493e2-fbe8-4dc9-ab66-5306d36c238e",
    "_uuid": "c3d097f8-fab5-4e44-8de4-da2a18b413be",
    "collapsed": false,
    "execution": {
     "iopub.execute_input": "2023-10-22T01:51:13.583046Z",
     "iopub.status.busy": "2023-10-22T01:51:13.582045Z",
     "iopub.status.idle": "2023-10-22T01:51:13.588866Z",
     "shell.execute_reply": "2023-10-22T01:51:13.587298Z"
    },
    "jupyter": {
     "outputs_hidden": false
    },
    "papermill": {
     "duration": 0.071127,
     "end_time": "2023-10-22T01:51:13.591294",
     "exception": false,
     "start_time": "2023-10-22T01:51:13.520167",
     "status": "completed"
    },
    "tags": []
   },
   "outputs": [],
   "source": [
    "# X['Amount'] = X_encoded['Amount_encoded']\n",
    "# X['Time'] = X_encoded['Time_encoded']"
   ]
  },
  {
   "cell_type": "code",
   "execution_count": 91,
   "id": "bab28264",
   "metadata": {
    "_cell_guid": "2940914e-eb20-4e08-843b-6d94648e7530",
    "_uuid": "7e6985ae-b122-4efc-b104-41bde6af6e3f",
    "collapsed": false,
    "execution": {
     "iopub.execute_input": "2023-10-22T01:51:13.714836Z",
     "iopub.status.busy": "2023-10-22T01:51:13.714356Z",
     "iopub.status.idle": "2023-10-22T01:51:13.720181Z",
     "shell.execute_reply": "2023-10-22T01:51:13.718728Z"
    },
    "jupyter": {
     "outputs_hidden": false
    },
    "papermill": {
     "duration": 0.070696,
     "end_time": "2023-10-22T01:51:13.723013",
     "exception": false,
     "start_time": "2023-10-22T01:51:13.652317",
     "status": "completed"
    },
    "tags": []
   },
   "outputs": [],
   "source": [
    "# X = X.join(X_encoded)\n",
    "# test = test.join(X_encoded_t)"
   ]
  },
  {
   "cell_type": "code",
   "execution_count": 92,
   "id": "a88dcaad",
   "metadata": {
    "_cell_guid": "1bb6cf83-fd0c-4417-93b2-cfda25ef89d5",
    "_uuid": "0dbf0450-734e-4abb-ab4f-1de943c5e5e7",
    "collapsed": false,
    "execution": {
     "iopub.execute_input": "2023-10-22T01:51:13.848299Z",
     "iopub.status.busy": "2023-10-22T01:51:13.847730Z",
     "iopub.status.idle": "2023-10-22T01:51:13.853370Z",
     "shell.execute_reply": "2023-10-22T01:51:13.852102Z"
    },
    "jupyter": {
     "outputs_hidden": false
    },
    "papermill": {
     "duration": 0.071624,
     "end_time": "2023-10-22T01:51:13.856055",
     "exception": false,
     "start_time": "2023-10-22T01:51:13.784431",
     "status": "completed"
    },
    "tags": []
   },
   "outputs": [],
   "source": [
    "# X.head()"
   ]
  },
  {
   "cell_type": "code",
   "execution_count": 93,
   "id": "0530a65f",
   "metadata": {
    "_cell_guid": "088ab973-664e-40b7-adf9-f5be63d2e4de",
    "_uuid": "8929c826-ac93-4414-aa5d-f28e1206c3ab",
    "collapsed": false,
    "execution": {
     "iopub.execute_input": "2023-10-22T01:51:13.978436Z",
     "iopub.status.busy": "2023-10-22T01:51:13.977660Z",
     "iopub.status.idle": "2023-10-22T01:51:13.982216Z",
     "shell.execute_reply": "2023-10-22T01:51:13.981308Z"
    },
    "jupyter": {
     "outputs_hidden": false
    },
    "papermill": {
     "duration": 0.068381,
     "end_time": "2023-10-22T01:51:13.984498",
     "exception": false,
     "start_time": "2023-10-22T01:51:13.916117",
     "status": "completed"
    },
    "tags": []
   },
   "outputs": [],
   "source": [
    "# test"
   ]
  },
  {
   "cell_type": "markdown",
   "id": "8163bd3e",
   "metadata": {
    "_cell_guid": "30dfac1e-d96e-45d6-a57a-4b48e06bd152",
    "_uuid": "94df9013-4fda-4040-a7d6-94974f30d49f",
    "papermill": {
     "duration": 0.059135,
     "end_time": "2023-10-22T01:51:14.106300",
     "exception": false,
     "start_time": "2023-10-22T01:51:14.047165",
     "status": "completed"
    },
    "tags": []
   },
   "source": [
    "### Scaling Manual or by Pipeline"
   ]
  },
  {
   "cell_type": "markdown",
   "id": "68adb071",
   "metadata": {
    "_cell_guid": "e8206741-239b-4fa3-82ba-bb0c4f543175",
    "_uuid": "01b328e2-6029-4ade-ad05-bf1e3e1a32f9",
    "papermill": {
     "duration": 0.059293,
     "end_time": "2023-10-22T01:51:14.227058",
     "exception": false,
     "start_time": "2023-10-22T01:51:14.167765",
     "status": "completed"
    },
    "tags": []
   },
   "source": [
    "RobustScaler is a transformation technique that removes the median and scales the data according to the quantile range (defaults to IQR: Interquartile Range). The IQR is the range between the 1st quartile (25th quantile) and the 3rd quartile (75th quantile). It is also robust to outliers, which makes it ideal for data where there are too many outliers that will drastically reduce the number of training data.\n",
    "\n",
    "Fit RobustScaler on both Train and Test set is a mistake. By fitting the scaler on both train and test set, we exposed ourselves to the problem of Data Leakage. Data Leakage is a problem when information from outside the training dataset is used to create the model. If we fit the scaler on both training and test data, our training data characteristics will contain the distribution of our testset. As such, we are unknowningly passing in information about our test data into the final training data for training, which will not give us the opportunity to truly test our model on data it has never seen before.\n",
    "Fit the scaler just on training data, and then transforming it on both training and test data"
   ]
  },
  {
   "cell_type": "markdown",
   "id": "81081ce9",
   "metadata": {
    "_cell_guid": "ca41b9e8-a735-45f1-9eb6-24b3ab661f5a",
    "_uuid": "28e66896-1a7c-4b94-9666-429a27d03a0a",
    "papermill": {
     "duration": 0.060697,
     "end_time": "2023-10-22T01:51:14.347192",
     "exception": false,
     "start_time": "2023-10-22T01:51:14.286495",
     "status": "completed"
    },
    "tags": []
   },
   "source": [
    "If a distributions are very different for train and test set. This could cause serious problem, because the algorithm will be able to distinct between those sets more easily.\n",
    "\n",
    "We can convert the features by breaking it down into an hour of the dayfeature or drop it."
   ]
  },
  {
   "cell_type": "code",
   "execution_count": 94,
   "id": "18cea8bf",
   "metadata": {
    "_cell_guid": "0b42664b-8789-4f76-ad44-24a3ffb68b38",
    "_uuid": "65051040-221c-47d0-a14f-7431bfdf2ce2",
    "collapsed": false,
    "execution": {
     "iopub.execute_input": "2023-10-22T01:51:14.468810Z",
     "iopub.status.busy": "2023-10-22T01:51:14.467969Z",
     "iopub.status.idle": "2023-10-22T01:51:14.474215Z",
     "shell.execute_reply": "2023-10-22T01:51:14.472814Z"
    },
    "jupyter": {
     "outputs_hidden": false
    },
    "papermill": {
     "duration": 0.069752,
     "end_time": "2023-10-22T01:51:14.476404",
     "exception": false,
     "start_time": "2023-10-22T01:51:14.406652",
     "status": "completed"
    },
    "tags": []
   },
   "outputs": [],
   "source": [
    "# X = X.drop('', axis=1)\n",
    "# test = test.drop('', axis=1)"
   ]
  },
  {
   "cell_type": "code",
   "execution_count": 95,
   "id": "fd5d37bb",
   "metadata": {
    "_cell_guid": "3b9bce37-a649-457c-b316-539fbf8edfd8",
    "_uuid": "7af034d0-52c6-4c85-93b1-140f68683252",
    "collapsed": false,
    "execution": {
     "iopub.execute_input": "2023-10-22T01:51:14.599278Z",
     "iopub.status.busy": "2023-10-22T01:51:14.597822Z",
     "iopub.status.idle": "2023-10-22T01:51:14.603844Z",
     "shell.execute_reply": "2023-10-22T01:51:14.602624Z"
    },
    "jupyter": {
     "outputs_hidden": false
    },
    "papermill": {
     "duration": 0.070071,
     "end_time": "2023-10-22T01:51:14.606238",
     "exception": false,
     "start_time": "2023-10-22T01:51:14.536167",
     "status": "completed"
    },
    "tags": []
   },
   "outputs": [],
   "source": [
    "# X.head(10)"
   ]
  },
  {
   "cell_type": "code",
   "execution_count": 96,
   "id": "0329546a",
   "metadata": {
    "_cell_guid": "c0fc9f9f-f6d2-469f-9c99-5aba60c0fee8",
    "_uuid": "f541aa11-dbcd-4aa5-884c-2d2039e42b94",
    "collapsed": false,
    "execution": {
     "iopub.execute_input": "2023-10-22T01:51:14.728870Z",
     "iopub.status.busy": "2023-10-22T01:51:14.728157Z",
     "iopub.status.idle": "2023-10-22T01:51:14.733820Z",
     "shell.execute_reply": "2023-10-22T01:51:14.732352Z"
    },
    "jupyter": {
     "outputs_hidden": false
    },
    "papermill": {
     "duration": 0.070183,
     "end_time": "2023-10-22T01:51:14.736280",
     "exception": false,
     "start_time": "2023-10-22T01:51:14.666097",
     "status": "completed"
    },
    "tags": []
   },
   "outputs": [],
   "source": [
    "# cols = X.select_dtypes(np.number).drop(['id', TARGET], axis=1).columns\n",
    "\n",
    "# transformer = RobustScaler().fit(X[cols])\n",
    "# X[cols] = transformer.transform(X[cols])\n",
    "\n",
    "# # #test[cols] = transformer.transform(test[cols])"
   ]
  },
  {
   "cell_type": "code",
   "execution_count": 97,
   "id": "6b232b6c",
   "metadata": {
    "_cell_guid": "30039d5f-b6a7-412b-a20f-ae44857cdcfa",
    "_uuid": "7c846f22-22a2-4691-b884-1fe472f9c570",
    "collapsed": false,
    "execution": {
     "iopub.execute_input": "2023-10-22T01:51:14.859006Z",
     "iopub.status.busy": "2023-10-22T01:51:14.858443Z",
     "iopub.status.idle": "2023-10-22T01:51:14.865529Z",
     "shell.execute_reply": "2023-10-22T01:51:14.863702Z"
    },
    "jupyter": {
     "outputs_hidden": false
    },
    "papermill": {
     "duration": 0.07192,
     "end_time": "2023-10-22T01:51:14.868358",
     "exception": false,
     "start_time": "2023-10-22T01:51:14.796438",
     "status": "completed"
    },
    "tags": []
   },
   "outputs": [],
   "source": [
    "#cols"
   ]
  },
  {
   "cell_type": "code",
   "execution_count": 98,
   "id": "e2d41a29",
   "metadata": {
    "_cell_guid": "69f03457-60c5-4e77-9d53-d18e66fe8f62",
    "_uuid": "87ea540f-e188-4e06-a85b-e14b648b7f14",
    "collapsed": false,
    "execution": {
     "iopub.execute_input": "2023-10-22T01:51:14.989997Z",
     "iopub.status.busy": "2023-10-22T01:51:14.989597Z",
     "iopub.status.idle": "2023-10-22T01:51:14.994649Z",
     "shell.execute_reply": "2023-10-22T01:51:14.993655Z"
    },
    "jupyter": {
     "outputs_hidden": false
    },
    "papermill": {
     "duration": 0.068261,
     "end_time": "2023-10-22T01:51:14.996706",
     "exception": false,
     "start_time": "2023-10-22T01:51:14.928445",
     "status": "completed"
    },
    "tags": []
   },
   "outputs": [],
   "source": [
    "# X.head(10)"
   ]
  },
  {
   "cell_type": "code",
   "execution_count": 99,
   "id": "e96c807f",
   "metadata": {
    "execution": {
     "iopub.execute_input": "2023-10-22T01:51:15.119832Z",
     "iopub.status.busy": "2023-10-22T01:51:15.119347Z",
     "iopub.status.idle": "2023-10-22T01:51:31.199945Z",
     "shell.execute_reply": "2023-10-22T01:51:31.198420Z"
    },
    "papermill": {
     "duration": 16.145332,
     "end_time": "2023-10-22T01:51:31.203090",
     "exception": false,
     "start_time": "2023-10-22T01:51:15.057758",
     "status": "completed"
    },
    "tags": []
   },
   "outputs": [],
   "source": [
    "train = make_features(train)\n",
    "\n",
    "X = train[features]\n",
    "y = train['awake']"
   ]
  },
  {
   "cell_type": "code",
   "execution_count": 100,
   "id": "c5a0a602",
   "metadata": {
    "execution": {
     "iopub.execute_input": "2023-10-22T01:51:31.335729Z",
     "iopub.status.busy": "2023-10-22T01:51:31.335325Z",
     "iopub.status.idle": "2023-10-22T01:51:31.340806Z",
     "shell.execute_reply": "2023-10-22T01:51:31.339443Z"
    },
    "papermill": {
     "duration": 0.074743,
     "end_time": "2023-10-22T01:51:31.343421",
     "exception": false,
     "start_time": "2023-10-22T01:51:31.268678",
     "status": "completed"
    },
    "tags": []
   },
   "outputs": [],
   "source": [
    "#train"
   ]
  },
  {
   "cell_type": "markdown",
   "id": "29f1b9bb",
   "metadata": {
    "_cell_guid": "8478ea94-1fd8-4e89-ac18-4dd6a46e77c6",
    "_uuid": "f02b099c-3059-4279-8a3d-f90469f93338",
    "papermill": {
     "duration": 0.067448,
     "end_time": "2023-10-22T01:51:31.476399",
     "exception": false,
     "start_time": "2023-10-22T01:51:31.408951",
     "status": "completed"
    },
    "tags": []
   },
   "source": [
    "or pipeline"
   ]
  },
  {
   "cell_type": "code",
   "execution_count": 101,
   "id": "ef28e185",
   "metadata": {
    "_cell_guid": "cc8637d8-71c8-45e0-b104-336e87e173f5",
    "_uuid": "84cd80bf-b305-4c00-92c4-e9a9eccb845c",
    "collapsed": false,
    "execution": {
     "iopub.execute_input": "2023-10-22T01:51:31.604138Z",
     "iopub.status.busy": "2023-10-22T01:51:31.603427Z",
     "iopub.status.idle": "2023-10-22T01:51:34.080696Z",
     "shell.execute_reply": "2023-10-22T01:51:34.079515Z"
    },
    "jupyter": {
     "outputs_hidden": false
    },
    "papermill": {
     "duration": 2.54387,
     "end_time": "2023-10-22T01:51:34.083485",
     "exception": false,
     "start_time": "2023-10-22T01:51:31.539615",
     "status": "completed"
    },
    "tags": []
   },
   "outputs": [
    {
     "name": "stdout",
     "output_type": "stream",
     "text": [
      "Index(['step', 'anglez', 'enmo', 'hour', 'anglez_diff', 'enmo_diff',\n",
      "       'anglez_rolling_mean', 'enmo_rolling_mean', 'anglez_rolling_max',\n",
      "       'enmo_rolling_max', 'anglez_rolling_std', 'enmo_rolling_std',\n",
      "       'anglez_diff_rolling_mean', 'enmo_diff_rolling_mean',\n",
      "       'anglez_diff_rolling_max', 'enmo_diff_rolling_max'],\n",
      "      dtype='object')\n",
      "Index([], dtype='object')\n"
     ]
    }
   ],
   "source": [
    "features_num = train.select_dtypes(exclude=['object']).drop([TARGET], axis=1).copy().columns\n",
    "features_cat = train.select_dtypes(include=['object']).drop(['series_id'], axis=1).copy().columns \n",
    "\n",
    "print(features_num) \n",
    "print(features_cat)\n",
    "\n",
    "transformer_num = make_pipeline(\n",
    "    SimpleImputer(strategy=\"constant\"), # there are a few missing values\n",
    "    #StandardScaler(),\n",
    "    RobustScaler()\n",
    ")\n",
    "transformer_cat = make_pipeline(\n",
    "    SimpleImputer(strategy=\"constant\", fill_value=\"NA\"),\n",
    "    OneHotEncoder(handle_unknown='ignore'),\n",
    ")\n",
    "\n",
    "preprocessor = make_column_transformer(\n",
    "    (transformer_num, features_num),\n",
    "    (transformer_cat, features_cat)\n",
    ")"
   ]
  },
  {
   "cell_type": "code",
   "execution_count": 102,
   "id": "4f11f689",
   "metadata": {
    "execution": {
     "iopub.execute_input": "2023-10-22T01:51:34.215681Z",
     "iopub.status.busy": "2023-10-22T01:51:34.215054Z",
     "iopub.status.idle": "2023-10-22T01:51:34.219123Z",
     "shell.execute_reply": "2023-10-22T01:51:34.218203Z"
    },
    "papermill": {
     "duration": 0.073458,
     "end_time": "2023-10-22T01:51:34.221317",
     "exception": false,
     "start_time": "2023-10-22T01:51:34.147859",
     "status": "completed"
    },
    "tags": []
   },
   "outputs": [],
   "source": [
    "# X.shape"
   ]
  },
  {
   "cell_type": "code",
   "execution_count": 103,
   "id": "1e35ae0f",
   "metadata": {
    "execution": {
     "iopub.execute_input": "2023-10-22T01:51:34.454938Z",
     "iopub.status.busy": "2023-10-22T01:51:34.454481Z",
     "iopub.status.idle": "2023-10-22T01:51:34.458634Z",
     "shell.execute_reply": "2023-10-22T01:51:34.457806Z"
    },
    "papermill": {
     "duration": 0.174998,
     "end_time": "2023-10-22T01:51:34.460848",
     "exception": false,
     "start_time": "2023-10-22T01:51:34.285850",
     "status": "completed"
    },
    "tags": []
   },
   "outputs": [],
   "source": [
    "#X"
   ]
  },
  {
   "cell_type": "code",
   "execution_count": 104,
   "id": "69e2439a",
   "metadata": {
    "execution": {
     "iopub.execute_input": "2023-10-22T01:51:34.593327Z",
     "iopub.status.busy": "2023-10-22T01:51:34.592465Z",
     "iopub.status.idle": "2023-10-22T01:51:34.883966Z",
     "shell.execute_reply": "2023-10-22T01:51:34.882411Z"
    },
    "papermill": {
     "duration": 0.36187,
     "end_time": "2023-10-22T01:51:34.887182",
     "exception": false,
     "start_time": "2023-10-22T01:51:34.525312",
     "status": "completed"
    },
    "tags": []
   },
   "outputs": [],
   "source": [
    "# save some memory\n",
    "del train\n",
    "gc.collect();"
   ]
  },
  {
   "cell_type": "markdown",
   "id": "a08ab00b",
   "metadata": {
    "papermill": {
     "duration": 0.06432,
     "end_time": "2023-10-22T01:51:35.016469",
     "exception": false,
     "start_time": "2023-10-22T01:51:34.952149",
     "status": "completed"
    },
    "tags": []
   },
   "source": [
    "## Predict"
   ]
  },
  {
   "cell_type": "code",
   "execution_count": 105,
   "id": "36f1624a",
   "metadata": {
    "execution": {
     "iopub.execute_input": "2023-10-22T01:51:35.145256Z",
     "iopub.status.busy": "2023-10-22T01:51:35.144834Z",
     "iopub.status.idle": "2023-10-22T01:51:45.562274Z",
     "shell.execute_reply": "2023-10-22T01:51:45.560836Z"
    },
    "papermill": {
     "duration": 10.484423,
     "end_time": "2023-10-22T01:51:45.565345",
     "exception": false,
     "start_time": "2023-10-22T01:51:35.080922",
     "status": "completed"
    },
    "tags": []
   },
   "outputs": [],
   "source": [
    "X_train, X_valid, y_train, y_valid = train_test_split(X, y, test_size=0.2, random_state=2020)"
   ]
  },
  {
   "cell_type": "markdown",
   "id": "e9298417",
   "metadata": {
    "papermill": {
     "duration": 0.064075,
     "end_time": "2023-10-22T01:51:45.694380",
     "exception": false,
     "start_time": "2023-10-22T01:51:45.630305",
     "status": "completed"
    },
    "tags": []
   },
   "source": [
    "### Randomized search"
   ]
  },
  {
   "cell_type": "code",
   "execution_count": 106,
   "id": "52da1f19",
   "metadata": {
    "execution": {
     "iopub.execute_input": "2023-10-22T01:51:45.823236Z",
     "iopub.status.busy": "2023-10-22T01:51:45.822836Z",
     "iopub.status.idle": "2023-10-22T01:51:46.140306Z",
     "shell.execute_reply": "2023-10-22T01:51:46.138963Z"
    },
    "papermill": {
     "duration": 0.384608,
     "end_time": "2023-10-22T01:51:46.142954",
     "exception": false,
     "start_time": "2023-10-22T01:51:45.758346",
     "status": "completed"
    },
    "tags": []
   },
   "outputs": [],
   "source": [
    "# save some memory\n",
    "del X, y\n",
    "gc.collect();"
   ]
  },
  {
   "cell_type": "code",
   "execution_count": 107,
   "id": "2231c9cf",
   "metadata": {
    "execution": {
     "iopub.execute_input": "2023-10-22T01:51:46.274475Z",
     "iopub.status.busy": "2023-10-22T01:51:46.274020Z",
     "iopub.status.idle": "2023-10-22T03:16:25.682975Z",
     "shell.execute_reply": "2023-10-22T03:16:25.681561Z"
    },
    "papermill": {
     "duration": 5079.540188,
     "end_time": "2023-10-22T03:16:25.746584",
     "exception": false,
     "start_time": "2023-10-22T01:51:46.206396",
     "status": "completed"
    },
    "tags": []
   },
   "outputs": [
    {
     "name": "stdout",
     "output_type": "stream",
     "text": [
      "[01:51:52] WARNING: ../src/learner.cc:767: \n",
      "Parameters: { \"scale_pos_weight\" } are not used.\n",
      "\n",
      "---xgb---\n",
      "Score: 0.8456879818193203\n"
     ]
    }
   ],
   "source": [
    "xgb_pipeline = XGBModel(X_train, y_train, preprocessor)\n",
    "#lgbm_pipeline = LGBMModel(X_train, y_train, preprocessor)\n",
    "#cb_pipeline = CatBoostModel(X_train, y_train, preprocessor)\n",
    "\n",
    "def score_competition(X_valid, y_valid, xgb_pipeline, lgbm_pipeline, cb_pipeline):\n",
    "    validate_best_pipe(X_valid, y_valid, xgb_pipeline, lgbm_pipeline, cb_pipeline)\n",
    "\n",
    "score_competition(X_valid, y_valid, xgb_pipeline, None, None)"
   ]
  },
  {
   "cell_type": "code",
   "execution_count": 108,
   "id": "c0a4ca52",
   "metadata": {
    "execution": {
     "iopub.execute_input": "2023-10-22T03:16:25.870147Z",
     "iopub.status.busy": "2023-10-22T03:16:25.868898Z",
     "iopub.status.idle": "2023-10-22T03:16:25.876196Z",
     "shell.execute_reply": "2023-10-22T03:16:25.874873Z"
    },
    "papermill": {
     "duration": 0.072033,
     "end_time": "2023-10-22T03:16:25.878981",
     "exception": false,
     "start_time": "2023-10-22T03:16:25.806948",
     "status": "completed"
    },
    "tags": []
   },
   "outputs": [],
   "source": [
    "# xgb_pipeline"
   ]
  },
  {
   "cell_type": "markdown",
   "id": "b94d3efa",
   "metadata": {
    "papermill": {
     "duration": 0.061289,
     "end_time": "2023-10-22T03:16:26.004272",
     "exception": false,
     "start_time": "2023-10-22T03:16:25.942983",
     "status": "completed"
    },
    "tags": []
   },
   "source": [
    "or"
   ]
  },
  {
   "cell_type": "markdown",
   "id": "de939c1b",
   "metadata": {
    "papermill": {
     "duration": 0.143719,
     "end_time": "2023-10-22T03:16:26.210097",
     "exception": false,
     "start_time": "2023-10-22T03:16:26.066378",
     "status": "completed"
    },
    "tags": []
   },
   "source": [
    "### Cross validation"
   ]
  },
  {
   "cell_type": "code",
   "execution_count": 109,
   "id": "e8c6ca74",
   "metadata": {
    "execution": {
     "iopub.execute_input": "2023-10-22T03:16:26.332021Z",
     "iopub.status.busy": "2023-10-22T03:16:26.330486Z",
     "iopub.status.idle": "2023-10-22T03:16:26.337380Z",
     "shell.execute_reply": "2023-10-22T03:16:26.335884Z"
    },
    "papermill": {
     "duration": 0.070618,
     "end_time": "2023-10-22T03:16:26.340060",
     "exception": false,
     "start_time": "2023-10-22T03:16:26.269442",
     "status": "completed"
    },
    "tags": []
   },
   "outputs": [],
   "source": [
    "# def mean_cross_val(model, X, y):\n",
    "#     score = cross_val_score(model, X, y,scoring=\"accuracy\", cv=2)\n",
    "#     mean = score.mean()\n",
    "#     return mean"
   ]
  },
  {
   "cell_type": "markdown",
   "id": "f47ba52b",
   "metadata": {
    "papermill": {
     "duration": 0.058854,
     "end_time": "2023-10-22T03:16:26.459324",
     "exception": false,
     "start_time": "2023-10-22T03:16:26.400470",
     "status": "completed"
    },
    "tags": []
   },
   "source": [
    "### Basic model"
   ]
  },
  {
   "cell_type": "code",
   "execution_count": 110,
   "id": "32f42ab2",
   "metadata": {
    "execution": {
     "iopub.execute_input": "2023-10-22T03:16:26.583149Z",
     "iopub.status.busy": "2023-10-22T03:16:26.581528Z",
     "iopub.status.idle": "2023-10-22T03:16:26.586935Z",
     "shell.execute_reply": "2023-10-22T03:16:26.585975Z"
    },
    "papermill": {
     "duration": 0.070049,
     "end_time": "2023-10-22T03:16:26.589132",
     "exception": false,
     "start_time": "2023-10-22T03:16:26.519083",
     "status": "completed"
    },
    "tags": []
   },
   "outputs": [],
   "source": [
    "# xgb_pipeline = XGBClassifier(n_estimators=10)\n",
    "# xgb_pipeline.fit(X_train,y_train)\n",
    "# # xgm.score(X_valid,y_valid)"
   ]
  },
  {
   "cell_type": "code",
   "execution_count": 111,
   "id": "53b697ac",
   "metadata": {
    "_cell_guid": "c2154e1c-60b5-4004-a614-ba9f67af6e0c",
    "_uuid": "7a9a76b1-7995-4433-9cb3-167caa36e171",
    "collapsed": false,
    "execution": {
     "iopub.execute_input": "2023-10-22T03:16:26.711238Z",
     "iopub.status.busy": "2023-10-22T03:16:26.710324Z",
     "iopub.status.idle": "2023-10-22T03:16:26.715443Z",
     "shell.execute_reply": "2023-10-22T03:16:26.714472Z"
    },
    "jupyter": {
     "outputs_hidden": false
    },
    "papermill": {
     "duration": 0.06876,
     "end_time": "2023-10-22T03:16:26.717637",
     "exception": false,
     "start_time": "2023-10-22T03:16:26.648877",
     "status": "completed"
    },
    "tags": []
   },
   "outputs": [],
   "source": [
    "# X.head()"
   ]
  },
  {
   "cell_type": "code",
   "execution_count": 112,
   "id": "fd7b7389",
   "metadata": {
    "_cell_guid": "4342389d-f67d-4319-b538-5095117b775b",
    "_uuid": "6ee0d2e9-2fa5-4bd9-bd92-4267c1ecd79e",
    "collapsed": false,
    "execution": {
     "iopub.execute_input": "2023-10-22T03:16:26.839993Z",
     "iopub.status.busy": "2023-10-22T03:16:26.839120Z",
     "iopub.status.idle": "2023-10-22T03:16:26.843570Z",
     "shell.execute_reply": "2023-10-22T03:16:26.842636Z"
    },
    "jupyter": {
     "outputs_hidden": false
    },
    "papermill": {
     "duration": 0.068393,
     "end_time": "2023-10-22T03:16:26.845744",
     "exception": false,
     "start_time": "2023-10-22T03:16:26.777351",
     "status": "completed"
    },
    "tags": []
   },
   "outputs": [],
   "source": [
    "# X.shape"
   ]
  },
  {
   "cell_type": "code",
   "execution_count": 113,
   "id": "f537b913",
   "metadata": {
    "execution": {
     "iopub.execute_input": "2023-10-22T03:16:26.970807Z",
     "iopub.status.busy": "2023-10-22T03:16:26.969900Z",
     "iopub.status.idle": "2023-10-22T03:16:26.975833Z",
     "shell.execute_reply": "2023-10-22T03:16:26.974355Z"
    },
    "papermill": {
     "duration": 0.070941,
     "end_time": "2023-10-22T03:16:26.978215",
     "exception": false,
     "start_time": "2023-10-22T03:16:26.907274",
     "status": "completed"
    },
    "tags": []
   },
   "outputs": [],
   "source": [
    "# from sklearn.ensemble import RandomForestClassifier\n",
    "# xgb_pipeline = RandomForestClassifier(n_estimators=1,\n",
    "#                                     min_samples_leaf=300,\n",
    "#                                     random_state=42,n_jobs=-1)\n",
    "\n",
    "# xgb_pipeline.fit(X, y)"
   ]
  },
  {
   "cell_type": "code",
   "execution_count": 114,
   "id": "c028a831",
   "metadata": {
    "execution": {
     "iopub.execute_input": "2023-10-22T03:16:27.101569Z",
     "iopub.status.busy": "2023-10-22T03:16:27.101075Z",
     "iopub.status.idle": "2023-10-22T03:16:27.413546Z",
     "shell.execute_reply": "2023-10-22T03:16:27.411870Z"
    },
    "papermill": {
     "duration": 0.376565,
     "end_time": "2023-10-22T03:16:27.415886",
     "exception": false,
     "start_time": "2023-10-22T03:16:27.039321",
     "status": "completed"
    },
    "tags": []
   },
   "outputs": [],
   "source": [
    "# save some memory\n",
    "del X_train, X_valid, y_train, y_valid\n",
    "#del X, y\n",
    "gc.collect();"
   ]
  },
  {
   "cell_type": "markdown",
   "id": "3dc37305",
   "metadata": {
    "papermill": {
     "duration": 0.059699,
     "end_time": "2023-10-22T03:16:27.535247",
     "exception": false,
     "start_time": "2023-10-22T03:16:27.475548",
     "status": "completed"
    },
    "tags": []
   },
   "source": [
    "### Multiclass classification "
   ]
  },
  {
   "cell_type": "code",
   "execution_count": 115,
   "id": "63a7b6ea",
   "metadata": {
    "execution": {
     "iopub.execute_input": "2023-10-22T03:16:27.658498Z",
     "iopub.status.busy": "2023-10-22T03:16:27.658106Z",
     "iopub.status.idle": "2023-10-22T03:16:27.689965Z",
     "shell.execute_reply": "2023-10-22T03:16:27.688534Z"
    },
    "papermill": {
     "duration": 0.096626,
     "end_time": "2023-10-22T03:16:27.692904",
     "exception": false,
     "start_time": "2023-10-22T03:16:27.596278",
     "status": "completed"
    },
    "tags": []
   },
   "outputs": [],
   "source": [
    "test = (pl.scan_parquet(\"/kaggle/input/child-mind-institute-detect-sleep-states/test_series.parquet\")\n",
    "          .with_columns(\n",
    "              (pl.col(\"timestamp\")\n",
    "                 .str.strptime(pl.Datetime, \"%Y-%m-%dT%H:%M:%S%Z\")\n",
    "                 .dt.hour()\n",
    "                 .alias(\"hour\")\n",
    "              )\n",
    "          )\n",
    "          .drop(\"timestamp\")\n",
    "          .collect()\n",
    "          .to_pandas()\n",
    ")"
   ]
  },
  {
   "cell_type": "code",
   "execution_count": 116,
   "id": "81de3e7b",
   "metadata": {
    "execution": {
     "iopub.execute_input": "2023-10-22T03:16:27.816655Z",
     "iopub.status.busy": "2023-10-22T03:16:27.816103Z",
     "iopub.status.idle": "2023-10-22T03:16:27.874347Z",
     "shell.execute_reply": "2023-10-22T03:16:27.873005Z"
    },
    "papermill": {
     "duration": 0.123239,
     "end_time": "2023-10-22T03:16:27.877299",
     "exception": false,
     "start_time": "2023-10-22T03:16:27.754060",
     "status": "completed"
    },
    "tags": []
   },
   "outputs": [],
   "source": [
    "test = make_features(test)\n",
    "\n",
    "X_test = test[features]\n",
    "\n",
    "test[\"not_awake\"] = xgb_pipeline.predict_proba(X_test)[:,0]\n",
    "test[\"awake\"]     = xgb_pipeline.predict_proba(X_test)[:,1]\n",
    "\n",
    "# smoothing the predictions\n",
    "smoothing_length = 2 * 231\n",
    "test[\"score\"]  = test[\"awake\"].rolling(smoothing_length,center=True).mean().fillna(method=\"bfill\").fillna(method=\"ffill\")\n",
    "test[\"smooth\"] = test[\"not_awake\"].rolling(smoothing_length,center=True).mean().fillna(method=\"bfill\").fillna(method=\"ffill\")\n",
    "\n",
    "# re-binarize\n",
    "test[\"smooth\"] = test[\"smooth\"].round()\n",
    "\n",
    "def get_event(df):\n",
    "    lstCV = zip(df.series_id, df.smooth)\n",
    "    lstPOI = []\n",
    "    for (c, v), g in groupby(lstCV, lambda cv: (cv[0], cv[1] != 0 and not pd.isnull(cv[1]))):\n",
    "        llg = sum(1 for item in g)\n",
    "        if v is False:\n",
    "            lstPOI.extend([0] * llg)\n",
    "        else:\n",
    "            lstPOI.extend(['onset'] + (llg - 2) * [0] + ['wakeup'] if llg > 1 else [0])\n",
    "    return lstPOI\n",
    "\n",
    "test[\"event\"] = get_event(test)"
   ]
  },
  {
   "cell_type": "markdown",
   "id": "8f9e8b20",
   "metadata": {
    "papermill": {
     "duration": 0.059987,
     "end_time": "2023-10-22T03:16:27.997783",
     "exception": false,
     "start_time": "2023-10-22T03:16:27.937796",
     "status": "completed"
    },
    "tags": []
   },
   "source": [
    "### Binary classification "
   ]
  },
  {
   "cell_type": "code",
   "execution_count": 117,
   "id": "a89f5964",
   "metadata": {
    "execution": {
     "iopub.execute_input": "2023-10-22T03:16:28.124370Z",
     "iopub.status.busy": "2023-10-22T03:16:28.123906Z",
     "iopub.status.idle": "2023-10-22T03:16:28.129602Z",
     "shell.execute_reply": "2023-10-22T03:16:28.128264Z"
    },
    "papermill": {
     "duration": 0.07216,
     "end_time": "2023-10-22T03:16:28.131940",
     "exception": false,
     "start_time": "2023-10-22T03:16:28.059780",
     "status": "completed"
    },
    "tags": []
   },
   "outputs": [],
   "source": [
    "# test = make_features(test)\n",
    "\n",
    "# X_test = test[features]\n",
    "\n",
    "# test[\"score\"] = xgm.predict_proba(X_test)[:,1]\n",
    "\n",
    "# test[\"not_awake\"] = 1-test[\"score\"]\n",
    "# # exponential smoothing of the predictions\n",
    "# test[\"smooth\"] = test[\"not_awake\"].ewm(span = 100).mean()\n",
    "# # re-binarize\n",
    "# test[\"smooth\"] = test[\"smooth\"].round()\n",
    "\n",
    "# test[\"event\"] = get_event(test)"
   ]
  },
  {
   "cell_type": "code",
   "execution_count": 118,
   "id": "00d3d1eb",
   "metadata": {
    "execution": {
     "iopub.execute_input": "2023-10-22T03:16:28.256770Z",
     "iopub.status.busy": "2023-10-22T03:16:28.256165Z",
     "iopub.status.idle": "2023-10-22T03:16:28.262420Z",
     "shell.execute_reply": "2023-10-22T03:16:28.260954Z"
    },
    "papermill": {
     "duration": 0.071842,
     "end_time": "2023-10-22T03:16:28.265106",
     "exception": false,
     "start_time": "2023-10-22T03:16:28.193264",
     "status": "completed"
    },
    "tags": []
   },
   "outputs": [],
   "source": [
    "#test"
   ]
  },
  {
   "cell_type": "markdown",
   "id": "d773cb3f",
   "metadata": {
    "_cell_guid": "461dd8bc-ada9-4e89-bb1b-e154e9bfd23b",
    "_uuid": "97f71ac7-134a-4ee9-9031-f0a7bbf0eeff",
    "papermill": {
     "duration": 0.066425,
     "end_time": "2023-10-22T03:16:28.397066",
     "exception": false,
     "start_time": "2023-10-22T03:16:28.330641",
     "status": "completed"
    },
    "tags": []
   },
   "source": [
    "# Save test predictions to file"
   ]
  },
  {
   "cell_type": "code",
   "execution_count": 119,
   "id": "98973eba",
   "metadata": {
    "_cell_guid": "9146f2c1-1577-4a93-89a9-a7aa5f743541",
    "_uuid": "92b2d46d-289f-4b74-96c9-0e8a77e64f34",
    "collapsed": false,
    "execution": {
     "iopub.execute_input": "2023-10-22T03:16:28.528683Z",
     "iopub.status.busy": "2023-10-22T03:16:28.528208Z",
     "iopub.status.idle": "2023-10-22T03:16:28.541879Z",
     "shell.execute_reply": "2023-10-22T03:16:28.540638Z"
    },
    "jupyter": {
     "outputs_hidden": false
    },
    "papermill": {
     "duration": 0.082901,
     "end_time": "2023-10-22T03:16:28.544686",
     "exception": false,
     "start_time": "2023-10-22T03:16:28.461785",
     "status": "completed"
    },
    "tags": []
   },
   "outputs": [],
   "source": [
    "sample_submission = test.loc[test[\"event\"] != 0][[\"series_id\",\"step\",\"event\",\"score\"]].copy().reset_index(drop=True).reset_index(names=\"row_id\")\n",
    "sample_submission.to_csv('submission.csv', index=False)"
   ]
  },
  {
   "cell_type": "code",
   "execution_count": 120,
   "id": "c059a5b3",
   "metadata": {
    "execution": {
     "iopub.execute_input": "2023-10-22T03:16:28.677168Z",
     "iopub.status.busy": "2023-10-22T03:16:28.676764Z",
     "iopub.status.idle": "2023-10-22T03:16:28.682189Z",
     "shell.execute_reply": "2023-10-22T03:16:28.680641Z"
    },
    "papermill": {
     "duration": 0.073816,
     "end_time": "2023-10-22T03:16:28.684765",
     "exception": false,
     "start_time": "2023-10-22T03:16:28.610949",
     "status": "completed"
    },
    "tags": []
   },
   "outputs": [],
   "source": [
    "#sample_submission"
   ]
  }
 ],
 "metadata": {
  "kernelspec": {
   "display_name": "Python 3",
   "language": "python",
   "name": "python3"
  },
  "language_info": {
   "codemirror_mode": {
    "name": "ipython",
    "version": 3
   },
   "file_extension": ".py",
   "mimetype": "text/x-python",
   "name": "python",
   "nbconvert_exporter": "python",
   "pygments_lexer": "ipython3",
   "version": "3.10.12"
  },
  "papermill": {
   "default_parameters": {},
   "duration": 5187.312369,
   "end_time": "2023-10-22T03:16:31.568439",
   "environment_variables": {},
   "exception": null,
   "input_path": "__notebook__.ipynb",
   "output_path": "__notebook__.ipynb",
   "parameters": {},
   "start_time": "2023-10-22T01:50:04.256070",
   "version": "2.4.0"
  }
 },
 "nbformat": 4,
 "nbformat_minor": 5
}
